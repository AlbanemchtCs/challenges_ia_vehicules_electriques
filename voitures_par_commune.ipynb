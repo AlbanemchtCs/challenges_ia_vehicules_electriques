{
  "cells": [
    {
      "cell_type": "code",
      "execution_count": null,
      "metadata": {
        "id": "vf60y6qa33X8"
      },
      "outputs": [
        {
          "ename": "",
          "evalue": "",
          "output_type": "error",
          "traceback": [
            "\u001b[1;31mRunning cells with 'base' requires ipykernel package.\n",
            "\u001b[1;31mRun the following command to install 'ipykernel' into the Python environment. \n",
            "\u001b[1;31mCommand: 'conda install -n base ipykernel --update-deps --force-reinstall'"
          ]
        }
      ],
      "source": [
        "import pandas as pd\n",
        "import datetime\n",
        "import matplotlib.pyplot as plt\n",
        "from tqdm import tqdm\n",
        "\n",
        "# from google.colab import files\n",
        "# from google.colab import drive\n",
        "# drive.mount('/content/drive', force_remount=True)"
      ]
    },
    {
      "cell_type": "code",
      "execution_count": null,
      "metadata": {
        "colab": {
          "base_uri": "https://localhost:8080/"
        },
        "id": "elrWWeq_45D_",
        "outputId": "09647188-8645-4ef2-9b43-38b26feb6b10"
      },
      "outputs": [
        {
          "ename": "",
          "evalue": "",
          "output_type": "error",
          "traceback": [
            "\u001b[1;31mRunning cells with 'base' requires ipykernel package.\n",
            "\u001b[1;31mRun the following command to install 'ipykernel' into the Python environment. \n",
            "\u001b[1;31mCommand: 'conda install -n base ipykernel --update-deps --force-reinstall'"
          ]
        }
      ],
      "source": [
        "# df = pd.read_csv('/content/drive/MyDrive/Colab Notebooks/IA-Challenge/voitures-par-commune-par-energie.csv', sep=';')\n",
        "df = pd.read_csv('voitures-par-commune-par-energie.csv', sep=';')"
      ]
    },
    {
      "cell_type": "code",
      "execution_count": 6,
      "metadata": {
        "colab": {
          "base_uri": "https://localhost:8080/",
          "height": 528
        },
        "id": "0LFKBu1L4vkh",
        "outputId": "7f1cc996-fc83-4cc0-d703-d83b3e5b8e18"
      },
      "outputs": [
        {
          "name": "stderr",
          "output_type": "stream",
          "text": [
            "c:\\Users\\ilyes\\anaconda3\\lib\\site-packages\\pandas\\core\\tools\\datetimes.py:1047: UserWarning: Parsing '31/03/2022' in DD/MM/YYYY format. Provide format or specify infer_datetime_format=True for consistent parsing.\n",
            "  cache_array = _maybe_cache(arg, format, cache, convert_listlike)\n",
            "c:\\Users\\ilyes\\anaconda3\\lib\\site-packages\\pandas\\core\\tools\\datetimes.py:1047: UserWarning: Parsing '30/09/2022' in DD/MM/YYYY format. Provide format or specify infer_datetime_format=True for consistent parsing.\n",
            "  cache_array = _maybe_cache(arg, format, cache, convert_listlike)\n",
            "c:\\Users\\ilyes\\anaconda3\\lib\\site-packages\\pandas\\core\\tools\\datetimes.py:1047: UserWarning: Parsing '30/06/2021' in DD/MM/YYYY format. Provide format or specify infer_datetime_format=True for consistent parsing.\n",
            "  cache_array = _maybe_cache(arg, format, cache, convert_listlike)\n",
            "c:\\Users\\ilyes\\anaconda3\\lib\\site-packages\\pandas\\core\\tools\\datetimes.py:1047: UserWarning: Parsing '31/12/2020' in DD/MM/YYYY format. Provide format or specify infer_datetime_format=True for consistent parsing.\n",
            "  cache_array = _maybe_cache(arg, format, cache, convert_listlike)\n",
            "c:\\Users\\ilyes\\anaconda3\\lib\\site-packages\\pandas\\core\\tools\\datetimes.py:1047: UserWarning: Parsing '31/12/2021' in DD/MM/YYYY format. Provide format or specify infer_datetime_format=True for consistent parsing.\n",
            "  cache_array = _maybe_cache(arg, format, cache, convert_listlike)\n",
            "c:\\Users\\ilyes\\anaconda3\\lib\\site-packages\\pandas\\core\\tools\\datetimes.py:1047: UserWarning: Parsing '30/06/2022' in DD/MM/YYYY format. Provide format or specify infer_datetime_format=True for consistent parsing.\n",
            "  cache_array = _maybe_cache(arg, format, cache, convert_listlike)\n",
            "c:\\Users\\ilyes\\anaconda3\\lib\\site-packages\\pandas\\core\\tools\\datetimes.py:1047: UserWarning: Parsing '31/03/2021' in DD/MM/YYYY format. Provide format or specify infer_datetime_format=True for consistent parsing.\n",
            "  cache_array = _maybe_cache(arg, format, cache, convert_listlike)\n",
            "c:\\Users\\ilyes\\anaconda3\\lib\\site-packages\\pandas\\core\\tools\\datetimes.py:1047: UserWarning: Parsing '30/09/2021' in DD/MM/YYYY format. Provide format or specify infer_datetime_format=True for consistent parsing.\n",
            "  cache_array = _maybe_cache(arg, format, cache, convert_listlike)\n"
          ]
        },
        {
          "data": {
            "text/html": [
              "<div>\n",
              "<style scoped>\n",
              "    .dataframe tbody tr th:only-of-type {\n",
              "        vertical-align: middle;\n",
              "    }\n",
              "\n",
              "    .dataframe tbody tr th {\n",
              "        vertical-align: top;\n",
              "    }\n",
              "\n",
              "    .dataframe thead th {\n",
              "        text-align: right;\n",
              "    }\n",
              "</style>\n",
              "<table border=\"1\" class=\"dataframe\">\n",
              "  <thead>\n",
              "    <tr style=\"text-align: right;\">\n",
              "      <th></th>\n",
              "      <th>libgeo</th>\n",
              "      <th>date_arrete</th>\n",
              "      <th>nb_vp_rechargeables_el</th>\n",
              "    </tr>\n",
              "  </thead>\n",
              "  <tbody>\n",
              "    <tr>\n",
              "      <th>197660</th>\n",
              "      <td>AAST</td>\n",
              "      <td>2020-12-31</td>\n",
              "      <td>2.0</td>\n",
              "    </tr>\n",
              "    <tr>\n",
              "      <th>251050</th>\n",
              "      <td>AAST</td>\n",
              "      <td>2021-03-31</td>\n",
              "      <td>2.0</td>\n",
              "    </tr>\n",
              "    <tr>\n",
              "      <th>36794</th>\n",
              "      <td>AAST</td>\n",
              "      <td>2021-06-30</td>\n",
              "      <td>2.0</td>\n",
              "    </tr>\n",
              "    <tr>\n",
              "      <th>197661</th>\n",
              "      <td>AAST</td>\n",
              "      <td>2021-09-30</td>\n",
              "      <td>2.0</td>\n",
              "    </tr>\n",
              "    <tr>\n",
              "      <th>197662</th>\n",
              "      <td>AAST</td>\n",
              "      <td>2021-12-31</td>\n",
              "      <td>2.0</td>\n",
              "    </tr>\n",
              "    <tr>\n",
              "      <th>...</th>\n",
              "      <td>...</td>\n",
              "      <td>...</td>\n",
              "      <td>...</td>\n",
              "    </tr>\n",
              "    <tr>\n",
              "      <th>178650</th>\n",
              "      <td>Ô-DE-SELLE</td>\n",
              "      <td>2021-09-30</td>\n",
              "      <td>7.0</td>\n",
              "    </tr>\n",
              "    <tr>\n",
              "      <th>178651</th>\n",
              "      <td>Ô-DE-SELLE</td>\n",
              "      <td>2021-12-31</td>\n",
              "      <td>10.0</td>\n",
              "    </tr>\n",
              "    <tr>\n",
              "      <th>17727</th>\n",
              "      <td>Ô-DE-SELLE</td>\n",
              "      <td>2022-03-31</td>\n",
              "      <td>12.0</td>\n",
              "    </tr>\n",
              "    <tr>\n",
              "      <th>234432</th>\n",
              "      <td>Ô-DE-SELLE</td>\n",
              "      <td>2022-06-30</td>\n",
              "      <td>15.0</td>\n",
              "    </tr>\n",
              "    <tr>\n",
              "      <th>17728</th>\n",
              "      <td>Ô-DE-SELLE</td>\n",
              "      <td>2022-09-30</td>\n",
              "      <td>17.0</td>\n",
              "    </tr>\n",
              "  </tbody>\n",
              "</table>\n",
              "<p>281429 rows × 3 columns</p>\n",
              "</div>"
            ],
            "text/plain": [
              "            libgeo date_arrete  nb_vp_rechargeables_el\n",
              "197660        AAST  2020-12-31                     2.0\n",
              "251050        AAST  2021-03-31                     2.0\n",
              "36794         AAST  2021-06-30                     2.0\n",
              "197661        AAST  2021-09-30                     2.0\n",
              "197662        AAST  2021-12-31                     2.0\n",
              "...            ...         ...                     ...\n",
              "178650  Ô-DE-SELLE  2021-09-30                     7.0\n",
              "178651  Ô-DE-SELLE  2021-12-31                    10.0\n",
              "17727   Ô-DE-SELLE  2022-03-31                    12.0\n",
              "234432  Ô-DE-SELLE  2022-06-30                    15.0\n",
              "17728   Ô-DE-SELLE  2022-09-30                    17.0\n",
              "\n",
              "[281429 rows x 3 columns]"
            ]
          },
          "execution_count": 6,
          "metadata": {},
          "output_type": "execute_result"
        }
      ],
      "source": [
        "df = df[['libgeo', 'date_arrete', 'nb_vp_rechargeables_el']]\n",
        "df['date_arrete'] = pd.to_datetime(df['date_arrete'])\n",
        "df = df.sort_values(by = ['libgeo', 'date_arrete'])\n",
        "df = df.dropna(axis=0)\n",
        "df"
      ]
    },
    {
      "cell_type": "code",
      "execution_count": 7,
      "metadata": {
        "id": "UwutNmZz8TJp"
      },
      "outputs": [],
      "source": [
        "len = len(df['libgeo'].unique())"
      ]
    },
    {
      "cell_type": "code",
      "execution_count": 8,
      "metadata": {
        "id": "Lt_HfFqY9EDW"
      },
      "outputs": [],
      "source": [
        "df21_mar = df[df['date_arrete'] == datetime.datetime(2021,3,31)]\n",
        "df21_jun = df[df['date_arrete'] == datetime.datetime(2021,6,30)]\n",
        "df21_sep = df[df['date_arrete'] == datetime.datetime(2021,9,30)]\n",
        "df21_dec = df[df['date_arrete'] == datetime.datetime(2021,12,31)]\n",
        "\n",
        "df20_dec = df[df['date_arrete'] == datetime.datetime(2020,12,31)]\n",
        "df22_sep = df[df['date_arrete'] >= datetime.datetime(2022,9,30)]"
      ]
    },
    {
      "cell_type": "code",
      "execution_count": 9,
      "metadata": {
        "colab": {
          "base_uri": "https://localhost:8080/"
        },
        "id": "km_fKYb6_am2",
        "outputId": "1eff53b7-a193-474a-cb01-2bd99b71b694"
      },
      "outputs": [
        {
          "name": "stdout",
          "output_type": "stream",
          "text": [
            "2020 : 414963.0\n",
            "2021 : 725976.0\n",
            "2022 - sep : 960396.0\n"
          ]
        }
      ],
      "source": [
        "print('2020 :', df20_dec['nb_vp_rechargeables_el'].sum())\n",
        "print('2021 :', df21_dec['nb_vp_rechargeables_el'].sum())\n",
        "print('2022 - sep :', df22_sep['nb_vp_rechargeables_el'].sum())"
      ]
    },
    {
      "cell_type": "code",
      "execution_count": 10,
      "metadata": {
        "colab": {
          "base_uri": "https://localhost:8080/"
        },
        "id": "uxyEey3htlVS",
        "outputId": "0c831c21-5ade-49d6-a7b8-530f412ef36c"
      },
      "outputs": [
        {
          "data": {
            "text/plain": [
              "{2010: 0.1,\n",
              " 2011: 1.8,\n",
              " 2012: 7.1,\n",
              " 2013: 16.2,\n",
              " 2014: 27.9,\n",
              " 2015: 49.6,\n",
              " 2016: 79.0,\n",
              " 2017: 118.3,\n",
              " 2018: 171.8,\n",
              " 2019: 241.4,\n",
              " 2020: 439.2,\n",
              " 2021: 756.4,\n",
              " 2022: 1102.9}"
            ]
          },
          "execution_count": 10,
          "metadata": {},
          "output_type": "execute_result"
        }
      ],
      "source": [
        "# milliers\n",
        "total_ve = {2010: 0.1, 2011: 1.8, 2012: 7.1, 2013: 16.2, 2014: 27.9, 2015: 49.6, 2016: 79.0, 2017: 118.3, 2018: 171.8, 2019: 241.4, 2020: 439.2, 2021: 756.4, 2022: 1102.9}\n",
        "\n",
        "total_ve"
      ]
    },
    {
      "cell_type": "code",
      "execution_count": 11,
      "metadata": {
        "colab": {
          "base_uri": "https://localhost:8080/"
        },
        "id": "fQRA-bpK54Yb",
        "outputId": "1e96f5d8-2cf8-40c4-da3c-bdd63847489e"
      },
      "outputs": [],
      "source": [
        "df_old = df.copy()\n",
        "df_old = df_old.drop(df_old.index)\n",
        "\n",
        "dfs = {3: df21_mar, 6: df21_jun, 9: df21_sep, 12: df21_dec}\n",
        "\n",
        "def per_ve(geo, m):\n",
        "  # ratio of ve from geo to total national\n",
        "  df21 = dfs[m]\n",
        "  tot_21_ve = int(df21['nb_vp_rechargeables_el'].sum())\n",
        "  tot_geo = int(df21[df21['libgeo'] == geo]['nb_vp_rechargeables_el'].sum())\n",
        "  p = (tot_geo) / (tot_21_ve)\n",
        "  return p\n",
        "\n",
        "def ve(geo, y, m):\n",
        "  # on considère que le nombre ne change pas au cours de l'année : il faudrait interpoler pour avoir des valeurs totales par trimestre\n",
        "  # nb ve in y\n",
        "  t = total_ve[y]*1000\n",
        "  # nb of ve for geo in y\n",
        "  nb = per_ve(geo, m)*t\n",
        "  nb=int(nb)\n",
        "  return nb\n",
        "\n",
        "def fill(start_year, end_year):\n",
        "  libgeo = []\n",
        "  date_arrete = []\n",
        "  nb_vp_rechargeables_el = []\n",
        "\n",
        "  months = [3, 6, 9, 12]\n",
        "  days = [31, 30, 30, 31]\n",
        "\n",
        "  # progress bar\n",
        "  pbar = tqdm(total=len, desc='Communes traitées')\n",
        "\n",
        "  for geo in df['libgeo'].unique():\n",
        "    for y in range(start_year, end_year+1):\n",
        "      for m,d in zip(months, days):\n",
        "        libgeo.append(geo)\n",
        "        date_arrete.append(datetime.date(y,m,d))\n",
        "        nb_vp_rechargeables_el.append(ve(geo, y, m))\n",
        "    pbar.update(1)\n",
        "\n",
        "  pbar.close()\n",
        "\n",
        "  df_old['libgeo'] = libgeo\n",
        "  df_old['date_arrete'] = date_arrete\n",
        "  df_old['nb_vp_rechargeables_el'] = nb_vp_rechargeables_el\n",
        "  \n",
        "  return df_old"
      ]
    },
    {
      "cell_type": "code",
      "execution_count": 12,
      "metadata": {
        "id": "hdTHAHTa2aVz"
      },
      "outputs": [
        {
          "name": "stderr",
          "output_type": "stream",
          "text": [
            "Communes traitées: 100%|██████████| 32752/32752 [2:17:01<00:00,  3.98it/s]     \n"
          ]
        }
      ],
      "source": [
        "ve_communes = fill(2014, 2022)\n",
        "ve_communes.to_csv('ve_par_commune1.csv', index=False)\n",
        "# files.download('ve_par_commune.csv')"
      ]
    },
    {
      "cell_type": "code",
      "execution_count": 13,
      "metadata": {
        "id": "tGrYWm7WUr78"
      },
      "outputs": [
        {
          "data": {
            "text/plain": [
              "Text(0, 0.5, 'En Millions')"
            ]
          },
          "execution_count": 13,
          "metadata": {},
          "output_type": "execute_result"
        },
        {
          "data": {
            "image/png": "[encoded data removed]",
            "text/plain": [
              "<Figure size 640x480 with 1 Axes>"
            ]
          },
          "metadata": {},
          "output_type": "display_data"
        }
      ],
      "source": [
        "totaux = []\n",
        "années = [int(i) for i in range(2014, 2023)]\n",
        "for i in années:\n",
        "  totaux.append(int(ve_communes[ve_communes['date_arrete'] == datetime.datetime(i,12,31)]['nb_vp_rechargeables_el'].sum()))\n",
        "\n",
        "plt.plot(années, totaux, label ='simulé')\n",
        "plt.plot([2020, 2021, 2022], [df20_dec['nb_vp_rechargeables_el'].sum(), df21_dec['nb_vp_rechargeables_el'].sum(), df22_sep['nb_vp_rechargeables_el'].sum()], label = 'réel')\n",
        "plt.title('Immatriculations totales - Rechargeables')\n",
        "plt.legend()\n",
        "plt.ylabel('En Millions')"
      ]
    },
    {
      "cell_type": "code",
      "execution_count": 14,
      "metadata": {},
      "outputs": [
        {
          "data": {
            "text/html": [
              "<div>\n",
              "<style scoped>\n",
              "    .dataframe tbody tr th:only-of-type {\n",
              "        vertical-align: middle;\n",
              "    }\n",
              "\n",
              "    .dataframe tbody tr th {\n",
              "        vertical-align: top;\n",
              "    }\n",
              "\n",
              "    .dataframe thead th {\n",
              "        text-align: right;\n",
              "    }\n",
              "</style>\n",
              "<table border=\"1\" class=\"dataframe\">\n",
              "  <thead>\n",
              "    <tr style=\"text-align: right;\">\n",
              "      <th></th>\n",
              "      <th>libgeo</th>\n",
              "      <th>date_arrete</th>\n",
              "      <th>nb_vp_rechargeables_el</th>\n",
              "    </tr>\n",
              "  </thead>\n",
              "  <tbody>\n",
              "    <tr>\n",
              "      <th>0</th>\n",
              "      <td>AAST</td>\n",
              "      <td>2014-03-31</td>\n",
              "      <td>0.116568</td>\n",
              "    </tr>\n",
              "    <tr>\n",
              "      <th>1</th>\n",
              "      <td>AAST</td>\n",
              "      <td>2014-06-30</td>\n",
              "      <td>0.099131</td>\n",
              "    </tr>\n",
              "    <tr>\n",
              "      <th>2</th>\n",
              "      <td>AAST</td>\n",
              "      <td>2014-09-30</td>\n",
              "      <td>0.088684</td>\n",
              "    </tr>\n",
              "    <tr>\n",
              "      <th>3</th>\n",
              "      <td>AAST</td>\n",
              "      <td>2014-12-31</td>\n",
              "      <td>0.076862</td>\n",
              "    </tr>\n",
              "    <tr>\n",
              "      <th>4</th>\n",
              "      <td>AAST</td>\n",
              "      <td>2015-03-31</td>\n",
              "      <td>0.207232</td>\n",
              "    </tr>\n",
              "    <tr>\n",
              "      <th>...</th>\n",
              "      <td>...</td>\n",
              "      <td>...</td>\n",
              "      <td>...</td>\n",
              "    </tr>\n",
              "    <tr>\n",
              "      <th>1179067</th>\n",
              "      <td>Ô-DE-SELLE</td>\n",
              "      <td>2021-12-31</td>\n",
              "      <td>10.419077</td>\n",
              "    </tr>\n",
              "    <tr>\n",
              "      <th>1179068</th>\n",
              "      <td>Ô-DE-SELLE</td>\n",
              "      <td>2022-03-31</td>\n",
              "      <td>6.911975</td>\n",
              "    </tr>\n",
              "    <tr>\n",
              "      <th>1179069</th>\n",
              "      <td>Ô-DE-SELLE</td>\n",
              "      <td>2022-06-30</td>\n",
              "      <td>13.715468</td>\n",
              "    </tr>\n",
              "    <tr>\n",
              "      <th>1179070</th>\n",
              "      <td>Ô-DE-SELLE</td>\n",
              "      <td>2022-09-30</td>\n",
              "      <td>12.269986</td>\n",
              "    </tr>\n",
              "    <tr>\n",
              "      <th>1179071</th>\n",
              "      <td>Ô-DE-SELLE</td>\n",
              "      <td>2022-12-31</td>\n",
              "      <td>15.191962</td>\n",
              "    </tr>\n",
              "  </tbody>\n",
              "</table>\n",
              "<p>1179072 rows × 3 columns</p>\n",
              "</div>"
            ],
            "text/plain": [
              "             libgeo date_arrete  nb_vp_rechargeables_el\n",
              "0              AAST  2014-03-31                0.116568\n",
              "1              AAST  2014-06-30                0.099131\n",
              "2              AAST  2014-09-30                0.088684\n",
              "3              AAST  2014-12-31                0.076862\n",
              "4              AAST  2015-03-31                0.207232\n",
              "...             ...         ...                     ...\n",
              "1179067  Ô-DE-SELLE  2021-12-31               10.419077\n",
              "1179068  Ô-DE-SELLE  2022-03-31                6.911975\n",
              "1179069  Ô-DE-SELLE  2022-06-30               13.715468\n",
              "1179070  Ô-DE-SELLE  2022-09-30               12.269986\n",
              "1179071  Ô-DE-SELLE  2022-12-31               15.191962\n",
              "\n",
              "[1179072 rows x 3 columns]"
            ]
          },
          "execution_count": 14,
          "metadata": {},
          "output_type": "execute_result"
        }
      ],
      "source": [
        "ve_communes"
      ]
    },
    {
      "cell_type": "code",
      "execution_count": null,
      "metadata": {},
      "outputs": [],
      "source": []
    }
  ],
  "metadata": {
    "colab": {
      "provenance": []
    },
    "kernelspec": {
      "display_name": "base",
      "language": "python",
      "name": "python3"
    },
    "language_info": {
      "codemirror_mode": {
        "name": "ipython",
        "version": 3
      },
      "file_extension": ".py",
      "mimetype": "text/x-python",
      "name": "python",
      "nbconvert_exporter": "python",
      "pygments_lexer": "ipython3",
      "version": "3.9.13 (main, Aug 25 2022, 23:51:50) [MSC v.1916 64 bit (AMD64)]"
    },
    "vscode": {
      "interpreter": {
        "hash": "ad2bdc8ecc057115af97d19610ffacc2b4e99fae6737bb82f5d7fb13d2f2c186"
      }
    }
  },
  "nbformat": 4,
  "nbformat_minor": 0
}
