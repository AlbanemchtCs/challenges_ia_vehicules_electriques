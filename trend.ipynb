{
  "nbformat": 4,
  "nbformat_minor": 0,
  "metadata": {
    "colab": {
      "provenance": []
    },
    "kernelspec": {
      "name": "python3",
      "display_name": "Python 3"
    },
    "language_info": {
      "name": "python"
    }
  },
  "cells": [
    {
      "cell_type": "code",
      "source": [
        "from google.colab import drive\n",
        "drive.mount('/content/drive')"
      ],
      "metadata": {
        "colab": {
          "base_uri": "https://localhost:8080/"
        },
        "id": "hXMaVmMC0Rbn",
        "outputId": "4c5ba2d6-4b8f-47f9-e057-f7f4c5d820b0"
      },
      "execution_count": 1,
      "outputs": [
        {
          "output_type": "stream",
          "name": "stdout",
          "text": [
            "Mounted at /content/drive\n"
          ]
        }
      ]
    },
    {
      "cell_type": "code",
      "execution_count": 33,
      "metadata": {
        "id": "CIeGGJBw0MYn"
      },
      "outputs": [],
      "source": [
        "import pandas as pd\n",
        "import datetime\n",
        "import matplotlib.pyplot as plt\n",
        "from tqdm import tqdm\n",
        "from google.colab import files\n",
        "from sklearn.preprocessing import PolynomialFeatures\n",
        "from sklearn.linear_model import LinearRegression\n",
        "import numpy as np"
      ]
    },
    {
      "cell_type": "code",
      "source": [
        "df = pd.read_csv('/content/drive/MyDrive/Colab Notebooks/IA-Challenge/df_cluster_ve.csv', sep=',').drop(columns=['Unnamed: 0'])\n",
        "df['date_arrete'] = pd.to_datetime(df['date_arrete'])\n",
        "df['nb_vp_rechargeables_el'] = [int(x) for x in df['nb_vp_rechargeables_el']]\n",
        "df['emissions'] = [round(x, 2) for x in df['emissions']]\n",
        "df['TMJA'] = [round(x, 2) for x in df['TMJA']]\n",
        "df['month'] = [x.month for x in df['date_arrete']]\n",
        "df['year'] = [x.year for x in df['date_arrete']]\n",
        "df = df.drop(columns=['date_arrete'])\n",
        "df = df.sort_values(by=['cluster', 'year', 'month'])"
      ],
      "metadata": {
        "id": "X4yPt6xm0VDw"
      },
      "execution_count": 51,
      "outputs": []
    },
    {
      "cell_type": "code",
      "source": [
        "df"
      ],
      "metadata": {
        "colab": {
          "base_uri": "https://localhost:8080/",
          "height": 424
        },
        "id": "Mbmz9omf0fa2",
        "outputId": "8cb80633-095b-4fb1-9bc6-02e14d2a55b6"
      },
      "execution_count": 52,
      "outputs": [
        {
          "output_type": "execute_result",
          "data": {
            "text/plain": [
              "      cluster  nb_vp_rechargeables_el  emissions      TMJA  month  year\n",
              "0           0                       0     327.11  19921.84      3  2014\n",
              "1           0                       0     327.11  19921.84      6  2014\n",
              "2           0                       0     327.11  19921.84      9  2014\n",
              "3           0                       0     327.11  19921.84     12  2014\n",
              "4           0                       1     331.58  22018.90      3  2015\n",
              "...       ...                     ...        ...       ...    ...   ...\n",
              "1363       39                    2732     305.96  49829.88     12  2021\n",
              "1364       39                    3995     305.96  49829.88      3  2022\n",
              "1365       39                    4002     305.96  49829.88      6  2022\n",
              "1366       39                    4043     305.96  49829.88      9  2022\n",
              "1367       39                    3984     305.96  49829.88     12  2022\n",
              "\n",
              "[1368 rows x 6 columns]"
            ],
            "text/html": [
              "\n",
              "  <div id=\"df-638acc3d-0181-4ac9-b64b-309eaeae8f06\">\n",
              "    <div class=\"colab-df-container\">\n",
              "      <div>\n",
              "<style scoped>\n",
              "    .dataframe tbody tr th:only-of-type {\n",
              "        vertical-align: middle;\n",
              "    }\n",
              "\n",
              "    .dataframe tbody tr th {\n",
              "        vertical-align: top;\n",
              "    }\n",
              "\n",
              "    .dataframe thead th {\n",
              "        text-align: right;\n",
              "    }\n",
              "</style>\n",
              "<table border=\"1\" class=\"dataframe\">\n",
              "  <thead>\n",
              "    <tr style=\"text-align: right;\">\n",
              "      <th></th>\n",
              "      <th>cluster</th>\n",
              "      <th>nb_vp_rechargeables_el</th>\n",
              "      <th>emissions</th>\n",
              "      <th>TMJA</th>\n",
              "      <th>month</th>\n",
              "      <th>year</th>\n",
              "    </tr>\n",
              "  </thead>\n",
              "  <tbody>\n",
              "    <tr>\n",
              "      <th>0</th>\n",
              "      <td>0</td>\n",
              "      <td>0</td>\n",
              "      <td>327.11</td>\n",
              "      <td>19921.84</td>\n",
              "      <td>3</td>\n",
              "      <td>2014</td>\n",
              "    </tr>\n",
              "    <tr>\n",
              "      <th>1</th>\n",
              "      <td>0</td>\n",
              "      <td>0</td>\n",
              "      <td>327.11</td>\n",
              "      <td>19921.84</td>\n",
              "      <td>6</td>\n",
              "      <td>2014</td>\n",
              "    </tr>\n",
              "    <tr>\n",
              "      <th>2</th>\n",
              "      <td>0</td>\n",
              "      <td>0</td>\n",
              "      <td>327.11</td>\n",
              "      <td>19921.84</td>\n",
              "      <td>9</td>\n",
              "      <td>2014</td>\n",
              "    </tr>\n",
              "    <tr>\n",
              "      <th>3</th>\n",
              "      <td>0</td>\n",
              "      <td>0</td>\n",
              "      <td>327.11</td>\n",
              "      <td>19921.84</td>\n",
              "      <td>12</td>\n",
              "      <td>2014</td>\n",
              "    </tr>\n",
              "    <tr>\n",
              "      <th>4</th>\n",
              "      <td>0</td>\n",
              "      <td>1</td>\n",
              "      <td>331.58</td>\n",
              "      <td>22018.90</td>\n",
              "      <td>3</td>\n",
              "      <td>2015</td>\n",
              "    </tr>\n",
              "    <tr>\n",
              "      <th>...</th>\n",
              "      <td>...</td>\n",
              "      <td>...</td>\n",
              "      <td>...</td>\n",
              "      <td>...</td>\n",
              "      <td>...</td>\n",
              "      <td>...</td>\n",
              "    </tr>\n",
              "    <tr>\n",
              "      <th>1363</th>\n",
              "      <td>39</td>\n",
              "      <td>2732</td>\n",
              "      <td>305.96</td>\n",
              "      <td>49829.88</td>\n",
              "      <td>12</td>\n",
              "      <td>2021</td>\n",
              "    </tr>\n",
              "    <tr>\n",
              "      <th>1364</th>\n",
              "      <td>39</td>\n",
              "      <td>3995</td>\n",
              "      <td>305.96</td>\n",
              "      <td>49829.88</td>\n",
              "      <td>3</td>\n",
              "      <td>2022</td>\n",
              "    </tr>\n",
              "    <tr>\n",
              "      <th>1365</th>\n",
              "      <td>39</td>\n",
              "      <td>4002</td>\n",
              "      <td>305.96</td>\n",
              "      <td>49829.88</td>\n",
              "      <td>6</td>\n",
              "      <td>2022</td>\n",
              "    </tr>\n",
              "    <tr>\n",
              "      <th>1366</th>\n",
              "      <td>39</td>\n",
              "      <td>4043</td>\n",
              "      <td>305.96</td>\n",
              "      <td>49829.88</td>\n",
              "      <td>9</td>\n",
              "      <td>2022</td>\n",
              "    </tr>\n",
              "    <tr>\n",
              "      <th>1367</th>\n",
              "      <td>39</td>\n",
              "      <td>3984</td>\n",
              "      <td>305.96</td>\n",
              "      <td>49829.88</td>\n",
              "      <td>12</td>\n",
              "      <td>2022</td>\n",
              "    </tr>\n",
              "  </tbody>\n",
              "</table>\n",
              "<p>1368 rows × 6 columns</p>\n",
              "</div>\n",
              "      <button class=\"colab-df-convert\" onclick=\"convertToInteractive('df-638acc3d-0181-4ac9-b64b-309eaeae8f06')\"\n",
              "              title=\"Convert this dataframe to an interactive table.\"\n",
              "              style=\"display:none;\">\n",
              "        \n",
              "  <svg xmlns=\"http://www.w3.org/2000/svg\" height=\"24px\"viewBox=\"0 0 24 24\"\n",
              "       width=\"24px\">\n",
              "    <path d=\"M0 0h24v24H0V0z\" fill=\"none\"/>\n",
              "    <path d=\"M18.56 5.44l.94 2.06.94-2.06 2.06-.94-2.06-.94-.94-2.06-.94 2.06-2.06.94zm-11 1L8.5 8.5l.94-2.06 2.06-.94-2.06-.94L8.5 2.5l-.94 2.06-2.06.94zm10 10l.94 2.06.94-2.06 2.06-.94-2.06-.94-.94-2.06-.94 2.06-2.06.94z\"/><path d=\"M17.41 7.96l-1.37-1.37c-.4-.4-.92-.59-1.43-.59-.52 0-1.04.2-1.43.59L10.3 9.45l-7.72 7.72c-.78.78-.78 2.05 0 2.83L4 21.41c.39.39.9.59 1.41.59.51 0 1.02-.2 1.41-.59l7.78-7.78 2.81-2.81c.8-.78.8-2.07 0-2.86zM5.41 20L4 18.59l7.72-7.72 1.47 1.35L5.41 20z\"/>\n",
              "  </svg>\n",
              "      </button>\n",
              "      \n",
              "  <style>\n",
              "    .colab-df-container {\n",
              "      display:flex;\n",
              "      flex-wrap:wrap;\n",
              "      gap: 12px;\n",
              "    }\n",
              "\n",
              "    .colab-df-convert {\n",
              "      background-color: #E8F0FE;\n",
              "      border: none;\n",
              "      border-radius: 50%;\n",
              "      cursor: pointer;\n",
              "      display: none;\n",
              "      fill: #1967D2;\n",
              "      height: 32px;\n",
              "      padding: 0 0 0 0;\n",
              "      width: 32px;\n",
              "    }\n",
              "\n",
              "    .colab-df-convert:hover {\n",
              "      background-color: #E2EBFA;\n",
              "      box-shadow: 0px 1px 2px rgba(60, 64, 67, 0.3), 0px 1px 3px 1px rgba(60, 64, 67, 0.15);\n",
              "      fill: #174EA6;\n",
              "    }\n",
              "\n",
              "    [theme=dark] .colab-df-convert {\n",
              "      background-color: #3B4455;\n",
              "      fill: #D2E3FC;\n",
              "    }\n",
              "\n",
              "    [theme=dark] .colab-df-convert:hover {\n",
              "      background-color: #434B5C;\n",
              "      box-shadow: 0px 1px 3px 1px rgba(0, 0, 0, 0.15);\n",
              "      filter: drop-shadow(0px 1px 2px rgba(0, 0, 0, 0.3));\n",
              "      fill: #FFFFFF;\n",
              "    }\n",
              "  </style>\n",
              "\n",
              "      <script>\n",
              "        const buttonEl =\n",
              "          document.querySelector('#df-638acc3d-0181-4ac9-b64b-309eaeae8f06 button.colab-df-convert');\n",
              "        buttonEl.style.display =\n",
              "          google.colab.kernel.accessAllowed ? 'block' : 'none';\n",
              "\n",
              "        async function convertToInteractive(key) {\n",
              "          const element = document.querySelector('#df-638acc3d-0181-4ac9-b64b-309eaeae8f06');\n",
              "          const dataTable =\n",
              "            await google.colab.kernel.invokeFunction('convertToInteractive',\n",
              "                                                     [key], {});\n",
              "          if (!dataTable) return;\n",
              "\n",
              "          const docLinkHtml = 'Like what you see? Visit the ' +\n",
              "            '<a target=\"_blank\" href=https://colab.research.google.com/notebooks/data_table.ipynb>data table notebook</a>'\n",
              "            + ' to learn more about interactive tables.';\n",
              "          element.innerHTML = '';\n",
              "          dataTable['output_type'] = 'display_data';\n",
              "          await google.colab.output.renderOutput(dataTable, element);\n",
              "          const docLink = document.createElement('div');\n",
              "          docLink.innerHTML = docLinkHtml;\n",
              "          element.appendChild(docLink);\n",
              "        }\n",
              "      </script>\n",
              "    </div>\n",
              "  </div>\n",
              "  "
            ]
          },
          "metadata": {},
          "execution_count": 52
        }
      ]
    },
    {
      "cell_type": "code",
      "source": [
        "def train_test(year, cluster):\n",
        "  df_ = df[df['cluster'] == cluster]\n",
        "  df_train = df_[df_['year']<=year]\n",
        "  df_test = df_[df_['year']>year]\n",
        "\n",
        "  y_test = df_test['nb_vp_rechargeables_el']\n",
        "  X_test = df_test[['cluster', 'emissions', 'TMJA', 'month', 'year']]\n",
        "\n",
        "  y_train = df_train['nb_vp_rechargeables_el']\n",
        "  X_train = df_train[['cluster', 'emissions', 'TMJA', 'month', 'year']]\n",
        "\n",
        "  y = df_['nb_vp_rechargeables_el']\n",
        "  X = df_[['cluster', 'emissions', 'TMJA', 'month', 'year']]\n",
        "\n",
        "  return X_train, y_train, X_test, y_test, X, y\n",
        "\n",
        "X_train, y_train, X_test, y_test, X, y = train_test(2020, 20)"
      ],
      "metadata": {
        "id": "Mja5b4BT50yR"
      },
      "execution_count": 53,
      "outputs": []
    },
    {
      "cell_type": "code",
      "source": [
        "poly = PolynomialFeatures(degree=2)\n",
        "X_poly_train = poly.fit_transform(X_train)\n",
        "X_poly = poly.fit_transform(X)\n",
        "\n",
        "trend_model = LinearRegression()\n",
        "trend_model.fit(X_poly_train, y_train)\n",
        "\n",
        "trend = trend_model.predict(X_poly)\n",
        "\n",
        "plt.plot(X['year'], trend, label='trend')\n",
        "plt.plot(X['year'], y, label='true')\n",
        "plt.legend()"
      ],
      "metadata": {
        "colab": {
          "base_uri": "https://localhost:8080/",
          "height": 282
        },
        "id": "YApu-wTj0f5_",
        "outputId": "c40a1db9-d161-4051-9b1f-38a49b7c9ea2"
      },
      "execution_count": 67,
      "outputs": [
        {
          "output_type": "execute_result",
          "data": {
            "text/plain": [
              "<matplotlib.legend.Legend at 0x7faeef1c3730>"
            ]
          },
          "metadata": {},
          "execution_count": 67
        },
        {
          "output_type": "display_data",
          "data": {
            "text/plain": [
              "<Figure size 432x288 with 1 Axes>"
            ],
            "image/png": "[encoded data removed]"
          },
          "metadata": {
            "needs_background": "light"
          }
        }
      ]
    },
    {
      "cell_type": "code",
      "source": [],
      "metadata": {
        "id": "jBmZ04lQ5gBX"
      },
      "execution_count": null,
      "outputs": []
    }
  ]
}