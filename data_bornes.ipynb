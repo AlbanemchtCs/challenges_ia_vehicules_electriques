{
 "cells": [
  {
   "cell_type": "code",
   "execution_count": 1,
   "metadata": {},
   "outputs": [],
   "source": [
    "import pandas as pd \n",
    "from datetime import datetime,date"
   ]
  },
  {
   "cell_type": "code",
   "execution_count": 2,
   "metadata": {},
   "outputs": [],
   "source": [
    "#  create a function that compares a value to reference points of a list l and gives back the reference point that has the smallest difference between the value and the different reference points\n",
    "def get_commune(cp,lg,lat,communes):\n",
    "    #  check if cp is not nan\n",
    "    if pd.isnull(cp):\n",
    "        return None\n",
    "    reference_values=communes[communes['code_postal']==int(cp)][['longitude','latitude','nom_commune_complet']]\n",
    "    \n",
    "    if reference_values.shape[0]==0:\n",
    "        return None\n",
    "    reference_values['distance']=((reference_values['longitude']-lg)**2+(reference_values['latitude']-lat)**2)**0.5\n",
    "    if reference_values[reference_values['distance']==reference_values['distance'].min()].shape[0]>0:\n",
    "        return reference_values[reference_values['distance']==reference_values['distance'].min()]['nom_commune_complet'].values[0]\n",
    "    else:\n",
    "        return None\n"
   ]
  },
  {
   "cell_type": "code",
   "execution_count": 3,
   "metadata": {},
   "outputs": [
    {
     "name": "stderr",
     "output_type": "stream",
     "text": [
      "c:\\Users\\maram\\anaconda3\\envs\\env\\lib\\site-packages\\openpyxl\\worksheet\\_reader.py:312: UserWarning: Unknown extension is not supported and will be removed\n",
      "  warn(msg)\n"
     ]
    }
   ],
   "source": [
    "bornes_missing_communes=pd.read_csv('./data_bornes/bornes.csv')\n",
    "bornes_e55=pd.read_csv('./data_bornes/e55-bornes.csv')\n",
    "bornes_cnr=pd.read_csv('./data_bornes/bornes_cnr.csv')\n",
    "bornes_renault=pd.read_excel('./data_bornes/bornes-renault.xlsx')\n",
    "communes=pd.read_csv('./data_bornes/communes-departement-region.csv')\n",
    "bornes_tesla=pd.read_csv('./data_bornes/tesla-bornes.csv',encoding= 'ISO-8859-1',parse_dates=['date_maj'])\n",
    "bornes_nissan=pd.read_excel('./data_bornes/bornes-nissan.xlsx')\n",
    "bornes_auchan=pd.read_excel('./data_bornes/auchan_bornes.xlsx')\n",
    "bornes_irve=pd.read_csv('./data_bornes/irve-bornes.csv')\n",
    "bornes_ve=pd.read_excel('./data_bornes/VE-bornes.xlsx')\n",
    "bornes_edenred=pd.read_excel('./data_bornes/ElectriCite.xlsx')\n"
   ]
  },
  {
   "cell_type": "code",
   "execution_count": 4,
   "metadata": {},
   "outputs": [],
   "source": [
    "# extract from the column adresse_station the postal code start by 5 digits only if there is no 5 digits take the 4 digits \n",
    "bornes_missing_communes['code_postal_5']=bornes_missing_communes['adresse_station'].str.extract(r'(\\d{5})',expand=False)\n",
    "bornes_missing_communes['code_postal_4']=bornes_missing_communes['adresse_station'].str.extract(r'(\\d{4})',expand=False)\n",
    "# create a postal_code column that takes the values of postal_code_4 only if code_postal_5 is null\n",
    "bornes_missing_communes['code_postal']=bornes_missing_communes['code_postal_5'].fillna(bornes_missing_communes['code_postal_4'])\n",
    "#  cast code_postal column as int\n",
    "bornes_missing_communes['code_postal']=bornes_missing_communes['code_postal'].astype(float)\n",
    "# drop the columns code_postal_5 and code_postal_4\n",
    "bornes_missing_communes.drop(['code_postal_5','code_postal_4'],axis=1,inplace=True)"
   ]
  },
  {
   "attachments": {},
   "cell_type": "markdown",
   "metadata": {},
   "source": [
    "# Edenred dataset"
   ]
  },
  {
   "cell_type": "code",
   "execution_count": 5,
   "metadata": {},
   "outputs": [
    {
     "data": {
      "text/html": [
       "<div>\n",
       "<style scoped>\n",
       "    .dataframe tbody tr th:only-of-type {\n",
       "        vertical-align: middle;\n",
       "    }\n",
       "\n",
       "    .dataframe tbody tr th {\n",
       "        vertical-align: top;\n",
       "    }\n",
       "\n",
       "    .dataframe thead th {\n",
       "        text-align: right;\n",
       "    }\n",
       "</style>\n",
       "<table border=\"1\" class=\"dataframe\">\n",
       "  <thead>\n",
       "    <tr style=\"text-align: right;\">\n",
       "      <th></th>\n",
       "      <th>adresse_station</th>\n",
       "      <th>latitude_WSG84</th>\n",
       "      <th>longitude_WSG84</th>\n",
       "      <th>nom_porteur</th>\n",
       "      <th>nbre_pdc</th>\n",
       "      <th>date_maj</th>\n",
       "    </tr>\n",
       "  </thead>\n",
       "  <tbody>\n",
       "    <tr>\n",
       "      <th>0</th>\n",
       "      <td>40 Boulevard Noël Marc, 78570 Andrésy</td>\n",
       "      <td>48.978646</td>\n",
       "      <td>2.058029</td>\n",
       "      <td>ElectriCité Seine Aval</td>\n",
       "      <td>2</td>\n",
       "      <td>2023-01-19</td>\n",
       "    </tr>\n",
       "    <tr>\n",
       "      <th>1</th>\n",
       "      <td>Avenue du Béarn, 78200 Buchelay</td>\n",
       "      <td>48.989610</td>\n",
       "      <td>1.664583</td>\n",
       "      <td>ElectriCité Seine Aval</td>\n",
       "      <td>2</td>\n",
       "      <td>2023-01-19</td>\n",
       "    </tr>\n",
       "    <tr>\n",
       "      <th>2</th>\n",
       "      <td>24 Rue Jean Louis Scialloux, 78200 Buchelay</td>\n",
       "      <td>48.982390</td>\n",
       "      <td>1.677650</td>\n",
       "      <td>ElectriCité Seine Aval</td>\n",
       "      <td>2</td>\n",
       "      <td>2023-01-19</td>\n",
       "    </tr>\n",
       "    <tr>\n",
       "      <th>3</th>\n",
       "      <td>20 Place de la Liberté, 78700 Conflans-Sainte-...</td>\n",
       "      <td>49.005144</td>\n",
       "      <td>2.116201</td>\n",
       "      <td>ElectriCité Seine Aval</td>\n",
       "      <td>2</td>\n",
       "      <td>2023-01-19</td>\n",
       "    </tr>\n",
       "    <tr>\n",
       "      <th>4</th>\n",
       "      <td>128 Rue Charles de Gaulle, 78840 Freneuse</td>\n",
       "      <td>49.049036</td>\n",
       "      <td>1.601885</td>\n",
       "      <td>ElectriCité Seine Aval</td>\n",
       "      <td>2</td>\n",
       "      <td>2023-01-19</td>\n",
       "    </tr>\n",
       "  </tbody>\n",
       "</table>\n",
       "</div>"
      ],
      "text/plain": [
       "                                     adresse_station  latitude_WSG84  \\\n",
       "0              40 Boulevard Noël Marc, 78570 Andrésy       48.978646   \n",
       "1                    Avenue du Béarn, 78200 Buchelay       48.989610   \n",
       "2        24 Rue Jean Louis Scialloux, 78200 Buchelay       48.982390   \n",
       "3  20 Place de la Liberté, 78700 Conflans-Sainte-...       49.005144   \n",
       "4          128 Rue Charles de Gaulle, 78840 Freneuse       49.049036   \n",
       "\n",
       "   longitude_WSG84             nom_porteur  nbre_pdc   date_maj  \n",
       "0         2.058029  ElectriCité Seine Aval         2 2023-01-19  \n",
       "1         1.664583  ElectriCité Seine Aval         2 2023-01-19  \n",
       "2         1.677650  ElectriCité Seine Aval         2 2023-01-19  \n",
       "3         2.116201  ElectriCité Seine Aval         2 2023-01-19  \n",
       "4         1.601885  ElectriCité Seine Aval         2 2023-01-19  "
      ]
     },
     "execution_count": 5,
     "metadata": {},
     "output_type": "execute_result"
    }
   ],
   "source": [
    "bornes_edenred.head()"
   ]
  },
  {
   "cell_type": "code",
   "execution_count": 6,
   "metadata": {},
   "outputs": [],
   "source": [
    "bornes_edenred['code_postal']=bornes_edenred['adresse_station'].str.extract(r'(\\d{5})',expand=False)\n",
    "bornes_edenred['date_maj']=pd.to_datetime(bornes_edenred['date_maj'])\n",
    "bornes_edenred['year']=bornes_edenred['date_maj'].dt.year\n",
    "bornes_edenred['month']=bornes_edenred['date_maj'].dt.month\n",
    "bornes_edenred['commune']=bornes_edenred.apply(lambda x: get_commune(x['code_postal'],x['latitude_WSG84'],x['longitude_WSG84'],communes),axis=1)\n",
    "data_edenred=bornes_edenred.groupby(['year','month','commune'])['nbre_pdc'].sum().reset_index()\n"
   ]
  },
  {
   "attachments": {},
   "cell_type": "markdown",
   "metadata": {},
   "source": [
    "# Auchan dataset"
   ]
  },
  {
   "cell_type": "code",
   "execution_count": 7,
   "metadata": {},
   "outputs": [
    {
     "data": {
      "text/html": [
       "<div>\n",
       "<style scoped>\n",
       "    .dataframe tbody tr th:only-of-type {\n",
       "        vertical-align: middle;\n",
       "    }\n",
       "\n",
       "    .dataframe tbody tr th {\n",
       "        vertical-align: top;\n",
       "    }\n",
       "\n",
       "    .dataframe thead th {\n",
       "        text-align: right;\n",
       "    }\n",
       "</style>\n",
       "<table border=\"1\" class=\"dataframe\">\n",
       "  <thead>\n",
       "    <tr style=\"text-align: right;\">\n",
       "      <th></th>\n",
       "      <th>N°</th>\n",
       "      <th>LIEU</th>\n",
       "      <th>ADRESSE</th>\n",
       "      <th>CP</th>\n",
       "      <th>Dept</th>\n",
       "      <th>Unnamed: 5</th>\n",
       "      <th>Latitude</th>\n",
       "      <th>Longitude</th>\n",
       "      <th>LIEN CHARGEMAP</th>\n",
       "    </tr>\n",
       "  </thead>\n",
       "  <tbody>\n",
       "    <tr>\n",
       "      <th>0</th>\n",
       "      <td>1</td>\n",
       "      <td>AUCHAN</td>\n",
       "      <td>Chemin départemental 110</td>\n",
       "      <td>78200</td>\n",
       "      <td>78</td>\n",
       "      <td>BUCHELAY</td>\n",
       "      <td>48.983085</td>\n",
       "      <td>1.678852</td>\n",
       "      <td>http://fr.chargemap.com/points/details/auchan-...</td>\n",
       "    </tr>\n",
       "    <tr>\n",
       "      <th>1</th>\n",
       "      <td>2</td>\n",
       "      <td>AUCHAN</td>\n",
       "      <td>1449 Avenue de la République</td>\n",
       "      <td>26000</td>\n",
       "      <td>26</td>\n",
       "      <td>GUILHERAND - GRANGES</td>\n",
       "      <td>44.936360</td>\n",
       "      <td>4.872980</td>\n",
       "      <td>http://fr.chargemap.com/points/details/auchan-...</td>\n",
       "    </tr>\n",
       "    <tr>\n",
       "      <th>2</th>\n",
       "      <td>3</td>\n",
       "      <td>AUCHAN</td>\n",
       "      <td>ZAC du mont Gaillard (Centre Commercial Grand ...</td>\n",
       "      <td>76620</td>\n",
       "      <td>76</td>\n",
       "      <td>LE HAVRE</td>\n",
       "      <td>49.525400</td>\n",
       "      <td>0.112158</td>\n",
       "      <td>http://fr.chargemap.com/points/details/auchan-...</td>\n",
       "    </tr>\n",
       "    <tr>\n",
       "      <th>3</th>\n",
       "      <td>4</td>\n",
       "      <td>AUCHAN</td>\n",
       "      <td>1 à 9 avenue du maréchal Foch - RN34</td>\n",
       "      <td>93330</td>\n",
       "      <td>93</td>\n",
       "      <td>NEUILLY/MARNE</td>\n",
       "      <td>48.856898</td>\n",
       "      <td>2.528373</td>\n",
       "      <td>http://fr.chargemap.com/points/details/auchan-...</td>\n",
       "    </tr>\n",
       "    <tr>\n",
       "      <th>4</th>\n",
       "      <td>5</td>\n",
       "      <td>AUCHAN</td>\n",
       "      <td>Auchan Côte d'Opale Rte Nationale 42</td>\n",
       "      <td>62200</td>\n",
       "      <td>62</td>\n",
       "      <td>ST MARTIN BOULOGNE</td>\n",
       "      <td>50.733350</td>\n",
       "      <td>1.670628</td>\n",
       "      <td>http://fr.chargemap.com/points/details/auchan-...</td>\n",
       "    </tr>\n",
       "  </tbody>\n",
       "</table>\n",
       "</div>"
      ],
      "text/plain": [
       "   N°      LIEU                                            ADRESSE     CP  \\\n",
       "0   1  AUCHAN                             Chemin départemental 110  78200   \n",
       "1   2  AUCHAN                         1449 Avenue de la République  26000   \n",
       "2   3  AUCHAN    ZAC du mont Gaillard (Centre Commercial Grand ...  76620   \n",
       "3   4  AUCHAN                 1 à 9 avenue du maréchal Foch - RN34  93330   \n",
       "4   5  AUCHAN                 Auchan Côte d'Opale Rte Nationale 42  62200   \n",
       "\n",
       "   Dept            Unnamed: 5   Latitude  Longitude  \\\n",
       "0    78              BUCHELAY  48.983085   1.678852   \n",
       "1    26  GUILHERAND - GRANGES  44.936360   4.872980   \n",
       "2    76              LE HAVRE  49.525400   0.112158   \n",
       "3    93         NEUILLY/MARNE  48.856898   2.528373   \n",
       "4    62    ST MARTIN BOULOGNE  50.733350   1.670628   \n",
       "\n",
       "                                      LIEN CHARGEMAP  \n",
       "0  http://fr.chargemap.com/points/details/auchan-...  \n",
       "1  http://fr.chargemap.com/points/details/auchan-...  \n",
       "2  http://fr.chargemap.com/points/details/auchan-...  \n",
       "3  http://fr.chargemap.com/points/details/auchan-...  \n",
       "4  http://fr.chargemap.com/points/details/auchan-...  "
      ]
     },
     "execution_count": 7,
     "metadata": {},
     "output_type": "execute_result"
    }
   ],
   "source": [
    "bornes_auchan.head()"
   ]
  },
  {
   "cell_type": "code",
   "execution_count": 8,
   "metadata": {},
   "outputs": [],
   "source": [
    "bornes_auchan['commune']=bornes_auchan.apply(lambda x: get_commune(x['CP'],x['Longitude'],x['Latitude'],communes),axis=1)\n",
    "bornes_auchan['year']=2016\n",
    "bornes_auchan['month']=2\n",
    "bornes_auchan['nbre_pdc']=1\n",
    "data_auchan=bornes_auchan.groupby(['year','month','commune'])['nbre_pdc'].sum().reset_index()\n"
   ]
  },
  {
   "attachments": {},
   "cell_type": "markdown",
   "metadata": {},
   "source": [
    "# Ve dataset\n"
   ]
  },
  {
   "cell_type": "code",
   "execution_count": 9,
   "metadata": {},
   "outputs": [
    {
     "data": {
      "text/html": [
       "<div>\n",
       "<style scoped>\n",
       "    .dataframe tbody tr th:only-of-type {\n",
       "        vertical-align: middle;\n",
       "    }\n",
       "\n",
       "    .dataframe tbody tr th {\n",
       "        vertical-align: top;\n",
       "    }\n",
       "\n",
       "    .dataframe thead th {\n",
       "        text-align: right;\n",
       "    }\n",
       "</style>\n",
       "<table border=\"1\" class=\"dataframe\">\n",
       "  <thead>\n",
       "    <tr style=\"text-align: right;\">\n",
       "      <th></th>\n",
       "      <th>adresse_station</th>\n",
       "      <th>latitude_WSG84</th>\n",
       "      <th>longitude_WSG84</th>\n",
       "      <th>nbre_pdc</th>\n",
       "      <th>date_maj</th>\n",
       "    </tr>\n",
       "  </thead>\n",
       "  <tbody>\n",
       "    <tr>\n",
       "      <th>0</th>\n",
       "      <td>A9 - MONTBLANC 34290</td>\n",
       "      <td>43.361123</td>\n",
       "      <td>3.344201</td>\n",
       "      <td>1</td>\n",
       "      <td>2016-04-29</td>\n",
       "    </tr>\n",
       "    <tr>\n",
       "      <th>1</th>\n",
       "      <td>A9 - MONTBLANC 34290</td>\n",
       "      <td>43.359030</td>\n",
       "      <td>3.347042</td>\n",
       "      <td>1</td>\n",
       "      <td>2016-04-29</td>\n",
       "    </tr>\n",
       "    <tr>\n",
       "      <th>2</th>\n",
       "      <td>A13 - BOSGOUET 27310</td>\n",
       "      <td>49.361030</td>\n",
       "      <td>0.864317</td>\n",
       "      <td>1</td>\n",
       "      <td>2016-04-29</td>\n",
       "    </tr>\n",
       "    <tr>\n",
       "      <th>3</th>\n",
       "      <td>A31 - BROGNON 21490</td>\n",
       "      <td>47.422962</td>\n",
       "      <td>5.168843</td>\n",
       "      <td>1</td>\n",
       "      <td>2016-04-29</td>\n",
       "    </tr>\n",
       "    <tr>\n",
       "      <th>4</th>\n",
       "      <td>A31 - BROGNON 21490</td>\n",
       "      <td>47.422787</td>\n",
       "      <td>5.170416</td>\n",
       "      <td>1</td>\n",
       "      <td>2016-04-29</td>\n",
       "    </tr>\n",
       "  </tbody>\n",
       "</table>\n",
       "</div>"
      ],
      "text/plain": [
       "        adresse_station  latitude_WSG84  longitude_WSG84  nbre_pdc   date_maj\n",
       "0  A9 - MONTBLANC 34290       43.361123         3.344201         1 2016-04-29\n",
       "1  A9 - MONTBLANC 34290       43.359030         3.347042         1 2016-04-29\n",
       "2  A13 - BOSGOUET 27310       49.361030         0.864317         1 2016-04-29\n",
       "3   A31 - BROGNON 21490       47.422962         5.168843         1 2016-04-29\n",
       "4   A31 - BROGNON 21490       47.422787         5.170416         1 2016-04-29"
      ]
     },
     "execution_count": 9,
     "metadata": {},
     "output_type": "execute_result"
    }
   ],
   "source": [
    "bornes_ve.head()\n"
   ]
  },
  {
   "cell_type": "code",
   "execution_count": 10,
   "metadata": {},
   "outputs": [],
   "source": [
    "bornes_ve['code_postal']=bornes_ve['adresse_station'].str.extract(r'(\\d{5})',expand=False)\n",
    "bornes_ve['date_maj']=pd.to_datetime(bornes_ve['date_maj'])\n",
    "bornes_ve['year']=bornes_ve['date_maj'].dt.year\n",
    "bornes_ve['month']=bornes_ve['date_maj'].dt.month\n",
    "bornes_ve['commune']=bornes_ve.apply(lambda x: get_commune(x['code_postal'],x['latitude_WSG84'],x['longitude_WSG84'],communes),axis=1)\n",
    "data_ve=bornes_ve.groupby(['year','month','commune'])['nbre_pdc'].sum().reset_index()\n"
   ]
  },
  {
   "attachments": {},
   "cell_type": "markdown",
   "metadata": {},
   "source": [
    "# Ivre dataset"
   ]
  },
  {
   "cell_type": "code",
   "execution_count": 11,
   "metadata": {},
   "outputs": [
    {
     "data": {
      "text/html": [
       "<div>\n",
       "<style scoped>\n",
       "    .dataframe tbody tr th:only-of-type {\n",
       "        vertical-align: middle;\n",
       "    }\n",
       "\n",
       "    .dataframe tbody tr th {\n",
       "        vertical-align: top;\n",
       "    }\n",
       "\n",
       "    .dataframe thead th {\n",
       "        text-align: right;\n",
       "    }\n",
       "</style>\n",
       "<table border=\"1\" class=\"dataframe\">\n",
       "  <thead>\n",
       "    <tr style=\"text-align: right;\">\n",
       "      <th></th>\n",
       "      <th>nom_station</th>\n",
       "      <th>adresse_station</th>\n",
       "      <th>code_insee_commune</th>\n",
       "      <th>coordonneesXY</th>\n",
       "      <th>nbre_pdc</th>\n",
       "      <th>date_mise_en_service</th>\n",
       "      <th>date_maj</th>\n",
       "    </tr>\n",
       "  </thead>\n",
       "  <tbody>\n",
       "    <tr>\n",
       "      <th>0</th>\n",
       "      <td>Les Aix d Angillon</td>\n",
       "      <td>Route de Bourges - 18220 LE AIX D ANGILLON</td>\n",
       "      <td>18003.0</td>\n",
       "      <td>[47.1950266,2.5656172]</td>\n",
       "      <td>1.0</td>\n",
       "      <td>02/07/2017</td>\n",
       "      <td>1/27/2022</td>\n",
       "    </tr>\n",
       "    <tr>\n",
       "      <th>1</th>\n",
       "      <td>Les Aix d Angillon</td>\n",
       "      <td>Route de Bourges - 18220 LE AIX D ANGILLON</td>\n",
       "      <td>18003.0</td>\n",
       "      <td>[47.1950266,2.5656172]</td>\n",
       "      <td>1.0</td>\n",
       "      <td>02/07/2017</td>\n",
       "      <td>1/27/2022</td>\n",
       "    </tr>\n",
       "    <tr>\n",
       "      <th>2</th>\n",
       "      <td>Allogny</td>\n",
       "      <td>Rue de l Abreuvoir - 18110 ALLOGNY</td>\n",
       "      <td>18004.0</td>\n",
       "      <td>[47.2257841,2.3184789]</td>\n",
       "      <td>1.0</td>\n",
       "      <td>5/27/2016</td>\n",
       "      <td>1/27/2022</td>\n",
       "    </tr>\n",
       "    <tr>\n",
       "      <th>3</th>\n",
       "      <td>Allogny</td>\n",
       "      <td>Rue de l Abreuvoir - 18110 ALLOGNY</td>\n",
       "      <td>18004.0</td>\n",
       "      <td>[47.2257841,2.3184789]</td>\n",
       "      <td>1.0</td>\n",
       "      <td>5/27/2016</td>\n",
       "      <td>1/27/2022</td>\n",
       "    </tr>\n",
       "    <tr>\n",
       "      <th>4</th>\n",
       "      <td>Apremont sur Allier</td>\n",
       "      <td>Parking route de Germigny - 18150 APREMONT SUR...</td>\n",
       "      <td>18007.0</td>\n",
       "      <td>[46.9075846,3.0463252]</td>\n",
       "      <td>1.0</td>\n",
       "      <td>9/17/2018</td>\n",
       "      <td>1/27/2022</td>\n",
       "    </tr>\n",
       "  </tbody>\n",
       "</table>\n",
       "</div>"
      ],
      "text/plain": [
       "           nom_station                                    adresse_station  \\\n",
       "0   Les Aix d Angillon         Route de Bourges - 18220 LE AIX D ANGILLON   \n",
       "1   Les Aix d Angillon         Route de Bourges - 18220 LE AIX D ANGILLON   \n",
       "2              Allogny                 Rue de l Abreuvoir - 18110 ALLOGNY   \n",
       "3              Allogny                 Rue de l Abreuvoir - 18110 ALLOGNY   \n",
       "4  Apremont sur Allier  Parking route de Germigny - 18150 APREMONT SUR...   \n",
       "\n",
       "   code_insee_commune           coordonneesXY  nbre_pdc date_mise_en_service  \\\n",
       "0             18003.0  [47.1950266,2.5656172]       1.0           02/07/2017   \n",
       "1             18003.0  [47.1950266,2.5656172]       1.0           02/07/2017   \n",
       "2             18004.0  [47.2257841,2.3184789]       1.0            5/27/2016   \n",
       "3             18004.0  [47.2257841,2.3184789]       1.0            5/27/2016   \n",
       "4             18007.0  [46.9075846,3.0463252]       1.0            9/17/2018   \n",
       "\n",
       "    date_maj  \n",
       "0  1/27/2022  \n",
       "1  1/27/2022  \n",
       "2  1/27/2022  \n",
       "3  1/27/2022  \n",
       "4  1/27/2022  "
      ]
     },
     "execution_count": 11,
     "metadata": {},
     "output_type": "execute_result"
    }
   ],
   "source": [
    "bornes_irve.head()\n"
   ]
  },
  {
   "cell_type": "code",
   "execution_count": 12,
   "metadata": {},
   "outputs": [],
   "source": [
    "bornes_irve.code_insee_commune=bornes_irve.code_insee_commune.apply(lambda row:str(int(float(row))) if not pd.isnull(row) else '')\n",
    "bornes_irve=bornes_irve.merge(communes[['code_commune_INSEE','nom_commune_complet']],left_on='code_insee_commune',right_on='code_commune_INSEE',how='left')\n",
    "bornes_irve['date_maj']=pd.to_datetime(bornes_irve['date_maj'])\n",
    "\n",
    "bornes_irve['date_mise_en_service']=pd.to_datetime(bornes_irve['date_mise_en_service'])\n",
    "bornes_irve['date_mise_en_service'].fillna(bornes_irve['date_maj'],inplace=True)\n",
    "\n",
    "\n",
    "bornes_irve['year']=bornes_irve['date_mise_en_service'].dt.year\n",
    "bornes_irve['month']=bornes_irve['date_mise_en_service'].dt.month\n"
   ]
  },
  {
   "cell_type": "code",
   "execution_count": 13,
   "metadata": {},
   "outputs": [],
   "source": [
    "bornes_irve.rename(columns={'nom_commune_complet':'commune'},inplace=True)\n",
    "data_ivre=bornes_irve.groupby(['year','month','commune'])['nbre_pdc'].sum().reset_index()"
   ]
  },
  {
   "attachments": {},
   "cell_type": "markdown",
   "metadata": {},
   "source": [
    "# Tesla dataset"
   ]
  },
  {
   "cell_type": "code",
   "execution_count": 14,
   "metadata": {},
   "outputs": [
    {
     "data": {
      "text/html": [
       "<div>\n",
       "<style scoped>\n",
       "    .dataframe tbody tr th:only-of-type {\n",
       "        vertical-align: middle;\n",
       "    }\n",
       "\n",
       "    .dataframe tbody tr th {\n",
       "        vertical-align: top;\n",
       "    }\n",
       "\n",
       "    .dataframe thead th {\n",
       "        text-align: right;\n",
       "    }\n",
       "</style>\n",
       "<table border=\"1\" class=\"dataframe\">\n",
       "  <thead>\n",
       "    <tr style=\"text-align: right;\">\n",
       "      <th></th>\n",
       "      <th>adresse_station</th>\n",
       "      <th>latitude</th>\n",
       "      <th>longitude</th>\n",
       "      <th>nbre_pdc</th>\n",
       "      <th>date_maj</th>\n",
       "      <th>code_postal</th>\n",
       "      <th>commune</th>\n",
       "      <th>year</th>\n",
       "      <th>month</th>\n",
       "      <th>trimestre</th>\n",
       "    </tr>\n",
       "  </thead>\n",
       "  <tbody>\n",
       "    <tr>\n",
       "      <th>0</th>\n",
       "      <td>Mercure Auxerre Nord - Route nationale 6 - Lie...</td>\n",
       "      <td>47.851830</td>\n",
       "      <td>3.542802</td>\n",
       "      <td>8</td>\n",
       "      <td>2017-09-17</td>\n",
       "      <td>89380</td>\n",
       "      <td>Appoigny</td>\n",
       "      <td>2017</td>\n",
       "      <td>9</td>\n",
       "      <td>2017Q3</td>\n",
       "    </tr>\n",
       "    <tr>\n",
       "      <th>1</th>\n",
       "      <td>1 Boulevard du Général de Gaulle - 71000 Sancé</td>\n",
       "      <td>46.346553</td>\n",
       "      <td>4.850173</td>\n",
       "      <td>10</td>\n",
       "      <td>2017-09-17</td>\n",
       "      <td>71000</td>\n",
       "      <td>Sancé</td>\n",
       "      <td>2017</td>\n",
       "      <td>9</td>\n",
       "      <td>2017Q3</td>\n",
       "    </tr>\n",
       "    <tr>\n",
       "      <th>2</th>\n",
       "      <td>8 Route Nationale - 51510 Matougues</td>\n",
       "      <td>48.991919</td>\n",
       "      <td>4.245022</td>\n",
       "      <td>4</td>\n",
       "      <td>2017-09-17</td>\n",
       "      <td>51510</td>\n",
       "      <td>Matougues</td>\n",
       "      <td>2017</td>\n",
       "      <td>9</td>\n",
       "      <td>2017Q3</td>\n",
       "    </tr>\n",
       "    <tr>\n",
       "      <th>3</th>\n",
       "      <td>1097 Avenue Des Landiers - 73000 Chambéry</td>\n",
       "      <td>45.592227</td>\n",
       "      <td>5.899842</td>\n",
       "      <td>4</td>\n",
       "      <td>2017-09-17</td>\n",
       "      <td>73000</td>\n",
       "      <td>Chambéry</td>\n",
       "      <td>2017</td>\n",
       "      <td>9</td>\n",
       "      <td>2017Q3</td>\n",
       "    </tr>\n",
       "    <tr>\n",
       "      <th>4</th>\n",
       "      <td>130 Rue de LHôtellerie - 11100 Narbonne</td>\n",
       "      <td>43.167686</td>\n",
       "      <td>2.986016</td>\n",
       "      <td>8</td>\n",
       "      <td>2017-09-17</td>\n",
       "      <td>11100</td>\n",
       "      <td>Narbonne</td>\n",
       "      <td>2017</td>\n",
       "      <td>9</td>\n",
       "      <td>2017Q3</td>\n",
       "    </tr>\n",
       "  </tbody>\n",
       "</table>\n",
       "</div>"
      ],
      "text/plain": [
       "                                     adresse_station   latitude  longitude  \\\n",
       "0  Mercure Auxerre Nord - Route nationale 6 - Lie...  47.851830   3.542802   \n",
       "1     1 Boulevard du Général de Gaulle - 71000 Sancé  46.346553   4.850173   \n",
       "2               8 Route Nationale - 51510 Matougues   48.991919   4.245022   \n",
       "3          1097 Avenue Des Landiers - 73000 Chambéry  45.592227   5.899842   \n",
       "4           130 Rue de LHôtellerie - 11100 Narbonne  43.167686   2.986016   \n",
       "\n",
       "   nbre_pdc   date_maj code_postal    commune  year  month trimestre  \n",
       "0         8 2017-09-17       89380   Appoigny  2017      9    2017Q3  \n",
       "1        10 2017-09-17       71000      Sancé  2017      9    2017Q3  \n",
       "2         4 2017-09-17       51510  Matougues  2017      9    2017Q3  \n",
       "3         4 2017-09-17       73000   Chambéry  2017      9    2017Q3  \n",
       "4         8 2017-09-17       11100   Narbonne  2017      9    2017Q3  "
      ]
     },
     "execution_count": 14,
     "metadata": {},
     "output_type": "execute_result"
    }
   ],
   "source": [
    "# tesla dataset\n",
    "bornes_tesla['code_postal']=bornes_tesla['adresse_station'].str.extract(r'(\\d{5})',expand=False)\n",
    "bornes_tesla['commune']=bornes_tesla.apply(lambda x: get_commune(x['code_postal'],x['longitude_WGS84'],x['latitude_WGS84'],communes),axis=1)\n",
    "# convert date_maj date string format day whole month year to datetime\n",
    "bornes_tesla['date_maj']= datetime(2017, 9, 17)\n",
    "bornes_tesla['year']=bornes_tesla['date_maj'].dt.year\n",
    "bornes_tesla['month']=bornes_tesla['date_maj'].dt.month\n",
    "bornes_tesla['trimestre']=bornes_tesla['date_maj'].dt.to_period('Q')\n",
    "bornes_tesla.rename(columns={'longitude_WGS84':'longitude','latitude_WGS84':'latitude'},inplace=True)\n",
    "data_tesla=bornes_tesla.groupby(['year','month','commune'])['nbre_pdc'].sum().reset_index()\n",
    "bornes_tesla.head()"
   ]
  },
  {
   "attachments": {},
   "cell_type": "markdown",
   "metadata": {},
   "source": [
    "# E55 Dataset"
   ]
  },
  {
   "cell_type": "code",
   "execution_count": 15,
   "metadata": {},
   "outputs": [
    {
     "data": {
      "text/html": [
       "<div>\n",
       "<style scoped>\n",
       "    .dataframe tbody tr th:only-of-type {\n",
       "        vertical-align: middle;\n",
       "    }\n",
       "\n",
       "    .dataframe tbody tr th {\n",
       "        vertical-align: top;\n",
       "    }\n",
       "\n",
       "    .dataframe thead th {\n",
       "        text-align: right;\n",
       "    }\n",
       "</style>\n",
       "<table border=\"1\" class=\"dataframe\">\n",
       "  <thead>\n",
       "    <tr style=\"text-align: right;\">\n",
       "      <th></th>\n",
       "      <th>adresse_station</th>\n",
       "      <th>code_insee_commune</th>\n",
       "      <th>coordonneesXY</th>\n",
       "      <th>nbre_pdc</th>\n",
       "      <th>gratuit</th>\n",
       "      <th>date_mise_en_service</th>\n",
       "      <th>date_maj</th>\n",
       "    </tr>\n",
       "  </thead>\n",
       "  <tbody>\n",
       "    <tr>\n",
       "      <th>0</th>\n",
       "      <td>PARKING MEDIATHEQUE CAVALAIRE SUR MER</td>\n",
       "      <td>83240</td>\n",
       "      <td>43.170946, 6.534893</td>\n",
       "      <td>1</td>\n",
       "      <td>False</td>\n",
       "      <td>07/06/2021</td>\n",
       "      <td>07/06/2021</td>\n",
       "    </tr>\n",
       "    <tr>\n",
       "      <th>1</th>\n",
       "      <td>PARKING MEDIATHEQUE CAVALAIRE SUR MER</td>\n",
       "      <td>83240</td>\n",
       "      <td>43.170946, 6.534893</td>\n",
       "      <td>1</td>\n",
       "      <td>False</td>\n",
       "      <td>07/06/2021</td>\n",
       "      <td>07/06/2021</td>\n",
       "    </tr>\n",
       "    <tr>\n",
       "      <th>2</th>\n",
       "      <td>PARKING PORT ST TROPEZ</td>\n",
       "      <td>83990</td>\n",
       "      <td>43.270440, 6.635375</td>\n",
       "      <td>1</td>\n",
       "      <td>False</td>\n",
       "      <td>07/06/2021</td>\n",
       "      <td>07/06/2021</td>\n",
       "    </tr>\n",
       "    <tr>\n",
       "      <th>3</th>\n",
       "      <td>PARKING PORT ST TROPEZ</td>\n",
       "      <td>83990</td>\n",
       "      <td>43.270440, 6.635375</td>\n",
       "      <td>1</td>\n",
       "      <td>False</td>\n",
       "      <td>07/06/2021</td>\n",
       "      <td>07/06/2021</td>\n",
       "    </tr>\n",
       "    <tr>\n",
       "      <th>4</th>\n",
       "      <td>ZONE COMMERCIAL PUGET SUR ARGENS</td>\n",
       "      <td>83480</td>\n",
       "      <td>43.443935, 6.706553</td>\n",
       "      <td>1</td>\n",
       "      <td>False</td>\n",
       "      <td>07/06/2021</td>\n",
       "      <td>07/06/2021</td>\n",
       "    </tr>\n",
       "  </tbody>\n",
       "</table>\n",
       "</div>"
      ],
      "text/plain": [
       "                         adresse_station code_insee_commune  \\\n",
       "0  PARKING MEDIATHEQUE CAVALAIRE SUR MER              83240   \n",
       "1  PARKING MEDIATHEQUE CAVALAIRE SUR MER              83240   \n",
       "2                 PARKING PORT ST TROPEZ              83990   \n",
       "3                 PARKING PORT ST TROPEZ              83990   \n",
       "4       ZONE COMMERCIAL PUGET SUR ARGENS              83480   \n",
       "\n",
       "         coordonneesXY  nbre_pdc  gratuit date_mise_en_service    date_maj  \n",
       "0  43.170946, 6.534893         1    False           07/06/2021  07/06/2021  \n",
       "1  43.170946, 6.534893         1    False           07/06/2021  07/06/2021  \n",
       "2  43.270440, 6.635375         1    False           07/06/2021  07/06/2021  \n",
       "3  43.270440, 6.635375         1    False           07/06/2021  07/06/2021  \n",
       "4  43.443935, 6.706553         1    False           07/06/2021  07/06/2021  "
      ]
     },
     "execution_count": 15,
     "metadata": {},
     "output_type": "execute_result"
    }
   ],
   "source": [
    "bornes_e55.head()"
   ]
  },
  {
   "cell_type": "code",
   "execution_count": 16,
   "metadata": {},
   "outputs": [
    {
     "name": "stderr",
     "output_type": "stream",
     "text": [
      "C:\\Users\\maram\\AppData\\Local\\Temp\\ipykernel_37796\\860205293.py:5: UserWarning: Parsing dates in DD/MM/YYYY format when dayfirst=False (the default) was specified. This may lead to inconsistently parsed dates! Specify a format to ensure consistent parsing.\n",
      "  bornes_e55['date_mise_en_service']=pd.to_datetime(bornes_e55['date_mise_en_service'])\n"
     ]
    }
   ],
   "source": [
    "# split the coordonneesXY into longitude and latitude\n",
    "bornes_e55['latitude']=bornes_e55['coordonneesXY'].str.split(',').str[0].astype(float)\n",
    "bornes_e55['longitude']=bornes_e55['coordonneesXY'].str.split(',').str[1].astype(float)\n",
    "bornes_e55['code_postal']=bornes_e55['code_insee_commune'].str.extract(r'(\\d{5})',expand=False)\n",
    "bornes_e55['date_mise_en_service']=pd.to_datetime(bornes_e55['date_mise_en_service'])\n",
    "bornes_e55['year']=bornes_e55['date_mise_en_service'].dt.year\n",
    "bornes_e55['month']=bornes_e55['date_mise_en_service'].dt.month\n",
    "bornes_e55['commune']=bornes_e55.apply(lambda x: get_commune(x['code_postal'],x['longitude'],x['latitude'],communes),axis=1)\n",
    "\n",
    "data_e55=bornes_e55.groupby(['year','month','commune'])['nbre_pdc'].sum().reset_index()\n"
   ]
  },
  {
   "cell_type": "code",
   "execution_count": 17,
   "metadata": {},
   "outputs": [
    {
     "data": {
      "text/html": [
       "<div>\n",
       "<style scoped>\n",
       "    .dataframe tbody tr th:only-of-type {\n",
       "        vertical-align: middle;\n",
       "    }\n",
       "\n",
       "    .dataframe tbody tr th {\n",
       "        vertical-align: top;\n",
       "    }\n",
       "\n",
       "    .dataframe thead th {\n",
       "        text-align: right;\n",
       "    }\n",
       "</style>\n",
       "<table border=\"1\" class=\"dataframe\">\n",
       "  <thead>\n",
       "    <tr style=\"text-align: right;\">\n",
       "      <th></th>\n",
       "      <th>year</th>\n",
       "      <th>month</th>\n",
       "      <th>commune</th>\n",
       "      <th>nbre_pdc</th>\n",
       "    </tr>\n",
       "  </thead>\n",
       "  <tbody>\n",
       "    <tr>\n",
       "      <th>0</th>\n",
       "      <td>2021</td>\n",
       "      <td>7</td>\n",
       "      <td>Avignon</td>\n",
       "      <td>58</td>\n",
       "    </tr>\n",
       "    <tr>\n",
       "      <th>1</th>\n",
       "      <td>2021</td>\n",
       "      <td>7</td>\n",
       "      <td>Bruay-la-Buissière</td>\n",
       "      <td>4</td>\n",
       "    </tr>\n",
       "    <tr>\n",
       "      <th>2</th>\n",
       "      <td>2021</td>\n",
       "      <td>7</td>\n",
       "      <td>Cavalaire-sur-Mer</td>\n",
       "      <td>4</td>\n",
       "    </tr>\n",
       "    <tr>\n",
       "      <th>3</th>\n",
       "      <td>2021</td>\n",
       "      <td>7</td>\n",
       "      <td>Clamart</td>\n",
       "      <td>24</td>\n",
       "    </tr>\n",
       "    <tr>\n",
       "      <th>4</th>\n",
       "      <td>2021</td>\n",
       "      <td>7</td>\n",
       "      <td>Cogolin</td>\n",
       "      <td>4</td>\n",
       "    </tr>\n",
       "  </tbody>\n",
       "</table>\n",
       "</div>"
      ],
      "text/plain": [
       "   year  month             commune  nbre_pdc\n",
       "0  2021      7             Avignon        58\n",
       "1  2021      7  Bruay-la-Buissière         4\n",
       "2  2021      7   Cavalaire-sur-Mer         4\n",
       "3  2021      7             Clamart        24\n",
       "4  2021      7             Cogolin         4"
      ]
     },
     "execution_count": 17,
     "metadata": {},
     "output_type": "execute_result"
    }
   ],
   "source": [
    "data_e55.head()"
   ]
  },
  {
   "attachments": {},
   "cell_type": "markdown",
   "metadata": {},
   "source": [
    "# CNR dataset"
   ]
  },
  {
   "cell_type": "code",
   "execution_count": 18,
   "metadata": {},
   "outputs": [
    {
     "data": {
      "text/html": [
       "<div>\n",
       "<style scoped>\n",
       "    .dataframe tbody tr th:only-of-type {\n",
       "        vertical-align: middle;\n",
       "    }\n",
       "\n",
       "    .dataframe tbody tr th {\n",
       "        vertical-align: top;\n",
       "    }\n",
       "\n",
       "    .dataframe thead th {\n",
       "        text-align: right;\n",
       "    }\n",
       "</style>\n",
       "<table border=\"1\" class=\"dataframe\">\n",
       "  <thead>\n",
       "    <tr style=\"text-align: right;\">\n",
       "      <th></th>\n",
       "      <th>adresse_station</th>\n",
       "      <th>code_insee_commune</th>\n",
       "      <th>coordonneesXY</th>\n",
       "      <th>nbre_pdc</th>\n",
       "      <th>date_mise_en_service</th>\n",
       "      <th>date_maj</th>\n",
       "    </tr>\n",
       "  </thead>\n",
       "  <tbody>\n",
       "    <tr>\n",
       "      <th>0</th>\n",
       "      <td>Impasse de Provence 84420 Piolenc</td>\n",
       "      <td>84091</td>\n",
       "      <td>[4.76131, 44.1734]</td>\n",
       "      <td>2</td>\n",
       "      <td>31/01/2017</td>\n",
       "      <td>02/02/2022</td>\n",
       "    </tr>\n",
       "    <tr>\n",
       "      <th>1</th>\n",
       "      <td>Impasse de Provence 84420 Piolenc</td>\n",
       "      <td>84091</td>\n",
       "      <td>[4.76131, 44.1734]</td>\n",
       "      <td>2</td>\n",
       "      <td>31/01/2017</td>\n",
       "      <td>02/02/2022</td>\n",
       "    </tr>\n",
       "    <tr>\n",
       "      <th>2</th>\n",
       "      <td>Avenue de l'Europe 69140 Rillieux-la-Pape</td>\n",
       "      <td>69286</td>\n",
       "      <td>[4.90853, 45.8192]</td>\n",
       "      <td>2</td>\n",
       "      <td>07/02/2017</td>\n",
       "      <td>02/02/2022</td>\n",
       "    </tr>\n",
       "    <tr>\n",
       "      <th>3</th>\n",
       "      <td>Avenue de l'Europe 69140 Rillieux-la-Pape</td>\n",
       "      <td>69286</td>\n",
       "      <td>[4.90853, 45.8192]</td>\n",
       "      <td>2</td>\n",
       "      <td>07/02/2017</td>\n",
       "      <td>01/02/2022</td>\n",
       "    </tr>\n",
       "    <tr>\n",
       "      <th>4</th>\n",
       "      <td>1130 Promenade Léon Perrier 84500 Bollène</td>\n",
       "      <td>84019</td>\n",
       "      <td>[4.74008, 44.304]</td>\n",
       "      <td>2</td>\n",
       "      <td>22/03/2017</td>\n",
       "      <td>02/02/2022</td>\n",
       "    </tr>\n",
       "  </tbody>\n",
       "</table>\n",
       "</div>"
      ],
      "text/plain": [
       "                             adresse_station  code_insee_commune  \\\n",
       "0          Impasse de Provence 84420 Piolenc               84091   \n",
       "1          Impasse de Provence 84420 Piolenc               84091   \n",
       "2  Avenue de l'Europe 69140 Rillieux-la-Pape               69286   \n",
       "3  Avenue de l'Europe 69140 Rillieux-la-Pape               69286   \n",
       "4  1130 Promenade Léon Perrier 84500 Bollène               84019   \n",
       "\n",
       "        coordonneesXY  nbre_pdc date_mise_en_service    date_maj  \n",
       "0  [4.76131, 44.1734]         2           31/01/2017  02/02/2022  \n",
       "1  [4.76131, 44.1734]         2           31/01/2017  02/02/2022  \n",
       "2  [4.90853, 45.8192]         2           07/02/2017  02/02/2022  \n",
       "3  [4.90853, 45.8192]         2           07/02/2017  01/02/2022  \n",
       "4   [4.74008, 44.304]         2           22/03/2017  02/02/2022  "
      ]
     },
     "execution_count": 18,
     "metadata": {},
     "output_type": "execute_result"
    }
   ],
   "source": [
    "bornes_cnr.head()\n"
   ]
  },
  {
   "cell_type": "code",
   "execution_count": 19,
   "metadata": {},
   "outputs": [
    {
     "name": "stderr",
     "output_type": "stream",
     "text": [
      "C:\\Users\\maram\\AppData\\Local\\Temp\\ipykernel_37796\\656454529.py:6: UserWarning: Parsing dates in DD/MM/YYYY format when dayfirst=False (the default) was specified. This may lead to inconsistently parsed dates! Specify a format to ensure consistent parsing.\n",
      "  bornes_cnr['date_mise_en_service']=pd.to_datetime(bornes_cnr['date_mise_en_service'])\n"
     ]
    }
   ],
   "source": [
    "# convert column to float\n",
    "bornes_cnr['code_insee_commune']=bornes_cnr['code_insee_commune'].astype(str)\n",
    "bornes_cnr=bornes_cnr.merge(communes[['code_commune_INSEE','nom_commune']],left_on='code_insee_commune',right_on='code_commune_INSEE',how='left')\n",
    "bornes_cnr.drop(['code_commune_INSEE'],axis=1,inplace=True)\n",
    "bornes_cnr.rename(columns={'nom_commune':'commune'},inplace=True)\n",
    "bornes_cnr['date_mise_en_service']=pd.to_datetime(bornes_cnr['date_mise_en_service'])\n",
    "bornes_cnr['year']=bornes_cnr['date_mise_en_service'].dt.year\n",
    "bornes_cnr['month']=bornes_cnr['date_mise_en_service'].dt.month\n"
   ]
  },
  {
   "cell_type": "code",
   "execution_count": 20,
   "metadata": {},
   "outputs": [
    {
     "data": {
      "text/html": [
       "<div>\n",
       "<style scoped>\n",
       "    .dataframe tbody tr th:only-of-type {\n",
       "        vertical-align: middle;\n",
       "    }\n",
       "\n",
       "    .dataframe tbody tr th {\n",
       "        vertical-align: top;\n",
       "    }\n",
       "\n",
       "    .dataframe thead th {\n",
       "        text-align: right;\n",
       "    }\n",
       "</style>\n",
       "<table border=\"1\" class=\"dataframe\">\n",
       "  <thead>\n",
       "    <tr style=\"text-align: right;\">\n",
       "      <th></th>\n",
       "      <th>year</th>\n",
       "      <th>month</th>\n",
       "      <th>commune</th>\n",
       "      <th>nbre_pdc</th>\n",
       "    </tr>\n",
       "  </thead>\n",
       "  <tbody>\n",
       "    <tr>\n",
       "      <th>0</th>\n",
       "      <td>2017</td>\n",
       "      <td>1</td>\n",
       "      <td>Piolenc</td>\n",
       "      <td>4</td>\n",
       "    </tr>\n",
       "    <tr>\n",
       "      <th>1</th>\n",
       "      <td>2017</td>\n",
       "      <td>2</td>\n",
       "      <td>Lyon 02</td>\n",
       "      <td>9</td>\n",
       "    </tr>\n",
       "    <tr>\n",
       "      <th>2</th>\n",
       "      <td>2017</td>\n",
       "      <td>3</td>\n",
       "      <td>Arles</td>\n",
       "      <td>14</td>\n",
       "    </tr>\n",
       "    <tr>\n",
       "      <th>3</th>\n",
       "      <td>2017</td>\n",
       "      <td>3</td>\n",
       "      <td>Bollène</td>\n",
       "      <td>4</td>\n",
       "    </tr>\n",
       "    <tr>\n",
       "      <th>4</th>\n",
       "      <td>2017</td>\n",
       "      <td>4</td>\n",
       "      <td>Bellegarde-sur-Valserine</td>\n",
       "      <td>2</td>\n",
       "    </tr>\n",
       "  </tbody>\n",
       "</table>\n",
       "</div>"
      ],
      "text/plain": [
       "   year  month                   commune  nbre_pdc\n",
       "0  2017      1                   Piolenc         4\n",
       "1  2017      2                   Lyon 02         9\n",
       "2  2017      3                     Arles        14\n",
       "3  2017      3                   Bollène         4\n",
       "4  2017      4  Bellegarde-sur-Valserine         2"
      ]
     },
     "execution_count": 20,
     "metadata": {},
     "output_type": "execute_result"
    }
   ],
   "source": [
    "bornes_cnr['latitude']=bornes_cnr['coordonneesXY'].str.split(',').str[0]\n",
    "bornes_cnr['longitude']=bornes_cnr['coordonneesXY'].str.split(',').str[1]\n",
    "bornes_cnr['longitude']=bornes_cnr['longitude'].apply(lambda x: x.strip().replace(']',''))\n",
    "bornes_cnr['latitude']=bornes_cnr['latitude'].apply(lambda x: x.strip().replace('[',''))\n",
    "data_cnr=bornes_cnr.groupby(['year','month','commune'])['nbre_pdc'].sum().reset_index()\n",
    "data_cnr.head()"
   ]
  },
  {
   "attachments": {},
   "cell_type": "markdown",
   "metadata": {},
   "source": [
    "# Renault Dataset\n"
   ]
  },
  {
   "cell_type": "code",
   "execution_count": 21,
   "metadata": {},
   "outputs": [
    {
     "data": {
      "text/html": [
       "<div>\n",
       "<style scoped>\n",
       "    .dataframe tbody tr th:only-of-type {\n",
       "        vertical-align: middle;\n",
       "    }\n",
       "\n",
       "    .dataframe tbody tr th {\n",
       "        vertical-align: top;\n",
       "    }\n",
       "\n",
       "    .dataframe thead th {\n",
       "        text-align: right;\n",
       "    }\n",
       "</style>\n",
       "<table border=\"1\" class=\"dataframe\">\n",
       "  <thead>\n",
       "    <tr style=\"text-align: right;\">\n",
       "      <th></th>\n",
       "      <th>nom_station</th>\n",
       "      <th>longitude_WSG84</th>\n",
       "      <th>latitude_WSG84</th>\n",
       "      <th>nbre_pdc</th>\n",
       "    </tr>\n",
       "  </thead>\n",
       "  <tbody>\n",
       "    <tr>\n",
       "      <th>0</th>\n",
       "      <td>ETABLISSEMENT RENAULT DE BOURG-EN-BRESSE</td>\n",
       "      <td>46.212732</td>\n",
       "      <td>5.218786</td>\n",
       "      <td>1</td>\n",
       "    </tr>\n",
       "    <tr>\n",
       "      <th>1</th>\n",
       "      <td>ETABLISSEMENT RENAULT DE CESSY</td>\n",
       "      <td>46.305656</td>\n",
       "      <td>6.066023</td>\n",
       "      <td>1</td>\n",
       "    </tr>\n",
       "    <tr>\n",
       "      <th>2</th>\n",
       "      <td>ETABLISSEMENT RENAULT DE BELLEGARDE-SUR-VALSERINE</td>\n",
       "      <td>46.119135</td>\n",
       "      <td>5.810467</td>\n",
       "      <td>1</td>\n",
       "    </tr>\n",
       "    <tr>\n",
       "      <th>3</th>\n",
       "      <td>ETABLISSEMENT RENAULT DE LAON</td>\n",
       "      <td>49.583957</td>\n",
       "      <td>3.647164</td>\n",
       "      <td>1</td>\n",
       "    </tr>\n",
       "    <tr>\n",
       "      <th>4</th>\n",
       "      <td>ETABLISSEMENT RENAULT DE SAINT-QUENTIN</td>\n",
       "      <td>49.850773</td>\n",
       "      <td>3.262393</td>\n",
       "      <td>1</td>\n",
       "    </tr>\n",
       "  </tbody>\n",
       "</table>\n",
       "</div>"
      ],
      "text/plain": [
       "                                         nom_station  longitude_WSG84  \\\n",
       "0           ETABLISSEMENT RENAULT DE BOURG-EN-BRESSE        46.212732   \n",
       "1                     ETABLISSEMENT RENAULT DE CESSY        46.305656   \n",
       "2  ETABLISSEMENT RENAULT DE BELLEGARDE-SUR-VALSERINE        46.119135   \n",
       "3                      ETABLISSEMENT RENAULT DE LAON        49.583957   \n",
       "4             ETABLISSEMENT RENAULT DE SAINT-QUENTIN        49.850773   \n",
       "\n",
       "   latitude_WSG84  nbre_pdc  \n",
       "0        5.218786         1  \n",
       "1        6.066023         1  \n",
       "2        5.810467         1  \n",
       "3        3.647164         1  \n",
       "4        3.262393         1  "
      ]
     },
     "execution_count": 21,
     "metadata": {},
     "output_type": "execute_result"
    }
   ],
   "source": [
    "bornes_renault.head()"
   ]
  },
  {
   "cell_type": "code",
   "execution_count": 22,
   "metadata": {},
   "outputs": [],
   "source": [
    "import numpy as np\n",
    "# get the dataframe in with we find name in the column nom_commune_complet\n",
    "communes.nom_commune_postal=communes.nom_commune_postal.str.lower()\n",
    "communes.nom_commune_complet=communes.nom_commune_complet.str.lower()\n",
    "def find_commune_in_dataframe(ch,communes):\n",
    "    ch=ch.lower()\n",
    "\n",
    "    r=communes[communes['nom_commune_complet'].str.contains(ch)]\n",
    "    if len(r)>0:\n",
    "        return r['nom_commune_complet'].values[0]\n",
    "    else:\n",
    "        \n",
    "        r=communes[communes['nom_commune_postal'].str.contains(ch.replace('-',' '))]\n",
    "        if len(r)>0:\n",
    "            return r['nom_commune_complet'].values[0]\n",
    "        else:\n",
    "            if 'saint' in ch.lower():\n",
    "                return find_commune_in_dataframe(ch.replace('saint','st'),communes)\n",
    "            else:\n",
    "                return np.nan"
   ]
  },
  {
   "cell_type": "code",
   "execution_count": 23,
   "metadata": {},
   "outputs": [],
   "source": [
    "bornes_renault['commune_nom']=bornes_renault['nom_station'].str.split(' ').str[-1]\n",
    "bornes_renault['commune']=bornes_renault['commune_nom'].apply(lambda row: find_commune_in_dataframe(row,communes))\n",
    "bornes_renault['year']=2022\n",
    "bornes_renault['month']=1\n",
    "bornes_renault.rename(columns={'longitude_WSG84':'longitude','latitude_WSG84':'latitude'},inplace=True)\n",
    "\n"
   ]
  },
  {
   "cell_type": "code",
   "execution_count": 24,
   "metadata": {},
   "outputs": [
    {
     "data": {
      "text/html": [
       "<div>\n",
       "<style scoped>\n",
       "    .dataframe tbody tr th:only-of-type {\n",
       "        vertical-align: middle;\n",
       "    }\n",
       "\n",
       "    .dataframe tbody tr th {\n",
       "        vertical-align: top;\n",
       "    }\n",
       "\n",
       "    .dataframe thead th {\n",
       "        text-align: right;\n",
       "    }\n",
       "</style>\n",
       "<table border=\"1\" class=\"dataframe\">\n",
       "  <thead>\n",
       "    <tr style=\"text-align: right;\">\n",
       "      <th></th>\n",
       "      <th>year</th>\n",
       "      <th>month</th>\n",
       "      <th>commune</th>\n",
       "      <th>nbre_pdc</th>\n",
       "    </tr>\n",
       "  </thead>\n",
       "  <tbody>\n",
       "    <tr>\n",
       "      <th>0</th>\n",
       "      <td>2022</td>\n",
       "      <td>1</td>\n",
       "      <td>abbeville-saint-lucien</td>\n",
       "      <td>1</td>\n",
       "    </tr>\n",
       "    <tr>\n",
       "      <th>1</th>\n",
       "      <td>2022</td>\n",
       "      <td>1</td>\n",
       "      <td>abrest</td>\n",
       "      <td>1</td>\n",
       "    </tr>\n",
       "    <tr>\n",
       "      <th>2</th>\n",
       "      <td>2022</td>\n",
       "      <td>1</td>\n",
       "      <td>agen-d'aveyron</td>\n",
       "      <td>1</td>\n",
       "    </tr>\n",
       "    <tr>\n",
       "      <th>3</th>\n",
       "      <td>2022</td>\n",
       "      <td>1</td>\n",
       "      <td>agnicourt-et-séchelles</td>\n",
       "      <td>1</td>\n",
       "    </tr>\n",
       "    <tr>\n",
       "      <th>4</th>\n",
       "      <td>2022</td>\n",
       "      <td>1</td>\n",
       "      <td>aire-sur-l'adour</td>\n",
       "      <td>1</td>\n",
       "    </tr>\n",
       "  </tbody>\n",
       "</table>\n",
       "</div>"
      ],
      "text/plain": [
       "   year  month                 commune  nbre_pdc\n",
       "0  2022      1  abbeville-saint-lucien         1\n",
       "1  2022      1                  abrest         1\n",
       "2  2022      1          agen-d'aveyron         1\n",
       "3  2022      1  agnicourt-et-séchelles         1\n",
       "4  2022      1        aire-sur-l'adour         1"
      ]
     },
     "execution_count": 24,
     "metadata": {},
     "output_type": "execute_result"
    }
   ],
   "source": [
    "data_renault=bornes_renault.groupby(['year','month','commune'])['nbre_pdc'].sum().reset_index()\n",
    "data_renault.head()"
   ]
  },
  {
   "attachments": {},
   "cell_type": "markdown",
   "metadata": {},
   "source": [
    "# Nissan Dataset"
   ]
  },
  {
   "cell_type": "code",
   "execution_count": 25,
   "metadata": {},
   "outputs": [
    {
     "data": {
      "text/html": [
       "<div>\n",
       "<style scoped>\n",
       "    .dataframe tbody tr th:only-of-type {\n",
       "        vertical-align: middle;\n",
       "    }\n",
       "\n",
       "    .dataframe tbody tr th {\n",
       "        vertical-align: top;\n",
       "    }\n",
       "\n",
       "    .dataframe thead th {\n",
       "        text-align: right;\n",
       "    }\n",
       "</style>\n",
       "<table border=\"1\" class=\"dataframe\">\n",
       "  <thead>\n",
       "    <tr style=\"text-align: right;\">\n",
       "      <th></th>\n",
       "      <th>LIEU</th>\n",
       "      <th>CP</th>\n",
       "      <th>Latitude</th>\n",
       "      <th>Longitude</th>\n",
       "      <th>LIEN CHARGEMAP</th>\n",
       "      <th>nbre_pdc</th>\n",
       "    </tr>\n",
       "  </thead>\n",
       "  <tbody>\n",
       "    <tr>\n",
       "      <th>0</th>\n",
       "      <td>Concession NISSAN</td>\n",
       "      <td>6000</td>\n",
       "      <td>43.703299</td>\n",
       "      <td>7.256004</td>\n",
       "      <td>http://fr.chargemap.com/points/details/nissan-...</td>\n",
       "      <td>1</td>\n",
       "    </tr>\n",
       "    <tr>\n",
       "      <th>1</th>\n",
       "      <td>Concession NISSAN</td>\n",
       "      <td>13016</td>\n",
       "      <td>43.360022</td>\n",
       "      <td>5.339142</td>\n",
       "      <td>http://fr.chargemap.com/points/details/nissan-...</td>\n",
       "      <td>1</td>\n",
       "    </tr>\n",
       "    <tr>\n",
       "      <th>2</th>\n",
       "      <td>Concession NISSAN</td>\n",
       "      <td>13090</td>\n",
       "      <td>43.528462</td>\n",
       "      <td>5.431113</td>\n",
       "      <td>http://fr.chargemap.com/points/details/nissan-...</td>\n",
       "      <td>1</td>\n",
       "    </tr>\n",
       "    <tr>\n",
       "      <th>3</th>\n",
       "      <td>Concession NISSAN</td>\n",
       "      <td>17690</td>\n",
       "      <td>46.103866</td>\n",
       "      <td>-1.110261</td>\n",
       "      <td>http://fr.chargemap.com/points/details/nissan-...</td>\n",
       "      <td>1</td>\n",
       "    </tr>\n",
       "    <tr>\n",
       "      <th>4</th>\n",
       "      <td>Concession NISSAN</td>\n",
       "      <td>28630</td>\n",
       "      <td>48.420661</td>\n",
       "      <td>1.444959</td>\n",
       "      <td>http://fr.chargemap.com/points/details/nissan-lga</td>\n",
       "      <td>1</td>\n",
       "    </tr>\n",
       "  </tbody>\n",
       "</table>\n",
       "</div>"
      ],
      "text/plain": [
       "                LIEU     CP   Latitude  Longitude  \\\n",
       "0  Concession NISSAN   6000  43.703299   7.256004   \n",
       "1  Concession NISSAN  13016  43.360022   5.339142   \n",
       "2  Concession NISSAN  13090  43.528462   5.431113   \n",
       "3  Concession NISSAN  17690  46.103866  -1.110261   \n",
       "4  Concession NISSAN  28630  48.420661   1.444959   \n",
       "\n",
       "                                      LIEN CHARGEMAP  nbre_pdc  \n",
       "0  http://fr.chargemap.com/points/details/nissan-...         1  \n",
       "1  http://fr.chargemap.com/points/details/nissan-...         1  \n",
       "2  http://fr.chargemap.com/points/details/nissan-...         1  \n",
       "3  http://fr.chargemap.com/points/details/nissan-...         1  \n",
       "4  http://fr.chargemap.com/points/details/nissan-lga         1  "
      ]
     },
     "execution_count": 25,
     "metadata": {},
     "output_type": "execute_result"
    }
   ],
   "source": [
    "bornes_nissan.head()"
   ]
  },
  {
   "cell_type": "code",
   "execution_count": 26,
   "metadata": {},
   "outputs": [
    {
     "data": {
      "text/html": [
       "<div>\n",
       "<style scoped>\n",
       "    .dataframe tbody tr th:only-of-type {\n",
       "        vertical-align: middle;\n",
       "    }\n",
       "\n",
       "    .dataframe tbody tr th {\n",
       "        vertical-align: top;\n",
       "    }\n",
       "\n",
       "    .dataframe thead th {\n",
       "        text-align: right;\n",
       "    }\n",
       "</style>\n",
       "<table border=\"1\" class=\"dataframe\">\n",
       "  <thead>\n",
       "    <tr style=\"text-align: right;\">\n",
       "      <th></th>\n",
       "      <th>month</th>\n",
       "      <th>year</th>\n",
       "      <th>commune</th>\n",
       "      <th>nbre_pdc</th>\n",
       "    </tr>\n",
       "  </thead>\n",
       "  <tbody>\n",
       "    <tr>\n",
       "      <th>0</th>\n",
       "      <td>1</td>\n",
       "      <td>2015</td>\n",
       "      <td>aix-en-provence</td>\n",
       "      <td>1</td>\n",
       "    </tr>\n",
       "    <tr>\n",
       "      <th>1</th>\n",
       "      <td>1</td>\n",
       "      <td>2015</td>\n",
       "      <td>amiens</td>\n",
       "      <td>1</td>\n",
       "    </tr>\n",
       "    <tr>\n",
       "      <th>2</th>\n",
       "      <td>1</td>\n",
       "      <td>2015</td>\n",
       "      <td>angoulins</td>\n",
       "      <td>1</td>\n",
       "    </tr>\n",
       "    <tr>\n",
       "      <th>3</th>\n",
       "      <td>1</td>\n",
       "      <td>2015</td>\n",
       "      <td>avignon</td>\n",
       "      <td>1</td>\n",
       "    </tr>\n",
       "    <tr>\n",
       "      <th>4</th>\n",
       "      <td>1</td>\n",
       "      <td>2015</td>\n",
       "      <td>besançon</td>\n",
       "      <td>1</td>\n",
       "    </tr>\n",
       "  </tbody>\n",
       "</table>\n",
       "</div>"
      ],
      "text/plain": [
       "   month  year          commune  nbre_pdc\n",
       "0      1  2015  aix-en-provence         1\n",
       "1      1  2015           amiens         1\n",
       "2      1  2015        angoulins         1\n",
       "3      1  2015          avignon         1\n",
       "4      1  2015         besançon         1"
      ]
     },
     "execution_count": 26,
     "metadata": {},
     "output_type": "execute_result"
    }
   ],
   "source": [
    "bornes_nissan['commune']=bornes_nissan.apply(lambda x: get_commune(x['CP'],x['Longitude'],x['Latitude'],communes),axis=1)\n",
    "bornes_nissan['year']=2015\n",
    "bornes_nissan['month']=1\n",
    "data_nissan=bornes_nissan.groupby(['month','year','commune'])['nbre_pdc'].sum().reset_index()\n",
    "data_nissan.columns=data_nissan.columns.str.lower()\n",
    "data_nissan.head()\n"
   ]
  },
  {
   "attachments": {},
   "cell_type": "markdown",
   "metadata": {},
   "source": [
    "#  Etalab dataset "
   ]
  },
  {
   "cell_type": "code",
   "execution_count": 27,
   "metadata": {},
   "outputs": [],
   "source": [
    "no_commune = bornes_missing_communes[bornes_missing_communes['consolidated_commune'].isnull()]\n",
    "with_commune = bornes_missing_communes[bornes_missing_communes['consolidated_commune'].notnull()]"
   ]
  },
  {
   "cell_type": "code",
   "execution_count": 28,
   "metadata": {},
   "outputs": [
    {
     "name": "stderr",
     "output_type": "stream",
     "text": [
      "C:\\Users\\maram\\AppData\\Local\\Temp\\ipykernel_37796\\2017973935.py:1: SettingWithCopyWarning: \n",
      "A value is trying to be set on a copy of a slice from a DataFrame.\n",
      "Try using .loc[row_indexer,col_indexer] = value instead\n",
      "\n",
      "See the caveats in the documentation: https://pandas.pydata.org/pandas-docs/stable/user_guide/indexing.html#returning-a-view-versus-a-copy\n",
      "  no_commune['commune']=no_commune.apply(lambda x: get_commune(x['code_postal'],x['consolidated_longitude'],x['consolidated_latitude'],communes),axis=1)\n"
     ]
    }
   ],
   "source": [
    "no_commune['commune']=no_commune.apply(lambda x: get_commune(x['code_postal'],x['consolidated_longitude'],x['consolidated_latitude'],communes),axis=1)"
   ]
  },
  {
   "cell_type": "code",
   "execution_count": 29,
   "metadata": {},
   "outputs": [],
   "source": [
    "no_commune=no_commune.merge(communes[['code_commune_INSEE','nom_commune']], left_on='code_insee_commune', right_on='code_commune_INSEE', how='left')\n",
    "no_commune['consolidated_commune']=no_commune['nom_commune'].fillna(no_commune['commune'])\n",
    "# get the final dataset by concatenating the two datasets\n",
    "no_commune.drop(['code_commune_INSEE','nom_commune','commune'],axis=1,inplace=True)\n"
   ]
  },
  {
   "cell_type": "code",
   "execution_count": 30,
   "metadata": {},
   "outputs": [],
   "source": [
    "bornes=pd.concat([with_commune,no_commune],axis=0)\n",
    "bornes['latitude']=bornes['coordonneesXY'].str.split(',').str[0]\n",
    "bornes['longitude']=bornes['coordonneesXY'].str.split(',').str[1]\n",
    "bornes['longitude']=bornes['longitude'].apply(lambda x: x.strip().replace(']',''))\n",
    "bornes['latitude']=bornes['latitude'].apply(lambda x: x.strip().replace('[',''))"
   ]
  },
  {
   "cell_type": "code",
   "execution_count": 31,
   "metadata": {},
   "outputs": [
    {
     "name": "stderr",
     "output_type": "stream",
     "text": [
      "C:\\Users\\maram\\AppData\\Local\\Temp\\ipykernel_37796\\1014021659.py:2: UserWarning: Parsing dates in DD/MM/YYYY format when dayfirst=False (the default) was specified. This may lead to inconsistently parsed dates! Specify a format to ensure consistent parsing.\n",
      "  bornes['date_mise_en_service']=pd.to_datetime(bornes['date_mise_en_service'])\n",
      "C:\\Users\\maram\\AppData\\Local\\Temp\\ipykernel_37796\\1014021659.py:3: UserWarning: Parsing dates in DD/MM/YYYY format when dayfirst=False (the default) was specified. This may lead to inconsistently parsed dates! Specify a format to ensure consistent parsing.\n",
      "  bornes['date_maj']=pd.to_datetime(bornes['date_maj'])\n"
     ]
    }
   ],
   "source": [
    "#  convert columns date_mise_en_service\tdate_maj\tlast_modified to date\n",
    "bornes['date_mise_en_service']=pd.to_datetime(bornes['date_mise_en_service'])\n",
    "bornes['date_maj']=pd.to_datetime(bornes['date_maj'])\n",
    "bornes['last_modified']=pd.to_datetime(bornes['last_modified'])\n",
    "# imputation of date_mise_en_service using the max date_mise_en_service of the corresponding implantation_station\n",
    "bornes['date_mise_en_service']=bornes.groupby('implantation_station')['date_mise_en_service'].transform(lambda x: x.fillna(x.max()))\n",
    "# create a column that sets  date_mise_en_service inferior to 2014-01-01 to 2014-01-01\n",
    "bornes['date_mise_en_service_2014']=bornes['date_mise_en_service'].apply(lambda x: x if x>pd.to_datetime('2014-01-01') else pd.to_datetime('2014-01-01'))\n",
    "# get only the date from the column last_modified\n",
    "bornes['year']=bornes['last_modified'].dt.year\n",
    "bornes['month']=bornes['last_modified'].dt.month\n",
    "bornes.rename(columns={'consolidated_commune':'commune'},inplace=True)\n",
    "\n",
    "data_etalab=bornes.groupby(['year','month','commune'])['nbre_pdc'].sum().reset_index()\n",
    "\n"
   ]
  },
  {
   "cell_type": "code",
   "execution_count": 32,
   "metadata": {},
   "outputs": [
    {
     "data": {
      "text/html": [
       "<div>\n",
       "<style scoped>\n",
       "    .dataframe tbody tr th:only-of-type {\n",
       "        vertical-align: middle;\n",
       "    }\n",
       "\n",
       "    .dataframe tbody tr th {\n",
       "        vertical-align: top;\n",
       "    }\n",
       "\n",
       "    .dataframe thead th {\n",
       "        text-align: right;\n",
       "    }\n",
       "</style>\n",
       "<table border=\"1\" class=\"dataframe\">\n",
       "  <thead>\n",
       "    <tr style=\"text-align: right;\">\n",
       "      <th></th>\n",
       "      <th>year</th>\n",
       "      <th>month</th>\n",
       "      <th>commune</th>\n",
       "      <th>nbre_pdc</th>\n",
       "    </tr>\n",
       "  </thead>\n",
       "  <tbody>\n",
       "    <tr>\n",
       "      <th>0</th>\n",
       "      <td>2023</td>\n",
       "      <td>1</td>\n",
       "      <td>Abbaretz</td>\n",
       "      <td>4</td>\n",
       "    </tr>\n",
       "    <tr>\n",
       "      <th>1</th>\n",
       "      <td>2023</td>\n",
       "      <td>1</td>\n",
       "      <td>Abeilhan</td>\n",
       "      <td>8</td>\n",
       "    </tr>\n",
       "    <tr>\n",
       "      <th>2</th>\n",
       "      <td>2023</td>\n",
       "      <td>1</td>\n",
       "      <td>Abzac</td>\n",
       "      <td>8</td>\n",
       "    </tr>\n",
       "    <tr>\n",
       "      <th>3</th>\n",
       "      <td>2023</td>\n",
       "      <td>1</td>\n",
       "      <td>Achicourt</td>\n",
       "      <td>8</td>\n",
       "    </tr>\n",
       "    <tr>\n",
       "      <th>4</th>\n",
       "      <td>2023</td>\n",
       "      <td>1</td>\n",
       "      <td>Achères</td>\n",
       "      <td>20</td>\n",
       "    </tr>\n",
       "  </tbody>\n",
       "</table>\n",
       "</div>"
      ],
      "text/plain": [
       "   year  month    commune  nbre_pdc\n",
       "0  2023      1   Abbaretz         4\n",
       "1  2023      1   Abeilhan         8\n",
       "2  2023      1      Abzac         8\n",
       "3  2023      1  Achicourt         8\n",
       "4  2023      1    Achères        20"
      ]
     },
     "execution_count": 32,
     "metadata": {},
     "output_type": "execute_result"
    }
   ],
   "source": [
    "data_etalab.head()"
   ]
  },
  {
   "attachments": {},
   "cell_type": "markdown",
   "metadata": {},
   "source": [
    "# Final Dataset"
   ]
  },
  {
   "cell_type": "code",
   "execution_count": 33,
   "metadata": {},
   "outputs": [],
   "source": [
    "# concat the data from the six datasets\n",
    "data=pd.concat([data_etalab,data_renault,data_nissan,data_cnr,data_tesla,data_e55,bornes_edenred,bornes_auchan,bornes_ve,bornes_irve],axis=0)\n",
    "data=data.groupby(['year','month','commune'])['nbre_pdc'].sum().reset_index()\n",
    "# calculate the cumulative sum of nbre_pdc by commune\n",
    "data['cumsum']=data.groupby('commune')['nbre_pdc'].cumsum()\n",
    "data=data.groupby(['year','commune'])['nbre_pdc'].sum().reset_index()\n",
    "# add the missing year values for each commune and fill with the value of the previous year\n",
    "year_list=[2014,2015,2016,2017,2018,2019,2020,2021,2022,2023]\n",
    "for year in year_list:\n",
    "    for commune in data['commune'].unique():\n",
    "        if len(data[(data['year']==year)& (data['commune']==commune)])==0 :\n",
    "            # adda a row to dataset\n",
    "            data=pd.concat([data,pd.DataFrame({'year':year,'commune':commune,'nbre_pdc':np.nan},index=[0])])\n",
    "\n"
   ]
  },
  {
   "cell_type": "code",
   "execution_count": 34,
   "metadata": {},
   "outputs": [],
   "source": [
    "data.nbre_pdc.fillna(0,inplace=True)\n",
    "data['total_bornes']=data.groupby('commune')['nbre_pdc'].cumsum()\n"
   ]
  },
  {
   "cell_type": "code",
   "execution_count": 41,
   "metadata": {},
   "outputs": [],
   "source": [
    "data.to_csv('bornes_par_commune_par_année.csv',index=False)"
   ]
  },
  {
   "attachments": {},
   "cell_type": "markdown",
   "metadata": {},
   "source": [
    "# Get the cluster"
   ]
  },
  {
   "attachments": {},
   "cell_type": "markdown",
   "metadata": {},
   "source": [
    "Visualize the distribution of the \"bornes de recharge\" per cluster per year"
   ]
  },
  {
   "cell_type": "code",
   "execution_count": 63,
   "metadata": {},
   "outputs": [
    {
     "data": {
      "text/html": [
       "<div>\n",
       "<style scoped>\n",
       "    .dataframe tbody tr th:only-of-type {\n",
       "        vertical-align: middle;\n",
       "    }\n",
       "\n",
       "    .dataframe tbody tr th {\n",
       "        vertical-align: top;\n",
       "    }\n",
       "\n",
       "    .dataframe thead th {\n",
       "        text-align: right;\n",
       "    }\n",
       "</style>\n",
       "<table border=\"1\" class=\"dataframe\">\n",
       "  <thead>\n",
       "    <tr style=\"text-align: right;\">\n",
       "      <th></th>\n",
       "      <th>commune</th>\n",
       "      <th>cluster</th>\n",
       "    </tr>\n",
       "  </thead>\n",
       "  <tbody>\n",
       "    <tr>\n",
       "      <th>0</th>\n",
       "      <td>l'abergement-clémenciat</td>\n",
       "      <td>3</td>\n",
       "    </tr>\n",
       "    <tr>\n",
       "      <th>1</th>\n",
       "      <td>l'abergement-de-varey</td>\n",
       "      <td>6</td>\n",
       "    </tr>\n",
       "    <tr>\n",
       "      <th>2</th>\n",
       "      <td>ambérieu-en-bugey</td>\n",
       "      <td>35</td>\n",
       "    </tr>\n",
       "    <tr>\n",
       "      <th>3</th>\n",
       "      <td>ambérieux-en-dombes</td>\n",
       "      <td>3</td>\n",
       "    </tr>\n",
       "    <tr>\n",
       "      <th>4</th>\n",
       "      <td>ambléon</td>\n",
       "      <td>3</td>\n",
       "    </tr>\n",
       "  </tbody>\n",
       "</table>\n",
       "</div>"
      ],
      "text/plain": [
       "                   commune  cluster\n",
       "0  l'abergement-clémenciat        3\n",
       "1    l'abergement-de-varey        6\n",
       "2        ambérieu-en-bugey       35\n",
       "3      ambérieux-en-dombes        3\n",
       "4                  ambléon        3"
      ]
     },
     "execution_count": 63,
     "metadata": {},
     "output_type": "execute_result"
    }
   ],
   "source": [
    "df_cluster=pd.read_csv('./Cluster/data_commune_cluster.csv')\n",
    "df_cluster=df_cluster[['libgeo','cluster']]\n",
    "df_cluster.rename(columns={'libgeo':'commune'},inplace=True)\n",
    "df_cluster.commune=df_cluster.commune.str.lower()\n",
    "\n",
    "df_cluster.head()"
   ]
  },
  {
   "cell_type": "code",
   "execution_count": 64,
   "metadata": {},
   "outputs": [
    {
     "data": {
      "text/html": [
       "<div>\n",
       "<style scoped>\n",
       "    .dataframe tbody tr th:only-of-type {\n",
       "        vertical-align: middle;\n",
       "    }\n",
       "\n",
       "    .dataframe tbody tr th {\n",
       "        vertical-align: top;\n",
       "    }\n",
       "\n",
       "    .dataframe thead th {\n",
       "        text-align: right;\n",
       "    }\n",
       "</style>\n",
       "<table border=\"1\" class=\"dataframe\">\n",
       "  <thead>\n",
       "    <tr style=\"text-align: right;\">\n",
       "      <th></th>\n",
       "      <th>year</th>\n",
       "      <th>commune</th>\n",
       "      <th>nbre_pdc</th>\n",
       "      <th>total_bornes</th>\n",
       "      <th>cluster</th>\n",
       "    </tr>\n",
       "  </thead>\n",
       "  <tbody>\n",
       "    <tr>\n",
       "      <th>0</th>\n",
       "      <td>2015</td>\n",
       "      <td>boulleret</td>\n",
       "      <td>2.0</td>\n",
       "      <td>2.0</td>\n",
       "      <td>1.0</td>\n",
       "    </tr>\n",
       "    <tr>\n",
       "      <th>1</th>\n",
       "      <td>2015</td>\n",
       "      <td>chezal-benoît</td>\n",
       "      <td>2.0</td>\n",
       "      <td>2.0</td>\n",
       "      <td>1.0</td>\n",
       "    </tr>\n",
       "    <tr>\n",
       "      <th>2</th>\n",
       "      <td>2015</td>\n",
       "      <td>méreau</td>\n",
       "      <td>2.0</td>\n",
       "      <td>2.0</td>\n",
       "      <td>1.0</td>\n",
       "    </tr>\n",
       "    <tr>\n",
       "      <th>3</th>\n",
       "      <td>2015</td>\n",
       "      <td>neuvy-sur-barangeon</td>\n",
       "      <td>2.0</td>\n",
       "      <td>2.0</td>\n",
       "      <td>1.0</td>\n",
       "    </tr>\n",
       "    <tr>\n",
       "      <th>4</th>\n",
       "      <td>2015</td>\n",
       "      <td>aix-en-provence</td>\n",
       "      <td>1.0</td>\n",
       "      <td>1.0</td>\n",
       "      <td>16.0</td>\n",
       "    </tr>\n",
       "  </tbody>\n",
       "</table>\n",
       "</div>"
      ],
      "text/plain": [
       "   year              commune  nbre_pdc  total_bornes  cluster\n",
       "0  2015            boulleret       2.0           2.0      1.0\n",
       "1  2015        chezal-benoît       2.0           2.0      1.0\n",
       "2  2015               méreau       2.0           2.0      1.0\n",
       "3  2015  neuvy-sur-barangeon       2.0           2.0      1.0\n",
       "4  2015      aix-en-provence       1.0           1.0     16.0"
      ]
     },
     "execution_count": 64,
     "metadata": {},
     "output_type": "execute_result"
    }
   ],
   "source": [
    "data.commune=data.commune.str.lower()\n",
    "bornes_cluster=data.merge(df_cluster,on='commune',how='left')\n",
    "bornes_cluster.head()"
   ]
  },
  {
   "cell_type": "code",
   "execution_count": 65,
   "metadata": {},
   "outputs": [],
   "source": [
    "other_comm=bornes_missing_communes[['consolidated_latitude','consolidated_longitude','consolidated_commune','nbre_pdc']].groupby(['consolidated_latitude','consolidated_longitude','consolidated_commune'])['nbre_pdc'].sum().reset_index()\n",
    "other_comm.consolidated_commune=other_comm.consolidated_commune.str.lower()"
   ]
  },
  {
   "cell_type": "code",
   "execution_count": 66,
   "metadata": {},
   "outputs": [],
   "source": [
    "commune_=communes[['nom_commune_complet','latitude','longitude']].groupby('nom_commune_complet').agg({'latitude':'mean','longitude':'mean'}).reset_index()\n",
    "commune_['nom_commune_modified']=commune_.nom_commune_complet.apply(lambda row: row.split(' ')[1] if len(row.split(' '))>1 else row)\n",
    "bornes_cluster_=bornes_cluster.merge(commune_,left_on='commune',right_on='nom_commune_complet',how='left')"
   ]
  },
  {
   "cell_type": "code",
   "execution_count": 67,
   "metadata": {},
   "outputs": [
    {
     "data": {
      "text/html": [
       "<div>\n",
       "<style scoped>\n",
       "    .dataframe tbody tr th:only-of-type {\n",
       "        vertical-align: middle;\n",
       "    }\n",
       "\n",
       "    .dataframe tbody tr th {\n",
       "        vertical-align: top;\n",
       "    }\n",
       "\n",
       "    .dataframe thead th {\n",
       "        text-align: right;\n",
       "    }\n",
       "</style>\n",
       "<table border=\"1\" class=\"dataframe\">\n",
       "  <thead>\n",
       "    <tr style=\"text-align: right;\">\n",
       "      <th></th>\n",
       "      <th>year</th>\n",
       "      <th>commune</th>\n",
       "      <th>nbre_pdc</th>\n",
       "      <th>total_bornes</th>\n",
       "      <th>cluster</th>\n",
       "      <th>nom_commune_complet</th>\n",
       "      <th>latitude</th>\n",
       "      <th>longitude</th>\n",
       "      <th>nom_commune_modified</th>\n",
       "    </tr>\n",
       "  </thead>\n",
       "  <tbody>\n",
       "    <tr>\n",
       "      <th>0</th>\n",
       "      <td>2015</td>\n",
       "      <td>boulleret</td>\n",
       "      <td>2.0</td>\n",
       "      <td>2.0</td>\n",
       "      <td>1.0</td>\n",
       "      <td>boulleret</td>\n",
       "      <td>47.432226</td>\n",
       "      <td>2.884901</td>\n",
       "      <td>boulleret</td>\n",
       "    </tr>\n",
       "    <tr>\n",
       "      <th>1</th>\n",
       "      <td>2015</td>\n",
       "      <td>chezal-benoît</td>\n",
       "      <td>2.0</td>\n",
       "      <td>2.0</td>\n",
       "      <td>1.0</td>\n",
       "      <td>chezal-benoît</td>\n",
       "      <td>46.831767</td>\n",
       "      <td>2.111170</td>\n",
       "      <td>chezal-benoît</td>\n",
       "    </tr>\n",
       "    <tr>\n",
       "      <th>2</th>\n",
       "      <td>2015</td>\n",
       "      <td>méreau</td>\n",
       "      <td>2.0</td>\n",
       "      <td>2.0</td>\n",
       "      <td>1.0</td>\n",
       "      <td>méreau</td>\n",
       "      <td>47.179417</td>\n",
       "      <td>2.052202</td>\n",
       "      <td>méreau</td>\n",
       "    </tr>\n",
       "    <tr>\n",
       "      <th>3</th>\n",
       "      <td>2015</td>\n",
       "      <td>neuvy-sur-barangeon</td>\n",
       "      <td>2.0</td>\n",
       "      <td>2.0</td>\n",
       "      <td>1.0</td>\n",
       "      <td>neuvy-sur-barangeon</td>\n",
       "      <td>47.322013</td>\n",
       "      <td>2.271367</td>\n",
       "      <td>neuvy-sur-barangeon</td>\n",
       "    </tr>\n",
       "    <tr>\n",
       "      <th>4</th>\n",
       "      <td>2015</td>\n",
       "      <td>aix-en-provence</td>\n",
       "      <td>1.0</td>\n",
       "      <td>1.0</td>\n",
       "      <td>16.0</td>\n",
       "      <td>aix-en-provence</td>\n",
       "      <td>43.536071</td>\n",
       "      <td>5.398574</td>\n",
       "      <td>aix-en-provence</td>\n",
       "    </tr>\n",
       "  </tbody>\n",
       "</table>\n",
       "</div>"
      ],
      "text/plain": [
       "   year              commune  nbre_pdc  total_bornes  cluster  \\\n",
       "0  2015            boulleret       2.0           2.0      1.0   \n",
       "1  2015        chezal-benoît       2.0           2.0      1.0   \n",
       "2  2015               méreau       2.0           2.0      1.0   \n",
       "3  2015  neuvy-sur-barangeon       2.0           2.0      1.0   \n",
       "4  2015      aix-en-provence       1.0           1.0     16.0   \n",
       "\n",
       "   nom_commune_complet   latitude  longitude nom_commune_modified  \n",
       "0            boulleret  47.432226   2.884901            boulleret  \n",
       "1        chezal-benoît  46.831767   2.111170        chezal-benoît  \n",
       "2               méreau  47.179417   2.052202               méreau  \n",
       "3  neuvy-sur-barangeon  47.322013   2.271367  neuvy-sur-barangeon  \n",
       "4      aix-en-provence  43.536071   5.398574      aix-en-provence  "
      ]
     },
     "execution_count": 67,
     "metadata": {},
     "output_type": "execute_result"
    }
   ],
   "source": [
    "bornes_cluster_.head()"
   ]
  },
  {
   "cell_type": "code",
   "execution_count": 68,
   "metadata": {},
   "outputs": [],
   "source": [
    "other_comm_=other_comm[other_comm.consolidated_commune.isin( list(bornes_cluster_[bornes_cluster_['latitude'].isnull()].commune.unique())) ].groupby(['consolidated_commune']).agg({'consolidated_longitude':'mean','consolidated_latitude':'mean'}).reset_index()\n",
    "bornes_cluster_=bornes_cluster_.merge(other_comm_,left_on='commune',right_on='consolidated_commune',how='left')\n",
    "bornes_cluster_.latitude.fillna(bornes_cluster_.consolidated_latitude,inplace=True)\n",
    "bornes_cluster_.longitude.fillna(bornes_cluster_.consolidated_longitude,inplace=True)\n",
    "bornes_cluster=bornes_cluster_[['year', 'commune', 'total_bornes', 'cluster', 'latitude', 'longitude']]"
   ]
  },
  {
   "cell_type": "code",
   "execution_count": 69,
   "metadata": {},
   "outputs": [
    {
     "data": {
      "text/plain": [
       "year               0\n",
       "commune            0\n",
       "total_bornes       0\n",
       "cluster         1470\n",
       "latitude          20\n",
       "longitude         20\n",
       "dtype: int64"
      ]
     },
     "execution_count": 69,
     "metadata": {},
     "output_type": "execute_result"
    }
   ],
   "source": [
    "bornes_cluster1=bornes_cluster.copy()\n",
    "bornes_cluster1=bornes_cluster1.merge(commune_,left_on='commune',right_on='nom_commune_modified',how='left')\n",
    "bornes_cluster1.latitude_x.fillna(bornes_cluster1.latitude_y,inplace=True)\n",
    "bornes_cluster1.longitude_x.fillna(bornes_cluster1.longitude_y,inplace=True)\n",
    "bornes_cluster1=bornes_cluster1[['year', 'commune', 'total_bornes', 'cluster', 'latitude_x', 'longitude_x']]\n",
    "bornes_cluster1.rename(columns={'latitude_x':'latitude','longitude_x':'longitude'},inplace=True)\n",
    "bornes_cluster1.isnull().sum()\n"
   ]
  },
  {
   "cell_type": "code",
   "execution_count": 70,
   "metadata": {},
   "outputs": [],
   "source": [
    "import matplotlib.pyplot as plt"
   ]
  },
  {
   "cell_type": "code",
   "execution_count": null,
   "metadata": {},
   "outputs": [],
   "source": [
    "# plot france map using pygal\n",
    "import pygal\n",
    "import pygal_maps_fr\n",
    "from pygal.style import Style\n",
    "custom_style = Style(\n",
    "    background='transparent',\n",
    "    plot_background='transparent',\n",
    "    foreground='#53E89B',\n",
    "    foreground_strong='#53A0E8',\n",
    "    foreground_subtle='#630C0D',\n",
    "    opacity='.6',\n",
    "    opacity_hover='.9',\n",
    "    transition='400ms ease-in',\n",
    "    colors=('#E853A0', '#E9537D', '#E87653', '#E89B53'))\n",
    "# create a map\n",
    "france_map = pygal.maps.fr.Departments(style=custom_style)\n"
   ]
  },
  {
   "cell_type": "code",
   "execution_count": null,
   "metadata": {},
   "outputs": [],
   "source": [
    "# drop the missing values of latitude and longitude\n",
    "bornes_cluster1.dropna(subset=['latitude','longitude'],inplace=True)"
   ]
  },
  {
   "cell_type": "code",
   "execution_count": null,
   "metadata": {},
   "outputs": [
    {
     "data": {
      "text/plain": [
       "year            0\n",
       "commune         0\n",
       "cumsum          0\n",
       "cluster      1390\n",
       "latitude        0\n",
       "longitude       0\n",
       "dtype: int64"
      ]
     },
     "execution_count": 39,
     "metadata": {},
     "output_type": "execute_result"
    }
   ],
   "source": [
    "bornes_cluster1.isnull().sum()"
   ]
  },
  {
   "cell_type": "code",
   "execution_count": null,
   "metadata": {},
   "outputs": [],
   "source": [
    "bornes_cluster1_nocluster=bornes_cluster1[~bornes_cluster1.cluster.isnull()]"
   ]
  },
  {
   "cell_type": "code",
   "execution_count": null,
   "metadata": {},
   "outputs": [],
   "source": [
    "# print cumsum on france map using longitude and latitude\n",
    "for i in range(len(bornes_cluster1_nocluster)):\n",
    "    france_map.add(bornes_cluster1_nocluster.iloc[i]['commune'],[(bornes_cluster1_nocluster.iloc[i]['longitude'],bornes_cluster1_nocluster.iloc[i]['latitude'])])\n",
    "# save the map\n"
   ]
  },
  {
   "cell_type": "code",
   "execution_count": 72,
   "metadata": {},
   "outputs": [
    {
     "data": {
      "text/plain": [
       "600637.0"
      ]
     },
     "execution_count": 72,
     "metadata": {},
     "output_type": "execute_result"
    }
   ],
   "source": [
    "data[data.year==2023]['total_bornes'].sum()"
   ]
  },
  {
   "cell_type": "code",
   "execution_count": 78,
   "metadata": {},
   "outputs": [],
   "source": [
    "bornes_2023=bornes_cluster1[(bornes_cluster1.latitude>35) & (bornes_cluster1.longitude.between(-10,10)) & (bornes_cluster1.year==2023)]"
   ]
  },
  {
   "cell_type": "code",
   "execution_count": 81,
   "metadata": {},
   "outputs": [
    {
     "name": "stderr",
     "output_type": "stream",
     "text": [
      "No artists with labels found to put in legend.  Note that artists whose label start with an underscore are ignored when legend() is called with no argument.\n"
     ]
    },
    {
     "data": {
      "text/plain": [
       "Text(0.5, 1.0, 'Répartition des bornes de recharge par clusters des communes en 2023')"
      ]
     },
     "execution_count": 81,
     "metadata": {},
     "output_type": "execute_result"
    },
    {
     "data": {
      "image/png": "[encoded data removed]",
      "text/plain": [
       "<Figure size 640x480 with 1 Axes>"
      ]
     },
     "metadata": {},
     "output_type": "display_data"
    }
   ],
   "source": [
    "plt.scatter(bornes_2023['longitude'],bornes_2023['latitude'],c=bornes_2023['cluster'],s=np.log(a['total_bornes']), cmap = 'tab20c')\n",
    "plt.xlabel('longitude')\n",
    "plt.ylabel('latitude')\n",
    "plt.legend()\n",
    "plt.title('Répartition des bornes de recharge par clusters des communes en 2023')"
   ]
  },
  {
   "cell_type": "code",
   "execution_count": null,
   "metadata": {},
   "outputs": [],
   "source": []
  }
 ],
 "metadata": {
  "kernelspec": {
   "display_name": "env",
   "language": "python",
   "name": "python3"
  },
  "language_info": {
   "codemirror_mode": {
    "name": "ipython",
    "version": 3
   },
   "file_extension": ".py",
   "mimetype": "text/x-python",
   "name": "python",
   "nbconvert_exporter": "python",
   "pygments_lexer": "ipython3",
   "version": "3.10.8"
  },
  "orig_nbformat": 4,
  "vscode": {
   "interpreter": {
    "hash": "7ba4d9131b28a25e673a5eedffce26d9d813237da3453983d8ab74cee15e9ce5"
   }
  }
 },
 "nbformat": 4,
 "nbformat_minor": 2
}
