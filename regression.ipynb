{
 "cells": [
  {
   "cell_type": "code",
   "execution_count": 1,
   "metadata": {},
   "outputs": [],
   "source": [
    "# Modules\n",
    "import pandas as pd\n",
    "import numpy as np\n",
    "import matplotlib.pyplot as plt\n",
    "import lazypredict\n",
    "from lazypredict.Supervised import LazyRegressor\n",
    "from sklearn import datasets\n",
    "from sklearn.utils import shuffle\n",
    "from numpy import absolute\n",
    "from pandas import read_csv\n",
    "from sklearn.model_selection import cross_val_score\n",
    "from sklearn.model_selection import RepeatedKFold\n",
    "from xgboost import XGBRegressor\n",
    "from sklearn.ensemble import GradientBoostingRegressor\n"
   ]
  },
  {
   "attachments": {},
   "cell_type": "markdown",
   "metadata": {},
   "source": [
    "# Pompage des données\n",
    "1. Nombre des véhicules électriques\n",
    "2. Emission CO2\n",
    "3. Trafic routier journalier annuel\n",
    "<!-- # XGboost pour la monotonie des voitures\n",
    "# Mesure stat de la corr\n",
    "# sampling d'ellipse\n",
    "# Features importance\n",
    "# clustering des communes par ruralité/population: mégalipoles, banlieues, rurales -> affichage par map\n",
    "# predicteur par cluster -->"
   ]
  },
  {
   "attachments": {},
   "cell_type": "markdown",
   "metadata": {},
   "source": [
    "## Nombre de Véhicules par Commune par Trimestre entre 2001 et 2021"
   ]
  },
  {
   "cell_type": "code",
   "execution_count": 2,
   "metadata": {},
   "outputs": [
    {
     "data": {
      "text/html": [
       "<div>\n",
       "<style scoped>\n",
       "    .dataframe tbody tr th:only-of-type {\n",
       "        vertical-align: middle;\n",
       "    }\n",
       "\n",
       "    .dataframe tbody tr th {\n",
       "        vertical-align: top;\n",
       "    }\n",
       "\n",
       "    .dataframe thead th {\n",
       "        text-align: right;\n",
       "    }\n",
       "</style>\n",
       "<table border=\"1\" class=\"dataframe\">\n",
       "  <thead>\n",
       "    <tr style=\"text-align: right;\">\n",
       "      <th></th>\n",
       "      <th>Year</th>\n",
       "      <th>Nb_VE</th>\n",
       "    </tr>\n",
       "  </thead>\n",
       "  <tbody>\n",
       "    <tr>\n",
       "      <th>20</th>\n",
       "      <td>2021</td>\n",
       "      <td>162100.00</td>\n",
       "    </tr>\n",
       "    <tr>\n",
       "      <th>21</th>\n",
       "      <td>2022</td>\n",
       "      <td>202900.00</td>\n",
       "    </tr>\n",
       "  </tbody>\n",
       "</table>\n",
       "</div>"
      ],
      "text/plain": [
       "    Year     Nb_VE\n",
       "20  2021 162100.00\n",
       "21  2022 202900.00"
      ]
     },
     "execution_count": 2,
     "metadata": {},
     "output_type": "execute_result"
    }
   ],
   "source": [
    "# Nombre de Véhicules Electriques niveau national\n",
    "df_france = pd.DataFrame({'Year':[i for i in range(2001,2023)],'Nb_VE':[0.4,0.3,0.1,0.5,0.006,0.014,0.001,0,0.01,0.2,2.6,5.7,8.8,10.6,17.3,21.8,24.9,31.1,42.8,110.9,162.1,202.9]})\n",
    "df_france['Nb_VE'] = df_france['Nb_VE']*1000\n",
    "df_france.tail(2)"
   ]
  },
  {
   "cell_type": "code",
   "execution_count": 3,
   "metadata": {},
   "outputs": [
    {
     "data": {
      "text/plain": [
       "[<matplotlib.lines.Line2D at 0x1ac666a2260>]"
      ]
     },
     "execution_count": 3,
     "metadata": {},
     "output_type": "execute_result"
    },
    {
     "data": {
      "image/png": "[encoded data removed]",
      "text/plain": [
       "<Figure size 640x480 with 1 Axes>"
      ]
     },
     "metadata": {},
     "output_type": "display_data"
    }
   ],
   "source": [
    "plt.plot(df_france['Year'],df_france['Nb_VE'])"
   ]
  },
  {
   "cell_type": "code",
   "execution_count": 4,
   "metadata": {},
   "outputs": [
    {
     "data": {
      "text/html": [
       "<div>\n",
       "<style scoped>\n",
       "    .dataframe tbody tr th:only-of-type {\n",
       "        vertical-align: middle;\n",
       "    }\n",
       "\n",
       "    .dataframe tbody tr th {\n",
       "        vertical-align: top;\n",
       "    }\n",
       "\n",
       "    .dataframe thead th {\n",
       "        text-align: right;\n",
       "    }\n",
       "</style>\n",
       "<table border=\"1\" class=\"dataframe\">\n",
       "  <thead>\n",
       "    <tr style=\"text-align: right;\">\n",
       "      <th></th>\n",
       "      <th>libgeo</th>\n",
       "      <th>date_arrete</th>\n",
       "      <th>nb_vp_rechargeables_el</th>\n",
       "    </tr>\n",
       "  </thead>\n",
       "  <tbody>\n",
       "    <tr>\n",
       "      <th>0</th>\n",
       "      <td>aast</td>\n",
       "      <td>2014-03-31</td>\n",
       "      <td>0.12</td>\n",
       "    </tr>\n",
       "    <tr>\n",
       "      <th>1</th>\n",
       "      <td>aast</td>\n",
       "      <td>2014-06-30</td>\n",
       "      <td>0.10</td>\n",
       "    </tr>\n",
       "    <tr>\n",
       "      <th>2</th>\n",
       "      <td>aast</td>\n",
       "      <td>2014-09-30</td>\n",
       "      <td>0.09</td>\n",
       "    </tr>\n",
       "    <tr>\n",
       "      <th>3</th>\n",
       "      <td>aast</td>\n",
       "      <td>2014-12-31</td>\n",
       "      <td>0.08</td>\n",
       "    </tr>\n",
       "    <tr>\n",
       "      <th>4</th>\n",
       "      <td>aast</td>\n",
       "      <td>2015-03-31</td>\n",
       "      <td>0.21</td>\n",
       "    </tr>\n",
       "  </tbody>\n",
       "</table>\n",
       "</div>"
      ],
      "text/plain": [
       "  libgeo date_arrete  nb_vp_rechargeables_el\n",
       "0   aast  2014-03-31                    0.12\n",
       "1   aast  2014-06-30                    0.10\n",
       "2   aast  2014-09-30                    0.09\n",
       "3   aast  2014-12-31                    0.08\n",
       "4   aast  2015-03-31                    0.21"
      ]
     },
     "execution_count": 4,
     "metadata": {},
     "output_type": "execute_result"
    }
   ],
   "source": [
    "df_comm = pd.read_csv('./data/ve_par_commune.csv')\n",
    "df_comm.libgeo=df_comm.libgeo.str.lower()\n",
    "df_comm.head()"
   ]
  },
  {
   "cell_type": "code",
   "execution_count": 5,
   "metadata": {},
   "outputs": [
    {
     "data": {
      "text/html": [
       "<div>\n",
       "<style scoped>\n",
       "    .dataframe tbody tr th:only-of-type {\n",
       "        vertical-align: middle;\n",
       "    }\n",
       "\n",
       "    .dataframe tbody tr th {\n",
       "        vertical-align: top;\n",
       "    }\n",
       "\n",
       "    .dataframe thead th {\n",
       "        text-align: right;\n",
       "    }\n",
       "</style>\n",
       "<table border=\"1\" class=\"dataframe\">\n",
       "  <thead>\n",
       "    <tr style=\"text-align: right;\">\n",
       "      <th></th>\n",
       "      <th>LIBGEO</th>\n",
       "      <th>cluster</th>\n",
       "    </tr>\n",
       "  </thead>\n",
       "  <tbody>\n",
       "    <tr>\n",
       "      <th>0</th>\n",
       "      <td>l'abergement-clémenciat</td>\n",
       "      <td>3</td>\n",
       "    </tr>\n",
       "    <tr>\n",
       "      <th>1</th>\n",
       "      <td>l'abergement-de-varey</td>\n",
       "      <td>6</td>\n",
       "    </tr>\n",
       "    <tr>\n",
       "      <th>2</th>\n",
       "      <td>ambérieu-en-bugey</td>\n",
       "      <td>35</td>\n",
       "    </tr>\n",
       "    <tr>\n",
       "      <th>3</th>\n",
       "      <td>ambérieux-en-dombes</td>\n",
       "      <td>3</td>\n",
       "    </tr>\n",
       "    <tr>\n",
       "      <th>4</th>\n",
       "      <td>ambléon</td>\n",
       "      <td>3</td>\n",
       "    </tr>\n",
       "  </tbody>\n",
       "</table>\n",
       "</div>"
      ],
      "text/plain": [
       "                    LIBGEO  cluster\n",
       "0  l'abergement-clémenciat        3\n",
       "1    l'abergement-de-varey        6\n",
       "2        ambérieu-en-bugey       35\n",
       "3      ambérieux-en-dombes        3\n",
       "4                  ambléon        3"
      ]
     },
     "execution_count": 5,
     "metadata": {},
     "output_type": "execute_result"
    }
   ],
   "source": [
    "df_cluster=pd.read_csv('./Cluster/data_commune_cluster.csv')\n",
    "df_cluster=df_cluster[['LIBGEO','cluster']]\n",
    "df_cluster.LIBGEO=df_cluster.LIBGEO.str.lower()\n",
    "# df_cluster.drop(['Unnamed: 0','Unnamed: 0.1','codgeo','libgeo','Typologie urbain/rural','latitude','longitude'],axis=1,inplace=True)\n",
    "df_cluster.head()"
   ]
  },
  {
   "cell_type": "code",
   "execution_count": 6,
   "metadata": {},
   "outputs": [],
   "source": [
    "big = df_cluster.cluster.unique()"
   ]
  },
  {
   "cell_type": "code",
   "execution_count": 7,
   "metadata": {},
   "outputs": [
    {
     "data": {
      "text/html": [
       "<div>\n",
       "<style scoped>\n",
       "    .dataframe tbody tr th:only-of-type {\n",
       "        vertical-align: middle;\n",
       "    }\n",
       "\n",
       "    .dataframe tbody tr th {\n",
       "        vertical-align: top;\n",
       "    }\n",
       "\n",
       "    .dataframe thead th {\n",
       "        text-align: right;\n",
       "    }\n",
       "</style>\n",
       "<table border=\"1\" class=\"dataframe\">\n",
       "  <thead>\n",
       "    <tr style=\"text-align: right;\">\n",
       "      <th></th>\n",
       "      <th>LIBGEO</th>\n",
       "      <th>cluster</th>\n",
       "      <th>libgeo</th>\n",
       "      <th>date_arrete</th>\n",
       "      <th>nb_vp_rechargeables_el</th>\n",
       "    </tr>\n",
       "  </thead>\n",
       "  <tbody>\n",
       "    <tr>\n",
       "      <th>0</th>\n",
       "      <td>l'abergement-clémenciat</td>\n",
       "      <td>3</td>\n",
       "      <td>l'abergement-clémenciat</td>\n",
       "      <td>2014-03-31</td>\n",
       "      <td>0.35</td>\n",
       "    </tr>\n",
       "    <tr>\n",
       "      <th>1</th>\n",
       "      <td>l'abergement-clémenciat</td>\n",
       "      <td>3</td>\n",
       "      <td>l'abergement-clémenciat</td>\n",
       "      <td>2014-06-30</td>\n",
       "      <td>0.30</td>\n",
       "    </tr>\n",
       "    <tr>\n",
       "      <th>2</th>\n",
       "      <td>l'abergement-clémenciat</td>\n",
       "      <td>3</td>\n",
       "      <td>l'abergement-clémenciat</td>\n",
       "      <td>2014-09-30</td>\n",
       "      <td>0.27</td>\n",
       "    </tr>\n",
       "    <tr>\n",
       "      <th>3</th>\n",
       "      <td>l'abergement-clémenciat</td>\n",
       "      <td>3</td>\n",
       "      <td>l'abergement-clémenciat</td>\n",
       "      <td>2014-12-31</td>\n",
       "      <td>0.31</td>\n",
       "    </tr>\n",
       "    <tr>\n",
       "      <th>4</th>\n",
       "      <td>l'abergement-clémenciat</td>\n",
       "      <td>3</td>\n",
       "      <td>l'abergement-clémenciat</td>\n",
       "      <td>2015-03-31</td>\n",
       "      <td>0.62</td>\n",
       "    </tr>\n",
       "  </tbody>\n",
       "</table>\n",
       "</div>"
      ],
      "text/plain": [
       "                    LIBGEO  cluster                   libgeo date_arrete  \\\n",
       "0  l'abergement-clémenciat        3  l'abergement-clémenciat  2014-03-31   \n",
       "1  l'abergement-clémenciat        3  l'abergement-clémenciat  2014-06-30   \n",
       "2  l'abergement-clémenciat        3  l'abergement-clémenciat  2014-09-30   \n",
       "3  l'abergement-clémenciat        3  l'abergement-clémenciat  2014-12-31   \n",
       "4  l'abergement-clémenciat        3  l'abergement-clémenciat  2015-03-31   \n",
       "\n",
       "   nb_vp_rechargeables_el  \n",
       "0                    0.35  \n",
       "1                    0.30  \n",
       "2                    0.27  \n",
       "3                    0.31  \n",
       "4                    0.62  "
      ]
     },
     "execution_count": 7,
     "metadata": {},
     "output_type": "execute_result"
    }
   ],
   "source": [
    "data=df_cluster.merge(df_comm,how='left',right_on='libgeo',left_on='LIBGEO')\n",
    "data.head()"
   ]
  },
  {
   "cell_type": "code",
   "execution_count": 8,
   "metadata": {},
   "outputs": [],
   "source": [
    "# drop nan values\n",
    "data.dropna(inplace=True)"
   ]
  },
  {
   "cell_type": "code",
   "execution_count": 9,
   "metadata": {},
   "outputs": [
    {
     "data": {
      "text/plain": [
       "LIBGEO                    0\n",
       "cluster                   0\n",
       "libgeo                    0\n",
       "date_arrete               0\n",
       "nb_vp_rechargeables_el    0\n",
       "dtype: int64"
      ]
     },
     "execution_count": 9,
     "metadata": {},
     "output_type": "execute_result"
    }
   ],
   "source": [
    "data.isnull().sum()"
   ]
  },
  {
   "cell_type": "code",
   "execution_count": 10,
   "metadata": {},
   "outputs": [],
   "source": [
    "data.drop(['libgeo'],axis=1,inplace=True)"
   ]
  },
  {
   "cell_type": "code",
   "execution_count": 11,
   "metadata": {},
   "outputs": [],
   "source": [
    "data.date_arrete=pd.to_datetime(data.date_arrete)"
   ]
  },
  {
   "cell_type": "code",
   "execution_count": 12,
   "metadata": {},
   "outputs": [],
   "source": [
    "data['year']=data.date_arrete.dt.year"
   ]
  },
  {
   "attachments": {},
   "cell_type": "markdown",
   "metadata": {},
   "source": [
    "## Nombre de bornes par commune "
   ]
  },
  {
   "cell_type": "code",
   "execution_count": 13,
   "metadata": {},
   "outputs": [
    {
     "data": {
      "text/html": [
       "<div>\n",
       "<style scoped>\n",
       "    .dataframe tbody tr th:only-of-type {\n",
       "        vertical-align: middle;\n",
       "    }\n",
       "\n",
       "    .dataframe tbody tr th {\n",
       "        vertical-align: top;\n",
       "    }\n",
       "\n",
       "    .dataframe thead th {\n",
       "        text-align: right;\n",
       "    }\n",
       "</style>\n",
       "<table border=\"1\" class=\"dataframe\">\n",
       "  <thead>\n",
       "    <tr style=\"text-align: right;\">\n",
       "      <th></th>\n",
       "      <th>year</th>\n",
       "      <th>month</th>\n",
       "      <th>commune</th>\n",
       "      <th>cumsum</th>\n",
       "    </tr>\n",
       "  </thead>\n",
       "  <tbody>\n",
       "    <tr>\n",
       "      <th>0</th>\n",
       "      <td>2015</td>\n",
       "      <td>1.00</td>\n",
       "      <td>Bagneaux-sur-Loing</td>\n",
       "      <td>2</td>\n",
       "    </tr>\n",
       "    <tr>\n",
       "      <th>1</th>\n",
       "      <td>2015</td>\n",
       "      <td>1.00</td>\n",
       "      <td>Beaumont-du-Gâtinais</td>\n",
       "      <td>2</td>\n",
       "    </tr>\n",
       "    <tr>\n",
       "      <th>2</th>\n",
       "      <td>2015</td>\n",
       "      <td>1.00</td>\n",
       "      <td>Coulommiers</td>\n",
       "      <td>4</td>\n",
       "    </tr>\n",
       "    <tr>\n",
       "      <th>3</th>\n",
       "      <td>2015</td>\n",
       "      <td>1.00</td>\n",
       "      <td>Crécy-la-Chapelle</td>\n",
       "      <td>2</td>\n",
       "    </tr>\n",
       "    <tr>\n",
       "      <th>4</th>\n",
       "      <td>2015</td>\n",
       "      <td>1.00</td>\n",
       "      <td>Fontaine-le-Comte</td>\n",
       "      <td>4</td>\n",
       "    </tr>\n",
       "    <tr>\n",
       "      <th>...</th>\n",
       "      <td>...</td>\n",
       "      <td>...</td>\n",
       "      <td>...</td>\n",
       "      <td>...</td>\n",
       "    </tr>\n",
       "    <tr>\n",
       "      <th>7301</th>\n",
       "      <td>2023</td>\n",
       "      <td>1.00</td>\n",
       "      <td>Vigny</td>\n",
       "      <td>8</td>\n",
       "    </tr>\n",
       "    <tr>\n",
       "      <th>7302</th>\n",
       "      <td>2023</td>\n",
       "      <td>1.00</td>\n",
       "      <td>wittes</td>\n",
       "      <td>16</td>\n",
       "    </tr>\n",
       "    <tr>\n",
       "      <th>7303</th>\n",
       "      <td>2023</td>\n",
       "      <td>1.00</td>\n",
       "      <td>Cintray</td>\n",
       "      <td>3</td>\n",
       "    </tr>\n",
       "    <tr>\n",
       "      <th>7304</th>\n",
       "      <td>2023</td>\n",
       "      <td>1.00</td>\n",
       "      <td>Lesparre-Médoc</td>\n",
       "      <td>6</td>\n",
       "    </tr>\n",
       "    <tr>\n",
       "      <th>7305</th>\n",
       "      <td>2023</td>\n",
       "      <td>1.00</td>\n",
       "      <td>Longeville-lès-Saint-Avold</td>\n",
       "      <td>3</td>\n",
       "    </tr>\n",
       "  </tbody>\n",
       "</table>\n",
       "<p>7306 rows × 4 columns</p>\n",
       "</div>"
      ],
      "text/plain": [
       "      year  month                     commune  cumsum\n",
       "0     2015   1.00          Bagneaux-sur-Loing       2\n",
       "1     2015   1.00        Beaumont-du-Gâtinais       2\n",
       "2     2015   1.00                 Coulommiers       4\n",
       "3     2015   1.00           Crécy-la-Chapelle       2\n",
       "4     2015   1.00           Fontaine-le-Comte       4\n",
       "...    ...    ...                         ...     ...\n",
       "7301  2023   1.00                       Vigny       8\n",
       "7302  2023   1.00                      wittes      16\n",
       "7303  2023   1.00                     Cintray       3\n",
       "7304  2023   1.00              Lesparre-Médoc       6\n",
       "7305  2023   1.00  Longeville-lès-Saint-Avold       3\n",
       "\n",
       "[7306 rows x 4 columns]"
      ]
     },
     "execution_count": 13,
     "metadata": {},
     "output_type": "execute_result"
    }
   ],
   "source": [
    "df_bornes = pd.read_csv(\"./data/bornes_par_communes_.csv\")\n",
    "df_bornes.month=df_bornes.month.fillna(1)\n",
    "df_bornes"
   ]
  },
  {
   "attachments": {},
   "cell_type": "markdown",
   "metadata": {},
   "source": [
    "## Emissions du CO2 en france\n",
    "http://www.globalcarbonatlas.org/fr/CO2-emissions"
   ]
  },
  {
   "cell_type": "code",
   "execution_count": 14,
   "metadata": {},
   "outputs": [
    {
     "data": {
      "text/plain": [
       "[<matplotlib.lines.Line2D at 0x1ac678058d0>]"
      ]
     },
     "execution_count": 14,
     "metadata": {},
     "output_type": "execute_result"
    },
    {
     "data": {
      "image/png": "[encoded data removed]",
      "text/plain": [
       "<Figure size 640x480 with 1 Axes>"
      ]
     },
     "metadata": {},
     "output_type": "display_data"
    }
   ],
   "source": [
    "# Émission en MtCO2 en france\n",
    "df_co2 = pd.read_csv('./data/Emmision_1960-2021.csv',sep=';')\n",
    "plt.plot(df_co2['année'],df_co2['emissions'])"
   ]
  },
  {
   "cell_type": "code",
   "execution_count": 15,
   "metadata": {},
   "outputs": [
    {
     "data": {
      "text/html": [
       "<div>\n",
       "<style scoped>\n",
       "    .dataframe tbody tr th:only-of-type {\n",
       "        vertical-align: middle;\n",
       "    }\n",
       "\n",
       "    .dataframe tbody tr th {\n",
       "        vertical-align: top;\n",
       "    }\n",
       "\n",
       "    .dataframe thead th {\n",
       "        text-align: right;\n",
       "    }\n",
       "</style>\n",
       "<table border=\"1\" class=\"dataframe\">\n",
       "  <thead>\n",
       "    <tr style=\"text-align: right;\">\n",
       "      <th></th>\n",
       "      <th>année</th>\n",
       "      <th>emissions</th>\n",
       "    </tr>\n",
       "  </thead>\n",
       "  <tbody>\n",
       "    <tr>\n",
       "      <th>0</th>\n",
       "      <td>1960</td>\n",
       "      <td>296.14</td>\n",
       "    </tr>\n",
       "    <tr>\n",
       "      <th>1</th>\n",
       "      <td>1961</td>\n",
       "      <td>315.71</td>\n",
       "    </tr>\n",
       "    <tr>\n",
       "      <th>2</th>\n",
       "      <td>1962</td>\n",
       "      <td>332.91</td>\n",
       "    </tr>\n",
       "    <tr>\n",
       "      <th>3</th>\n",
       "      <td>1963</td>\n",
       "      <td>338.04</td>\n",
       "    </tr>\n",
       "    <tr>\n",
       "      <th>4</th>\n",
       "      <td>1964</td>\n",
       "      <td>368.88</td>\n",
       "    </tr>\n",
       "  </tbody>\n",
       "</table>\n",
       "</div>"
      ],
      "text/plain": [
       "   année  emissions\n",
       "0   1960     296.14\n",
       "1   1961     315.71\n",
       "2   1962     332.91\n",
       "3   1963     338.04\n",
       "4   1964     368.88"
      ]
     },
     "execution_count": 15,
     "metadata": {},
     "output_type": "execute_result"
    }
   ],
   "source": [
    "df_co2.head()"
   ]
  },
  {
   "cell_type": "code",
   "execution_count": 16,
   "metadata": {},
   "outputs": [],
   "source": [
    "# add a line to the dataframe\n",
    "df_co2.loc[len(df_co2)] = [2022,df_co2['emissions'].iloc[-1]]"
   ]
  },
  {
   "cell_type": "code",
   "execution_count": 17,
   "metadata": {},
   "outputs": [
    {
     "data": {
      "text/html": [
       "<div>\n",
       "<style scoped>\n",
       "    .dataframe tbody tr th:only-of-type {\n",
       "        vertical-align: middle;\n",
       "    }\n",
       "\n",
       "    .dataframe tbody tr th {\n",
       "        vertical-align: top;\n",
       "    }\n",
       "\n",
       "    .dataframe thead th {\n",
       "        text-align: right;\n",
       "    }\n",
       "</style>\n",
       "<table border=\"1\" class=\"dataframe\">\n",
       "  <thead>\n",
       "    <tr style=\"text-align: right;\">\n",
       "      <th></th>\n",
       "      <th>LIBGEO</th>\n",
       "      <th>cluster</th>\n",
       "      <th>date_arrete</th>\n",
       "      <th>nb_vp_rechargeables_el</th>\n",
       "      <th>year</th>\n",
       "      <th>emissions</th>\n",
       "    </tr>\n",
       "  </thead>\n",
       "  <tbody>\n",
       "    <tr>\n",
       "      <th>0</th>\n",
       "      <td>l'abergement-clémenciat</td>\n",
       "      <td>3</td>\n",
       "      <td>2014-03-31</td>\n",
       "      <td>0.35</td>\n",
       "      <td>2014</td>\n",
       "      <td>327.11</td>\n",
       "    </tr>\n",
       "    <tr>\n",
       "      <th>1</th>\n",
       "      <td>l'abergement-clémenciat</td>\n",
       "      <td>3</td>\n",
       "      <td>2014-06-30</td>\n",
       "      <td>0.30</td>\n",
       "      <td>2014</td>\n",
       "      <td>327.11</td>\n",
       "    </tr>\n",
       "    <tr>\n",
       "      <th>2</th>\n",
       "      <td>l'abergement-clémenciat</td>\n",
       "      <td>3</td>\n",
       "      <td>2014-09-30</td>\n",
       "      <td>0.27</td>\n",
       "      <td>2014</td>\n",
       "      <td>327.11</td>\n",
       "    </tr>\n",
       "    <tr>\n",
       "      <th>3</th>\n",
       "      <td>l'abergement-clémenciat</td>\n",
       "      <td>3</td>\n",
       "      <td>2014-12-31</td>\n",
       "      <td>0.31</td>\n",
       "      <td>2014</td>\n",
       "      <td>327.11</td>\n",
       "    </tr>\n",
       "    <tr>\n",
       "      <th>4</th>\n",
       "      <td>l'abergement-clémenciat</td>\n",
       "      <td>3</td>\n",
       "      <td>2015-03-31</td>\n",
       "      <td>0.62</td>\n",
       "      <td>2015</td>\n",
       "      <td>331.58</td>\n",
       "    </tr>\n",
       "  </tbody>\n",
       "</table>\n",
       "</div>"
      ],
      "text/plain": [
       "                    LIBGEO  cluster date_arrete  nb_vp_rechargeables_el  year  \\\n",
       "0  l'abergement-clémenciat        3  2014-03-31                    0.35  2014   \n",
       "1  l'abergement-clémenciat        3  2014-06-30                    0.30  2014   \n",
       "2  l'abergement-clémenciat        3  2014-09-30                    0.27  2014   \n",
       "3  l'abergement-clémenciat        3  2014-12-31                    0.31  2014   \n",
       "4  l'abergement-clémenciat        3  2015-03-31                    0.62  2015   \n",
       "\n",
       "   emissions  \n",
       "0     327.11  \n",
       "1     327.11  \n",
       "2     327.11  \n",
       "3     327.11  \n",
       "4     331.58  "
      ]
     },
     "execution_count": 17,
     "metadata": {},
     "output_type": "execute_result"
    }
   ],
   "source": [
    "data=data.merge(df_co2,how='left',left_on='year',right_on='année')\n",
    "data.drop(['année'],axis=1,inplace=True)\n",
    "data.head()"
   ]
  },
  {
   "attachments": {},
   "cell_type": "markdown",
   "metadata": {},
   "source": [
    "## Trafic routier journalier annuel \n",
    "https://www.data.gouv.fr/en/datasets/trafic-moyen-journalier-annuel-sur-le-reseau-routier-national/"
   ]
  },
  {
   "cell_type": "code",
   "execution_count": 18,
   "metadata": {},
   "outputs": [
    {
     "data": {
      "text/html": [
       "<div>\n",
       "<style scoped>\n",
       "    .dataframe tbody tr th:only-of-type {\n",
       "        vertical-align: middle;\n",
       "    }\n",
       "\n",
       "    .dataframe tbody tr th {\n",
       "        vertical-align: top;\n",
       "    }\n",
       "\n",
       "    .dataframe thead th {\n",
       "        text-align: right;\n",
       "    }\n",
       "</style>\n",
       "<table border=\"1\" class=\"dataframe\">\n",
       "  <thead>\n",
       "    <tr style=\"text-align: right;\">\n",
       "      <th></th>\n",
       "      <th>dateReferentiel</th>\n",
       "      <th>nom_commune_complet</th>\n",
       "      <th>TMJA</th>\n",
       "    </tr>\n",
       "  </thead>\n",
       "  <tbody>\n",
       "    <tr>\n",
       "      <th>612910</th>\n",
       "      <td>2022.00</td>\n",
       "      <td>villiers-le-sec</td>\n",
       "      <td>82589.46</td>\n",
       "    </tr>\n",
       "    <tr>\n",
       "      <th>612911</th>\n",
       "      <td>2022.00</td>\n",
       "      <td>wy-dit-joli-village</td>\n",
       "      <td>82589.46</td>\n",
       "    </tr>\n",
       "  </tbody>\n",
       "</table>\n",
       "</div>"
      ],
      "text/plain": [
       "        dateReferentiel  nom_commune_complet     TMJA\n",
       "612910          2022.00      villiers-le-sec 82589.46\n",
       "612911          2022.00  wy-dit-joli-village 82589.46"
      ]
     },
     "execution_count": 18,
     "metadata": {},
     "output_type": "execute_result"
    }
   ],
   "source": [
    "def merge_data():\n",
    "    paths = ['./data/TMJA/TMJA_'+str(i)+'.csv' for i in range(2007,2017)]+['./data/TMJA/tmja-2017.csv','./data/TMJA/tmja2018.csv','./data/TMJA/tmja-2019.csv']\n",
    "    df = pd.concat([pd.read_csv(path,sep='\\t') for path in paths]+[pd.read_csv('./data/TMJA/tmja-2017.csv',sep='\\t'),pd.read_csv('./data/TMJA/tmja2018.csv',sep='\\t'),pd.read_csv('./data/TMJA/tmja-2019.csv',sep=';')], ignore_index=True)\n",
    "    # convert date to year\n",
    "    df['dateReferentiel'] =  pd.to_datetime(df['dateReferentiel']).dt.year\n",
    "    # goupe by year and department over routes\n",
    "    df = df.groupby(['dateReferentiel','depPrD']).mean()\n",
    "    # remove useless columns\n",
    "    df.drop(['prD','zD','prF','zF','depPrF','anneeMesureTrafic'],axis=1,inplace=True)\n",
    "    df.to_csv('./data/TMJA_2007-2019.csv')\n",
    "    df.reset_index(inplace=True)\n",
    "    # fill nan values with mean\n",
    "    df.TMJA.fillna(df.TMJA.mean(),inplace=True)\n",
    "    # add a 96 row to the dataframe \n",
    "    for year in [2020,2021,2022]:\n",
    "        for dep in df.depPrD.unique():\n",
    "            df.loc[len(df)] = [year,dep,df[df['depPrD'] == dep]['TMJA'].mean()]\n",
    "    #  use this dataset to get the commune from department codes\n",
    "    commune_depart=pd.read_csv('./data/communes-departement-region.csv')\n",
    "    commune_depart=commune_depart[['nom_commune_complet','code_departement']]\n",
    "    commune_depart.nom_commune_complet=commune_depart.nom_commune_complet.str.lower()\n",
    "    # merge the two datasets\n",
    "    df.depPrD=df.depPrD.astype(int).astype(str)\n",
    "    df=df.merge(commune_depart,how='left',left_on='depPrD',right_on='code_departement')\n",
    "    # remove useless columns\n",
    "    df=df[['dateReferentiel','nom_commune_complet','TMJA']]\n",
    "    return df\n",
    "df_tmja = merge_data()\n",
    "df_tmja.tail(2)"
   ]
  },
  {
   "cell_type": "code",
   "execution_count": 19,
   "metadata": {},
   "outputs": [
    {
     "data": {
      "text/html": [
       "<div>\n",
       "<style scoped>\n",
       "    .dataframe tbody tr th:only-of-type {\n",
       "        vertical-align: middle;\n",
       "    }\n",
       "\n",
       "    .dataframe tbody tr th {\n",
       "        vertical-align: top;\n",
       "    }\n",
       "\n",
       "    .dataframe thead th {\n",
       "        text-align: right;\n",
       "    }\n",
       "</style>\n",
       "<table border=\"1\" class=\"dataframe\">\n",
       "  <thead>\n",
       "    <tr style=\"text-align: right;\">\n",
       "      <th></th>\n",
       "      <th>LIBGEO</th>\n",
       "      <th>cluster</th>\n",
       "      <th>date_arrete</th>\n",
       "      <th>nb_vp_rechargeables_el</th>\n",
       "      <th>year</th>\n",
       "      <th>emissions</th>\n",
       "      <th>dateReferentiel</th>\n",
       "      <th>nom_commune_complet</th>\n",
       "      <th>TMJA</th>\n",
       "    </tr>\n",
       "  </thead>\n",
       "  <tbody>\n",
       "    <tr>\n",
       "      <th>0</th>\n",
       "      <td>l'abergement-clémenciat</td>\n",
       "      <td>3</td>\n",
       "      <td>2014-03-31</td>\n",
       "      <td>0.35</td>\n",
       "      <td>2014</td>\n",
       "      <td>327.11</td>\n",
       "      <td>2014.00</td>\n",
       "      <td>l'abergement-clémenciat</td>\n",
       "      <td>28156.13</td>\n",
       "    </tr>\n",
       "    <tr>\n",
       "      <th>1</th>\n",
       "      <td>l'abergement-clémenciat</td>\n",
       "      <td>3</td>\n",
       "      <td>2014-06-30</td>\n",
       "      <td>0.30</td>\n",
       "      <td>2014</td>\n",
       "      <td>327.11</td>\n",
       "      <td>2014.00</td>\n",
       "      <td>l'abergement-clémenciat</td>\n",
       "      <td>28156.13</td>\n",
       "    </tr>\n",
       "    <tr>\n",
       "      <th>2</th>\n",
       "      <td>l'abergement-clémenciat</td>\n",
       "      <td>3</td>\n",
       "      <td>2014-09-30</td>\n",
       "      <td>0.27</td>\n",
       "      <td>2014</td>\n",
       "      <td>327.11</td>\n",
       "      <td>2014.00</td>\n",
       "      <td>l'abergement-clémenciat</td>\n",
       "      <td>28156.13</td>\n",
       "    </tr>\n",
       "    <tr>\n",
       "      <th>3</th>\n",
       "      <td>l'abergement-clémenciat</td>\n",
       "      <td>3</td>\n",
       "      <td>2014-12-31</td>\n",
       "      <td>0.31</td>\n",
       "      <td>2014</td>\n",
       "      <td>327.11</td>\n",
       "      <td>2014.00</td>\n",
       "      <td>l'abergement-clémenciat</td>\n",
       "      <td>28156.13</td>\n",
       "    </tr>\n",
       "    <tr>\n",
       "      <th>4</th>\n",
       "      <td>l'abergement-clémenciat</td>\n",
       "      <td>3</td>\n",
       "      <td>2015-03-31</td>\n",
       "      <td>0.62</td>\n",
       "      <td>2015</td>\n",
       "      <td>331.58</td>\n",
       "      <td>2015.00</td>\n",
       "      <td>l'abergement-clémenciat</td>\n",
       "      <td>29473.83</td>\n",
       "    </tr>\n",
       "  </tbody>\n",
       "</table>\n",
       "</div>"
      ],
      "text/plain": [
       "                    LIBGEO  cluster date_arrete  nb_vp_rechargeables_el  year  \\\n",
       "0  l'abergement-clémenciat        3  2014-03-31                    0.35  2014   \n",
       "1  l'abergement-clémenciat        3  2014-06-30                    0.30  2014   \n",
       "2  l'abergement-clémenciat        3  2014-09-30                    0.27  2014   \n",
       "3  l'abergement-clémenciat        3  2014-12-31                    0.31  2014   \n",
       "4  l'abergement-clémenciat        3  2015-03-31                    0.62  2015   \n",
       "\n",
       "   emissions  dateReferentiel      nom_commune_complet     TMJA  \n",
       "0     327.11          2014.00  l'abergement-clémenciat 28156.13  \n",
       "1     327.11          2014.00  l'abergement-clémenciat 28156.13  \n",
       "2     327.11          2014.00  l'abergement-clémenciat 28156.13  \n",
       "3     327.11          2014.00  l'abergement-clémenciat 28156.13  \n",
       "4     331.58          2015.00  l'abergement-clémenciat 29473.83  "
      ]
     },
     "execution_count": 19,
     "metadata": {},
     "output_type": "execute_result"
    }
   ],
   "source": [
    "# manque cluster 4 et 12\n",
    "data = data.merge(df_tmja,how='left',left_on=['LIBGEO','year'],right_on=['nom_commune_complet','dateReferentiel'])\n",
    "data.head()"
   ]
  },
  {
   "cell_type": "code",
   "execution_count": 20,
   "metadata": {},
   "outputs": [
    {
     "data": {
      "text/html": [
       "<div>\n",
       "<style scoped>\n",
       "    .dataframe tbody tr th:only-of-type {\n",
       "        vertical-align: middle;\n",
       "    }\n",
       "\n",
       "    .dataframe tbody tr th {\n",
       "        vertical-align: top;\n",
       "    }\n",
       "\n",
       "    .dataframe thead th {\n",
       "        text-align: right;\n",
       "    }\n",
       "</style>\n",
       "<table border=\"1\" class=\"dataframe\">\n",
       "  <thead>\n",
       "    <tr style=\"text-align: right;\">\n",
       "      <th></th>\n",
       "      <th>cluster</th>\n",
       "      <th>date_arrete</th>\n",
       "      <th>nb_vp_rechargeables_el</th>\n",
       "      <th>emissions</th>\n",
       "      <th>TMJA</th>\n",
       "    </tr>\n",
       "  </thead>\n",
       "  <tbody>\n",
       "    <tr>\n",
       "      <th>0</th>\n",
       "      <td>3</td>\n",
       "      <td>2014-03-31</td>\n",
       "      <td>0.35</td>\n",
       "      <td>327.11</td>\n",
       "      <td>28156.13</td>\n",
       "    </tr>\n",
       "    <tr>\n",
       "      <th>1</th>\n",
       "      <td>3</td>\n",
       "      <td>2014-06-30</td>\n",
       "      <td>0.30</td>\n",
       "      <td>327.11</td>\n",
       "      <td>28156.13</td>\n",
       "    </tr>\n",
       "    <tr>\n",
       "      <th>2</th>\n",
       "      <td>3</td>\n",
       "      <td>2014-09-30</td>\n",
       "      <td>0.27</td>\n",
       "      <td>327.11</td>\n",
       "      <td>28156.13</td>\n",
       "    </tr>\n",
       "    <tr>\n",
       "      <th>3</th>\n",
       "      <td>3</td>\n",
       "      <td>2014-12-31</td>\n",
       "      <td>0.31</td>\n",
       "      <td>327.11</td>\n",
       "      <td>28156.13</td>\n",
       "    </tr>\n",
       "    <tr>\n",
       "      <th>4</th>\n",
       "      <td>3</td>\n",
       "      <td>2015-03-31</td>\n",
       "      <td>0.62</td>\n",
       "      <td>331.58</td>\n",
       "      <td>29473.83</td>\n",
       "    </tr>\n",
       "  </tbody>\n",
       "</table>\n",
       "</div>"
      ],
      "text/plain": [
       "   cluster date_arrete  nb_vp_rechargeables_el  emissions     TMJA\n",
       "0        3  2014-03-31                    0.35     327.11 28156.13\n",
       "1        3  2014-06-30                    0.30     327.11 28156.13\n",
       "2        3  2014-09-30                    0.27     327.11 28156.13\n",
       "3        3  2014-12-31                    0.31     327.11 28156.13\n",
       "4        3  2015-03-31                    0.62     331.58 29473.83"
      ]
     },
     "execution_count": 20,
     "metadata": {},
     "output_type": "execute_result"
    }
   ],
   "source": [
    "data.drop(['LIBGEO','year','dateReferentiel','nom_commune_complet'],axis=1,inplace=True)\n",
    "data.head()"
   ]
  },
  {
   "attachments": {},
   "cell_type": "markdown",
   "metadata": {},
   "source": [
    "## Jointure des données"
   ]
  },
  {
   "cell_type": "code",
   "execution_count": 21,
   "metadata": {},
   "outputs": [],
   "source": [
    "# aggréger par cluster\n",
    "df_cluster_ve = data.groupby(['cluster','date_arrete']).mean()\n",
    "df_cluster_ve = df_cluster_ve.reset_index()"
   ]
  },
  {
   "cell_type": "code",
   "execution_count": 22,
   "metadata": {},
   "outputs": [],
   "source": [
    "df_cluster_ve['annee'] = df_cluster_ve.date_arrete.dt.year\n",
    "df_cluster_ve['mois'] = df_cluster_ve.date_arrete.dt.month\n",
    "df_cluster_ve.drop(['date_arrete'],axis=1,inplace=True)"
   ]
  },
  {
   "cell_type": "code",
   "execution_count": 23,
   "metadata": {},
   "outputs": [
    {
     "data": {
      "text/html": [
       "<div>\n",
       "<style scoped>\n",
       "    .dataframe tbody tr th:only-of-type {\n",
       "        vertical-align: middle;\n",
       "    }\n",
       "\n",
       "    .dataframe tbody tr th {\n",
       "        vertical-align: top;\n",
       "    }\n",
       "\n",
       "    .dataframe thead th {\n",
       "        text-align: right;\n",
       "    }\n",
       "</style>\n",
       "<table border=\"1\" class=\"dataframe\">\n",
       "  <thead>\n",
       "    <tr style=\"text-align: right;\">\n",
       "      <th></th>\n",
       "      <th>cluster</th>\n",
       "      <th>nb_vp_rechargeables_el</th>\n",
       "      <th>emissions</th>\n",
       "      <th>TMJA</th>\n",
       "      <th>annee</th>\n",
       "      <th>mois</th>\n",
       "    </tr>\n",
       "  </thead>\n",
       "  <tbody>\n",
       "    <tr>\n",
       "      <th>0</th>\n",
       "      <td>0</td>\n",
       "      <td>0</td>\n",
       "      <td>327.11</td>\n",
       "      <td>19921.84</td>\n",
       "      <td>2014</td>\n",
       "      <td>3</td>\n",
       "    </tr>\n",
       "    <tr>\n",
       "      <th>1</th>\n",
       "      <td>0</td>\n",
       "      <td>0</td>\n",
       "      <td>327.11</td>\n",
       "      <td>19921.84</td>\n",
       "      <td>2014</td>\n",
       "      <td>6</td>\n",
       "    </tr>\n",
       "    <tr>\n",
       "      <th>2</th>\n",
       "      <td>0</td>\n",
       "      <td>0</td>\n",
       "      <td>327.11</td>\n",
       "      <td>19921.84</td>\n",
       "      <td>2014</td>\n",
       "      <td>9</td>\n",
       "    </tr>\n",
       "    <tr>\n",
       "      <th>3</th>\n",
       "      <td>0</td>\n",
       "      <td>0</td>\n",
       "      <td>327.11</td>\n",
       "      <td>19921.84</td>\n",
       "      <td>2014</td>\n",
       "      <td>12</td>\n",
       "    </tr>\n",
       "    <tr>\n",
       "      <th>4</th>\n",
       "      <td>0</td>\n",
       "      <td>1</td>\n",
       "      <td>331.58</td>\n",
       "      <td>22018.90</td>\n",
       "      <td>2015</td>\n",
       "      <td>3</td>\n",
       "    </tr>\n",
       "  </tbody>\n",
       "</table>\n",
       "</div>"
      ],
      "text/plain": [
       "   cluster  nb_vp_rechargeables_el  emissions     TMJA  annee  mois\n",
       "0        0                       0     327.11 19921.84   2014     3\n",
       "1        0                       0     327.11 19921.84   2014     6\n",
       "2        0                       0     327.11 19921.84   2014     9\n",
       "3        0                       0     327.11 19921.84   2014    12\n",
       "4        0                       1     331.58 22018.90   2015     3"
      ]
     },
     "execution_count": 23,
     "metadata": {},
     "output_type": "execute_result"
    }
   ],
   "source": [
    "df_cluster_ve['nb_vp_rechargeables_el'] = df_cluster_ve['nb_vp_rechargeables_el'].astype(int)\n",
    "df_cluster_ve.head()"
   ]
  },
  {
   "attachments": {},
   "cell_type": "markdown",
   "metadata": {},
   "source": [
    "# Prediction du nombre des véhicules"
   ]
  },
  {
   "cell_type": "code",
   "execution_count": 24,
   "metadata": {},
   "outputs": [
    {
     "name": "stdout",
     "output_type": "stream",
     "text": [
      "Requirement already satisfied: lazypredict in c:\\users\\maram\\anaconda3\\envs\\env\\lib\\site-packages (0.2.12)\n",
      "Requirement already satisfied: joblib in c:\\users\\maram\\anaconda3\\envs\\env\\lib\\site-packages (from lazypredict) (1.2.0)\n",
      "Requirement already satisfied: scikit-learn in c:\\users\\maram\\anaconda3\\envs\\env\\lib\\site-packages (from lazypredict) (1.2.0)\n",
      "Requirement already satisfied: click in c:\\users\\maram\\anaconda3\\envs\\env\\lib\\site-packages (from lazypredict) (8.1.3)\n",
      "Requirement already satisfied: pandas in c:\\users\\maram\\anaconda3\\envs\\env\\lib\\site-packages (from lazypredict) (1.5.2)\n",
      "Requirement already satisfied: lightgbm in c:\\users\\maram\\anaconda3\\envs\\env\\lib\\site-packages (from lazypredict) (3.3.4)\n",
      "Requirement already satisfied: xgboost in c:\\users\\maram\\anaconda3\\envs\\env\\lib\\site-packages (from lazypredict) (1.7.3)\n",
      "Requirement already satisfied: tqdm in c:\\users\\maram\\anaconda3\\envs\\env\\lib\\site-packages (from lazypredict) (4.64.1)\n",
      "Requirement already satisfied: colorama in c:\\users\\maram\\anaconda3\\envs\\env\\lib\\site-packages (from click->lazypredict) (0.4.6)\n",
      "Requirement already satisfied: scipy in c:\\users\\maram\\anaconda3\\envs\\env\\lib\\site-packages (from lightgbm->lazypredict) (1.10.0)\n",
      "Requirement already satisfied: wheel in c:\\users\\maram\\anaconda3\\envs\\env\\lib\\site-packages (from lightgbm->lazypredict) (0.37.1)\n",
      "Requirement already satisfied: numpy in c:\\users\\maram\\anaconda3\\envs\\env\\lib\\site-packages (from lightgbm->lazypredict) (1.23.5)\n",
      "Requirement already satisfied: threadpoolctl>=2.0.0 in c:\\users\\maram\\anaconda3\\envs\\env\\lib\\site-packages (from scikit-learn->lazypredict) (3.1.0)\n",
      "Requirement already satisfied: python-dateutil>=2.8.1 in c:\\users\\maram\\anaconda3\\envs\\env\\lib\\site-packages (from pandas->lazypredict) (2.8.2)\n",
      "Requirement already satisfied: pytz>=2020.1 in c:\\users\\maram\\anaconda3\\envs\\env\\lib\\site-packages (from pandas->lazypredict) (2022.7.1)\n",
      "Requirement already satisfied: six>=1.5 in c:\\users\\maram\\anaconda3\\envs\\env\\lib\\site-packages (from python-dateutil>=2.8.1->pandas->lazypredict) (1.16.0)\n",
      "Note: you may need to restart the kernel to use updated packages.\n"
     ]
    }
   ],
   "source": [
    "pip install lazypredict"
   ]
  },
  {
   "cell_type": "code",
   "execution_count": 25,
   "metadata": {},
   "outputs": [
    {
     "name": "stdout",
     "output_type": "stream",
     "text": [
      "Requirement already satisfied: scikit-learn in c:\\users\\maram\\anaconda3\\envs\\env\\lib\\site-packages (1.2.0)\n",
      "Requirement already satisfied: threadpoolctl>=2.0.0 in c:\\users\\maram\\anaconda3\\envs\\env\\lib\\site-packages (from scikit-learn) (3.1.0)\n",
      "Requirement already satisfied: joblib>=1.1.1 in c:\\users\\maram\\anaconda3\\envs\\env\\lib\\site-packages (from scikit-learn) (1.2.0)\n",
      "Requirement already satisfied: scipy>=1.3.2 in c:\\users\\maram\\anaconda3\\envs\\env\\lib\\site-packages (from scikit-learn) (1.10.0)\n",
      "Requirement already satisfied: numpy>=1.17.3 in c:\\users\\maram\\anaconda3\\envs\\env\\lib\\site-packages (from scikit-learn) (1.23.5)\n",
      "Note: you may need to restart the kernel to use updated packages.\n"
     ]
    }
   ],
   "source": [
    "pip install scikit-learn"
   ]
  },
  {
   "cell_type": "code",
   "execution_count": 26,
   "metadata": {},
   "outputs": [],
   "source": [
    "from sklearn.ensemble import RandomForestRegressor\n",
    "from sklearn.preprocessing import MinMaxScaler\n",
    "from sklearn.model_selection import train_test_split\n",
    "from sklearn.metrics import mean_squared_error\n",
    "from sklearn.tree import DecisionTreeRegressor\n",
    "from sklearn.model_selection import GridSearchCV\n",
    "from IPython.display import display, clear_output"
   ]
  },
  {
   "cell_type": "code",
   "execution_count": 27,
   "metadata": {},
   "outputs": [],
   "source": [
    "train, test = train_test_split(df_cluster_ve, test_size=0.2, random_state=42)"
   ]
  },
  {
   "cell_type": "code",
   "execution_count": 28,
   "metadata": {},
   "outputs": [],
   "source": [
    "X = train.drop(['nb_vp_rechargeables_el'],axis=1)\n",
    "y_train = train['nb_vp_rechargeables_el']\n",
    "scaler = MinMaxScaler()\n",
    "X_train = scaler.fit_transform(X)\n",
    "X_test= scaler.transform(test.drop(['nb_vp_rechargeables_el'],axis=1))\n",
    "y_test = test['nb_vp_rechargeables_el']"
   ]
  },
  {
   "cell_type": "code",
   "execution_count": 29,
   "metadata": {},
   "outputs": [
    {
     "name": "stderr",
     "output_type": "stream",
     "text": [
      " 17%|█▋        | 7/42 [00:00<00:00, 55.96it/s]"
     ]
    },
    {
     "name": "stdout",
     "output_type": "stream",
     "text": [
      "GammaRegressor model failed to execute\n",
      "Some value(s) of y are out of the valid range of the loss 'HalfGammaLoss'.\n"
     ]
    },
    {
     "name": "stderr",
     "output_type": "stream",
     "text": [
      "100%|██████████| 42/42 [00:36<00:00,  1.15it/s]\n"
     ]
    }
   ],
   "source": [
    "\n",
    "reg = LazyRegressor(verbose=0, ignore_warnings=False, custom_metric=None)\n",
    "models, predictions = reg.fit(X_train, X_test, y_train, y_test)"
   ]
  },
  {
   "cell_type": "code",
   "execution_count": 30,
   "metadata": {},
   "outputs": [
    {
     "data": {
      "text/html": [
       "<div>\n",
       "<style scoped>\n",
       "    .dataframe tbody tr th:only-of-type {\n",
       "        vertical-align: middle;\n",
       "    }\n",
       "\n",
       "    .dataframe tbody tr th {\n",
       "        vertical-align: top;\n",
       "    }\n",
       "\n",
       "    .dataframe thead th {\n",
       "        text-align: right;\n",
       "    }\n",
       "</style>\n",
       "<table border=\"1\" class=\"dataframe\">\n",
       "  <thead>\n",
       "    <tr style=\"text-align: right;\">\n",
       "      <th></th>\n",
       "      <th>Adjusted R-Squared</th>\n",
       "      <th>R-Squared</th>\n",
       "      <th>RMSE</th>\n",
       "      <th>Time Taken</th>\n",
       "    </tr>\n",
       "    <tr>\n",
       "      <th>Model</th>\n",
       "      <th></th>\n",
       "      <th></th>\n",
       "      <th></th>\n",
       "      <th></th>\n",
       "    </tr>\n",
       "  </thead>\n",
       "  <tbody>\n",
       "    <tr>\n",
       "      <th>DecisionTreeRegressor</th>\n",
       "      <td>1.00</td>\n",
       "      <td>1.00</td>\n",
       "      <td>3.50</td>\n",
       "      <td>0.01</td>\n",
       "    </tr>\n",
       "    <tr>\n",
       "      <th>XGBRegressor</th>\n",
       "      <td>1.00</td>\n",
       "      <td>1.00</td>\n",
       "      <td>4.44</td>\n",
       "      <td>1.59</td>\n",
       "    </tr>\n",
       "    <tr>\n",
       "      <th>ExtraTreeRegressor</th>\n",
       "      <td>1.00</td>\n",
       "      <td>1.00</td>\n",
       "      <td>6.68</td>\n",
       "      <td>0.01</td>\n",
       "    </tr>\n",
       "    <tr>\n",
       "      <th>ExtraTreesRegressor</th>\n",
       "      <td>1.00</td>\n",
       "      <td>1.00</td>\n",
       "      <td>21.29</td>\n",
       "      <td>0.18</td>\n",
       "    </tr>\n",
       "    <tr>\n",
       "      <th>GradientBoostingRegressor</th>\n",
       "      <td>0.98</td>\n",
       "      <td>0.98</td>\n",
       "      <td>56.55</td>\n",
       "      <td>0.08</td>\n",
       "    </tr>\n",
       "    <tr>\n",
       "      <th>RandomForestRegressor</th>\n",
       "      <td>0.84</td>\n",
       "      <td>0.85</td>\n",
       "      <td>145.16</td>\n",
       "      <td>0.25</td>\n",
       "    </tr>\n",
       "    <tr>\n",
       "      <th>HistGradientBoostingRegressor</th>\n",
       "      <td>0.81</td>\n",
       "      <td>0.81</td>\n",
       "      <td>160.57</td>\n",
       "      <td>0.36</td>\n",
       "    </tr>\n",
       "    <tr>\n",
       "      <th>AdaBoostRegressor</th>\n",
       "      <td>0.79</td>\n",
       "      <td>0.79</td>\n",
       "      <td>167.65</td>\n",
       "      <td>0.02</td>\n",
       "    </tr>\n",
       "    <tr>\n",
       "      <th>LGBMRegressor</th>\n",
       "      <td>0.78</td>\n",
       "      <td>0.78</td>\n",
       "      <td>171.76</td>\n",
       "      <td>0.06</td>\n",
       "    </tr>\n",
       "    <tr>\n",
       "      <th>MLPRegressor</th>\n",
       "      <td>0.23</td>\n",
       "      <td>0.25</td>\n",
       "      <td>320.41</td>\n",
       "      <td>0.37</td>\n",
       "    </tr>\n",
       "    <tr>\n",
       "      <th>GaussianProcessRegressor</th>\n",
       "      <td>0.17</td>\n",
       "      <td>0.19</td>\n",
       "      <td>332.57</td>\n",
       "      <td>0.09</td>\n",
       "    </tr>\n",
       "    <tr>\n",
       "      <th>TweedieRegressor</th>\n",
       "      <td>0.17</td>\n",
       "      <td>0.18</td>\n",
       "      <td>334.00</td>\n",
       "      <td>0.01</td>\n",
       "    </tr>\n",
       "    <tr>\n",
       "      <th>ElasticNet</th>\n",
       "      <td>0.16</td>\n",
       "      <td>0.17</td>\n",
       "      <td>335.78</td>\n",
       "      <td>0.00</td>\n",
       "    </tr>\n",
       "    <tr>\n",
       "      <th>ElasticNetCV</th>\n",
       "      <td>0.13</td>\n",
       "      <td>0.14</td>\n",
       "      <td>341.55</td>\n",
       "      <td>0.05</td>\n",
       "    </tr>\n",
       "    <tr>\n",
       "      <th>LassoCV</th>\n",
       "      <td>0.08</td>\n",
       "      <td>0.10</td>\n",
       "      <td>350.99</td>\n",
       "      <td>0.04</td>\n",
       "    </tr>\n",
       "    <tr>\n",
       "      <th>LassoLarsIC</th>\n",
       "      <td>0.08</td>\n",
       "      <td>0.10</td>\n",
       "      <td>351.14</td>\n",
       "      <td>0.01</td>\n",
       "    </tr>\n",
       "    <tr>\n",
       "      <th>LassoLarsCV</th>\n",
       "      <td>0.08</td>\n",
       "      <td>0.09</td>\n",
       "      <td>351.47</td>\n",
       "      <td>0.01</td>\n",
       "    </tr>\n",
       "    <tr>\n",
       "      <th>LarsCV</th>\n",
       "      <td>0.08</td>\n",
       "      <td>0.09</td>\n",
       "      <td>351.47</td>\n",
       "      <td>0.01</td>\n",
       "    </tr>\n",
       "    <tr>\n",
       "      <th>BayesianRidge</th>\n",
       "      <td>0.07</td>\n",
       "      <td>0.09</td>\n",
       "      <td>352.67</td>\n",
       "      <td>0.01</td>\n",
       "    </tr>\n",
       "    <tr>\n",
       "      <th>RidgeCV</th>\n",
       "      <td>0.06</td>\n",
       "      <td>0.08</td>\n",
       "      <td>353.86</td>\n",
       "      <td>0.02</td>\n",
       "    </tr>\n",
       "    <tr>\n",
       "      <th>LassoLars</th>\n",
       "      <td>0.06</td>\n",
       "      <td>0.08</td>\n",
       "      <td>354.16</td>\n",
       "      <td>0.01</td>\n",
       "    </tr>\n",
       "    <tr>\n",
       "      <th>Lasso</th>\n",
       "      <td>0.06</td>\n",
       "      <td>0.08</td>\n",
       "      <td>354.16</td>\n",
       "      <td>0.01</td>\n",
       "    </tr>\n",
       "    <tr>\n",
       "      <th>Ridge</th>\n",
       "      <td>0.06</td>\n",
       "      <td>0.08</td>\n",
       "      <td>354.54</td>\n",
       "      <td>0.00</td>\n",
       "    </tr>\n",
       "    <tr>\n",
       "      <th>LinearRegression</th>\n",
       "      <td>0.06</td>\n",
       "      <td>0.08</td>\n",
       "      <td>354.62</td>\n",
       "      <td>0.00</td>\n",
       "    </tr>\n",
       "    <tr>\n",
       "      <th>TransformedTargetRegressor</th>\n",
       "      <td>0.06</td>\n",
       "      <td>0.08</td>\n",
       "      <td>354.62</td>\n",
       "      <td>0.01</td>\n",
       "    </tr>\n",
       "    <tr>\n",
       "      <th>Lars</th>\n",
       "      <td>0.06</td>\n",
       "      <td>0.08</td>\n",
       "      <td>354.62</td>\n",
       "      <td>0.01</td>\n",
       "    </tr>\n",
       "    <tr>\n",
       "      <th>OrthogonalMatchingPursuitCV</th>\n",
       "      <td>0.06</td>\n",
       "      <td>0.08</td>\n",
       "      <td>354.64</td>\n",
       "      <td>0.01</td>\n",
       "    </tr>\n",
       "    <tr>\n",
       "      <th>SGDRegressor</th>\n",
       "      <td>0.05</td>\n",
       "      <td>0.07</td>\n",
       "      <td>355.80</td>\n",
       "      <td>0.01</td>\n",
       "    </tr>\n",
       "    <tr>\n",
       "      <th>OrthogonalMatchingPursuit</th>\n",
       "      <td>0.03</td>\n",
       "      <td>0.05</td>\n",
       "      <td>359.62</td>\n",
       "      <td>0.01</td>\n",
       "    </tr>\n",
       "    <tr>\n",
       "      <th>BaggingRegressor</th>\n",
       "      <td>0.02</td>\n",
       "      <td>0.04</td>\n",
       "      <td>361.96</td>\n",
       "      <td>0.03</td>\n",
       "    </tr>\n",
       "    <tr>\n",
       "      <th>KernelRidge</th>\n",
       "      <td>0.02</td>\n",
       "      <td>0.04</td>\n",
       "      <td>362.14</td>\n",
       "      <td>0.04</td>\n",
       "    </tr>\n",
       "    <tr>\n",
       "      <th>DummyRegressor</th>\n",
       "      <td>-0.02</td>\n",
       "      <td>-0.01</td>\n",
       "      <td>370.38</td>\n",
       "      <td>0.00</td>\n",
       "    </tr>\n",
       "    <tr>\n",
       "      <th>HuberRegressor</th>\n",
       "      <td>-0.03</td>\n",
       "      <td>-0.01</td>\n",
       "      <td>370.56</td>\n",
       "      <td>0.01</td>\n",
       "    </tr>\n",
       "    <tr>\n",
       "      <th>PassiveAggressiveRegressor</th>\n",
       "      <td>-0.03</td>\n",
       "      <td>-0.01</td>\n",
       "      <td>371.14</td>\n",
       "      <td>0.01</td>\n",
       "    </tr>\n",
       "    <tr>\n",
       "      <th>LinearSVR</th>\n",
       "      <td>-0.04</td>\n",
       "      <td>-0.02</td>\n",
       "      <td>372.85</td>\n",
       "      <td>0.00</td>\n",
       "    </tr>\n",
       "    <tr>\n",
       "      <th>NuSVR</th>\n",
       "      <td>-0.04</td>\n",
       "      <td>-0.02</td>\n",
       "      <td>373.29</td>\n",
       "      <td>0.07</td>\n",
       "    </tr>\n",
       "    <tr>\n",
       "      <th>SVR</th>\n",
       "      <td>-0.04</td>\n",
       "      <td>-0.02</td>\n",
       "      <td>373.64</td>\n",
       "      <td>0.07</td>\n",
       "    </tr>\n",
       "    <tr>\n",
       "      <th>RANSACRegressor</th>\n",
       "      <td>-0.08</td>\n",
       "      <td>-0.06</td>\n",
       "      <td>380.70</td>\n",
       "      <td>0.08</td>\n",
       "    </tr>\n",
       "    <tr>\n",
       "      <th>QuantileRegressor</th>\n",
       "      <td>-0.09</td>\n",
       "      <td>-0.07</td>\n",
       "      <td>381.32</td>\n",
       "      <td>33.06</td>\n",
       "    </tr>\n",
       "    <tr>\n",
       "      <th>KNeighborsRegressor</th>\n",
       "      <td>-0.33</td>\n",
       "      <td>-0.31</td>\n",
       "      <td>422.59</td>\n",
       "      <td>0.01</td>\n",
       "    </tr>\n",
       "    <tr>\n",
       "      <th>PoissonRegressor</th>\n",
       "      <td>-0.49</td>\n",
       "      <td>-0.46</td>\n",
       "      <td>446.65</td>\n",
       "      <td>0.01</td>\n",
       "    </tr>\n",
       "  </tbody>\n",
       "</table>\n",
       "</div>"
      ],
      "text/plain": [
       "                               Adjusted R-Squared  R-Squared   RMSE  \\\n",
       "Model                                                                 \n",
       "DecisionTreeRegressor                        1.00       1.00   3.50   \n",
       "XGBRegressor                                 1.00       1.00   4.44   \n",
       "ExtraTreeRegressor                           1.00       1.00   6.68   \n",
       "ExtraTreesRegressor                          1.00       1.00  21.29   \n",
       "GradientBoostingRegressor                    0.98       0.98  56.55   \n",
       "RandomForestRegressor                        0.84       0.85 145.16   \n",
       "HistGradientBoostingRegressor                0.81       0.81 160.57   \n",
       "AdaBoostRegressor                            0.79       0.79 167.65   \n",
       "LGBMRegressor                                0.78       0.78 171.76   \n",
       "MLPRegressor                                 0.23       0.25 320.41   \n",
       "GaussianProcessRegressor                     0.17       0.19 332.57   \n",
       "TweedieRegressor                             0.17       0.18 334.00   \n",
       "ElasticNet                                   0.16       0.17 335.78   \n",
       "ElasticNetCV                                 0.13       0.14 341.55   \n",
       "LassoCV                                      0.08       0.10 350.99   \n",
       "LassoLarsIC                                  0.08       0.10 351.14   \n",
       "LassoLarsCV                                  0.08       0.09 351.47   \n",
       "LarsCV                                       0.08       0.09 351.47   \n",
       "BayesianRidge                                0.07       0.09 352.67   \n",
       "RidgeCV                                      0.06       0.08 353.86   \n",
       "LassoLars                                    0.06       0.08 354.16   \n",
       "Lasso                                        0.06       0.08 354.16   \n",
       "Ridge                                        0.06       0.08 354.54   \n",
       "LinearRegression                             0.06       0.08 354.62   \n",
       "TransformedTargetRegressor                   0.06       0.08 354.62   \n",
       "Lars                                         0.06       0.08 354.62   \n",
       "OrthogonalMatchingPursuitCV                  0.06       0.08 354.64   \n",
       "SGDRegressor                                 0.05       0.07 355.80   \n",
       "OrthogonalMatchingPursuit                    0.03       0.05 359.62   \n",
       "BaggingRegressor                             0.02       0.04 361.96   \n",
       "KernelRidge                                  0.02       0.04 362.14   \n",
       "DummyRegressor                              -0.02      -0.01 370.38   \n",
       "HuberRegressor                              -0.03      -0.01 370.56   \n",
       "PassiveAggressiveRegressor                  -0.03      -0.01 371.14   \n",
       "LinearSVR                                   -0.04      -0.02 372.85   \n",
       "NuSVR                                       -0.04      -0.02 373.29   \n",
       "SVR                                         -0.04      -0.02 373.64   \n",
       "RANSACRegressor                             -0.08      -0.06 380.70   \n",
       "QuantileRegressor                           -0.09      -0.07 381.32   \n",
       "KNeighborsRegressor                         -0.33      -0.31 422.59   \n",
       "PoissonRegressor                            -0.49      -0.46 446.65   \n",
       "\n",
       "                               Time Taken  \n",
       "Model                                      \n",
       "DecisionTreeRegressor                0.01  \n",
       "XGBRegressor                         1.59  \n",
       "ExtraTreeRegressor                   0.01  \n",
       "ExtraTreesRegressor                  0.18  \n",
       "GradientBoostingRegressor            0.08  \n",
       "RandomForestRegressor                0.25  \n",
       "HistGradientBoostingRegressor        0.36  \n",
       "AdaBoostRegressor                    0.02  \n",
       "LGBMRegressor                        0.06  \n",
       "MLPRegressor                         0.37  \n",
       "GaussianProcessRegressor             0.09  \n",
       "TweedieRegressor                     0.01  \n",
       "ElasticNet                           0.00  \n",
       "ElasticNetCV                         0.05  \n",
       "LassoCV                              0.04  \n",
       "LassoLarsIC                          0.01  \n",
       "LassoLarsCV                          0.01  \n",
       "LarsCV                               0.01  \n",
       "BayesianRidge                        0.01  \n",
       "RidgeCV                              0.02  \n",
       "LassoLars                            0.01  \n",
       "Lasso                                0.01  \n",
       "Ridge                                0.00  \n",
       "LinearRegression                     0.00  \n",
       "TransformedTargetRegressor           0.01  \n",
       "Lars                                 0.01  \n",
       "OrthogonalMatchingPursuitCV          0.01  \n",
       "SGDRegressor                         0.01  \n",
       "OrthogonalMatchingPursuit            0.01  \n",
       "BaggingRegressor                     0.03  \n",
       "KernelRidge                          0.04  \n",
       "DummyRegressor                       0.00  \n",
       "HuberRegressor                       0.01  \n",
       "PassiveAggressiveRegressor           0.01  \n",
       "LinearSVR                            0.00  \n",
       "NuSVR                                0.07  \n",
       "SVR                                  0.07  \n",
       "RANSACRegressor                      0.08  \n",
       "QuantileRegressor                   33.06  \n",
       "KNeighborsRegressor                  0.01  \n",
       "PoissonRegressor                     0.01  "
      ]
     },
     "execution_count": 30,
     "metadata": {},
     "output_type": "execute_result"
    }
   ],
   "source": [
    "models"
   ]
  },
  {
   "cell_type": "code",
   "execution_count": 31,
   "metadata": {},
   "outputs": [],
   "source": [
    "# create a Decition Tree model on the training data\n",
    "# Fit regression model\n",
    "regr_1 = DecisionTreeRegressor()\n",
    "regr_1.fit(X_train, y_train)\n",
    "\n",
    "\n",
    "# Predict\n",
    "y_1 = regr_1.predict(X_test)\n",
    "\n"
   ]
  },
  {
   "cell_type": "code",
   "execution_count": 32,
   "metadata": {},
   "outputs": [
    {
     "data": {
      "text/plain": [
       "3.5437824651894116"
      ]
     },
     "execution_count": 32,
     "metadata": {},
     "output_type": "execute_result"
    }
   ],
   "source": [
    "rmse = np.sqrt(mean_squared_error(y_test, y_1))\n",
    "rmse"
   ]
  },
  {
   "cell_type": "code",
   "execution_count": 33,
   "metadata": {},
   "outputs": [
    {
     "name": "stdout",
     "output_type": "stream",
     "text": [
      "[DecisionTreeRegressor]\n",
      "best RMSE: 137.44\n",
      "best hyperparams: {'max_depth': 9, 'min_samples_leaf': 1}\n"
     ]
    }
   ],
   "source": [
    "\n",
    "def grid_search(name, model, params, verbose=False, cv=5):\n",
    "    grid_search = GridSearchCV(model, params, cv=5, scoring='neg_root_mean_squared_error', verbose=3, n_jobs=-1)\n",
    "    grid_search.fit(X_train, y_train)\n",
    "\n",
    "    clear_output()\n",
    "    display()\n",
    "    print(f'[{name}]')\n",
    "    print(f'best RMSE: {-grid_search.best_score_:.2f}')\n",
    "    print(f'best hyperparams: {grid_search.best_params_}')\n",
    "    return grid_search\n",
    "grid_search_random_forest = grid_search('DecisionTreeRegressor', DecisionTreeRegressor(), params={\n",
    "    'max_depth': [1,3,5,7,9,11,12],\n",
    "    'min_samples_leaf': [1,2,3,4,5,6,7,8,9,10]})"
   ]
  },
  {
   "cell_type": "code",
   "execution_count": 34,
   "metadata": {},
   "outputs": [
    {
     "name": "stdout",
     "output_type": "stream",
     "text": [
      "[RandomForestRegressor]\n",
      "best RMSE: 117.53\n",
      "best hyperparams: {'max_depth': 20, 'max_features': 1.0, 'min_samples_split': 2, 'n_estimators': 100}\n"
     ]
    }
   ],
   "source": [
    "grid_search_random_forest = grid_search('RandomForestRegressor', RandomForestRegressor(), params={\n",
    "      'n_estimators': [50, 100, 200],\n",
    "    'max_depth': [10, 20, None],\n",
    "    'max_features': ['sqrt', 'log2', 1.0],\n",
    "    'min_samples_split': [2, 5]})"
   ]
  },
  {
   "cell_type": "code",
   "execution_count": 35,
   "metadata": {},
   "outputs": [
    {
     "name": "stdout",
     "output_type": "stream",
     "text": [
      "[GradientBoostingRegressor]\n",
      "best RMSE: 75.99\n",
      "best hyperparams: {'learning_rate': 0.2, 'max_depth': 3, 'n_estimators': 200}\n"
     ]
    }
   ],
   "source": [
    "# import GradientBoostingRegressor\n",
    "grid_search_gradient_boosting = grid_search('GradientBoostingRegressor', GradientBoostingRegressor(), params={\n",
    "    'n_estimators': [50, 100, 200],\n",
    "    'learning_rate': [0.2, 0.1, 0.05],\n",
    "    'max_depth': [2, 3, 5],\n",
    "})"
   ]
  },
  {
   "cell_type": "code",
   "execution_count": 36,
   "metadata": {},
   "outputs": [
    {
     "data": {
      "text/plain": [
       "101.9186641503399"
      ]
     },
     "execution_count": 36,
     "metadata": {},
     "output_type": "execute_result"
    }
   ],
   "source": [
    "\n",
    "\n",
    "# initialize and fit the model\n",
    "model = RandomForestRegressor()\n",
    "model.fit(X_train, y_train)\n",
    "\n",
    "X_test_scaled = scaler.transform(test.drop(['nb_vp_rechargeables_el'],axis=1))\n",
    "y_test = test['nb_vp_rechargeables_el']\n",
    "# make predictions\n",
    "predictions = model.predict(X_test_scaled)\n",
    "# compute the rmse\n",
    "rmse = np.sqrt(mean_squared_error(y_test, predictions))\n",
    "rmse"
   ]
  },
  {
   "cell_type": "code",
   "execution_count": 37,
   "metadata": {},
   "outputs": [
    {
     "data": {
      "image/png": "[encoded data removed]",
      "text/plain": [
       "<Figure size 640x480 with 1 Axes>"
      ]
     },
     "metadata": {},
     "output_type": "display_data"
    }
   ],
   "source": [
    "importances = model.feature_importances_\n",
    "std = np.std([tree.feature_importances_ for tree in model.estimators_], axis=0)\n",
    "feature_names = X.columns\n",
    "forest_importances = pd.Series(importances, index=feature_names)\n",
    "\n",
    "fig, ax = plt.subplots()\n",
    "forest_importances.plot.bar(yerr=std, ax=ax)\n",
    "ax.set_title(\"Feature importances using MDI\")\n",
    "ax.set_ylabel(\"Mean decrease in impurity\")\n",
    "fig.tight_layout()"
   ]
  },
  {
   "cell_type": "code",
   "execution_count": 38,
   "metadata": {},
   "outputs": [
    {
     "data": {
      "image/png": "[encoded data removed]",
      "text/plain": [
       "<Figure size 640x480 with 1 Axes>"
      ]
     },
     "metadata": {},
     "output_type": "display_data"
    }
   ],
   "source": [
    "\n",
    "# Sort the feature importance in descending order\n",
    "#\n",
    "sorted_indices = np.argsort(importances)[::-1]\n",
    "\n",
    "plt.title('Feature Importance')\n",
    "plt.bar(range(X.shape[1]), importances[sorted_indices], align='center')\n",
    "plt.xticks(range(X.shape[1]), X.columns[sorted_indices], rotation=90)\n",
    "plt.tight_layout()\n",
    "plt.show()"
   ]
  },
  {
   "cell_type": "code",
   "execution_count": 39,
   "metadata": {},
   "outputs": [
    {
     "name": "stdout",
     "output_type": "stream",
     "text": [
      "Mean RMSE: 5.712 (3.098)\n"
     ]
    }
   ],
   "source": [
    "X = df_cluster_ve.drop(['nb_vp_rechargeables_el'],axis=1)\n",
    "y = df_cluster_ve['nb_vp_rechargeables_el']\n",
    "# create an xgboost regression model\n",
    "model = XGBRegressor()\n",
    "# define model evaluation method\n",
    "cv = RepeatedKFold(n_splits=10, n_repeats=3, random_state=1)\n",
    "# evaluate model\n",
    "scores = cross_val_score(model, X, y, scoring='neg_root_mean_squared_error', cv=cv, n_jobs=-1)\n",
    "# force scores to be positive\n",
    "scores = absolute(scores)\n",
    "print('Mean RMSE: %.3f (%.3f)' % (scores.mean(), scores.std()) )"
   ]
  },
  {
   "cell_type": "code",
   "execution_count": null,
   "metadata": {},
   "outputs": [],
   "source": []
  }
 ],
 "metadata": {
  "kernelspec": {
   "display_name": "env",
   "language": "python",
   "name": "python3"
  },
  "language_info": {
   "codemirror_mode": {
    "name": "ipython",
    "version": 3
   },
   "file_extension": ".py",
   "mimetype": "text/x-python",
   "name": "python",
   "nbconvert_exporter": "python",
   "pygments_lexer": "ipython3",
   "version": "3.10.8"
  },
  "orig_nbformat": 4,
  "vscode": {
   "interpreter": {
    "hash": "7ba4d9131b28a25e673a5eedffce26d9d813237da3453983d8ab74cee15e9ce5"
   }
  }
 },
 "nbformat": 4,
 "nbformat_minor": 2
}
